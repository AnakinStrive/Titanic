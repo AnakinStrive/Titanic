{
  "cells": [
    {
      "cell_type": "code",
      "metadata": {
        "tags": [],
        "cell_id": "00000-b9e5ee56-45b7-4c56-a9c7-39a51afbb01a",
        "deepnote_to_be_reexecuted": false,
        "source_hash": "5e71a1f2",
        "execution_start": 1619775631760,
        "execution_millis": 20,
        "deepnote_cell_type": "code"
      },
      "source": "import pandas as pd\nimport numpy as np\nimport matplotlib.pyplot as plt\nimport seaborn as sns\n%matplotlib inline\nfrom sklearn.datasets import load_breast_cancer\nfrom sklearn.model_selection import train_test_split\nfrom sklearn import svm\nfrom sklearn.metrics import f1_score\nfrom sklearn.metrics import jaccard_score\nfrom sklearn.model_selection import GridSearchCV\nfrom sklearn.metrics import confusion_matrix",
      "execution_count": 9,
      "outputs": []
    },
    {
      "cell_type": "code",
      "metadata": {
        "tags": [],
        "cell_id": "00001-a0eaac93-089c-40e5-a129-2f315feac1a4",
        "deepnote_to_be_reexecuted": false,
        "source_hash": "c04386e7",
        "execution_start": 1619775632676,
        "execution_millis": 136,
        "deepnote_cell_type": "code"
      },
      "source": "df=pd.read_csv('./train.csv')\ndf.info()\ndf.head()\n",
      "execution_count": 10,
      "outputs": [
        {
          "name": "stdout",
          "text": "<class 'pandas.core.frame.DataFrame'>\nRangeIndex: 891 entries, 0 to 890\nData columns (total 12 columns):\n #   Column       Non-Null Count  Dtype  \n---  ------       --------------  -----  \n 0   PassengerId  891 non-null    int64  \n 1   Survived     891 non-null    int64  \n 2   Pclass       891 non-null    int64  \n 3   Name         891 non-null    object \n 4   Sex          891 non-null    object \n 5   Age          714 non-null    float64\n 6   SibSp        891 non-null    int64  \n 7   Parch        891 non-null    int64  \n 8   Ticket       891 non-null    object \n 9   Fare         891 non-null    float64\n 10  Cabin        204 non-null    object \n 11  Embarked     889 non-null    object \ndtypes: float64(2), int64(5), object(5)\nmemory usage: 83.7+ KB\n",
          "output_type": "stream"
        },
        {
          "output_type": "execute_result",
          "execution_count": 10,
          "data": {
            "application/vnd.deepnote.dataframe.v2+json": {
              "row_count": 5,
              "column_count": 12,
              "columns": [
                {
                  "name": "PassengerId",
                  "dtype": "int64",
                  "stats": {
                    "unique_count": 5,
                    "nan_count": 0,
                    "min": "1",
                    "max": "5",
                    "histogram": [
                      {
                        "bin_start": 1,
                        "bin_end": 1.4,
                        "count": 1
                      },
                      {
                        "bin_start": 1.4,
                        "bin_end": 1.8,
                        "count": 0
                      },
                      {
                        "bin_start": 1.8,
                        "bin_end": 2.2,
                        "count": 1
                      },
                      {
                        "bin_start": 2.2,
                        "bin_end": 2.6,
                        "count": 0
                      },
                      {
                        "bin_start": 2.6,
                        "bin_end": 3,
                        "count": 0
                      },
                      {
                        "bin_start": 3,
                        "bin_end": 3.4000000000000004,
                        "count": 1
                      },
                      {
                        "bin_start": 3.4000000000000004,
                        "bin_end": 3.8000000000000003,
                        "count": 0
                      },
                      {
                        "bin_start": 3.8000000000000003,
                        "bin_end": 4.2,
                        "count": 1
                      },
                      {
                        "bin_start": 4.2,
                        "bin_end": 4.6,
                        "count": 0
                      },
                      {
                        "bin_start": 4.6,
                        "bin_end": 5,
                        "count": 1
                      }
                    ]
                  }
                },
                {
                  "name": "Survived",
                  "dtype": "int64",
                  "stats": {
                    "unique_count": 2,
                    "nan_count": 0,
                    "min": "0",
                    "max": "1",
                    "histogram": [
                      {
                        "bin_start": 0,
                        "bin_end": 0.1,
                        "count": 2
                      },
                      {
                        "bin_start": 0.1,
                        "bin_end": 0.2,
                        "count": 0
                      },
                      {
                        "bin_start": 0.2,
                        "bin_end": 0.30000000000000004,
                        "count": 0
                      },
                      {
                        "bin_start": 0.30000000000000004,
                        "bin_end": 0.4,
                        "count": 0
                      },
                      {
                        "bin_start": 0.4,
                        "bin_end": 0.5,
                        "count": 0
                      },
                      {
                        "bin_start": 0.5,
                        "bin_end": 0.6000000000000001,
                        "count": 0
                      },
                      {
                        "bin_start": 0.6000000000000001,
                        "bin_end": 0.7000000000000001,
                        "count": 0
                      },
                      {
                        "bin_start": 0.7000000000000001,
                        "bin_end": 0.8,
                        "count": 0
                      },
                      {
                        "bin_start": 0.8,
                        "bin_end": 0.9,
                        "count": 0
                      },
                      {
                        "bin_start": 0.9,
                        "bin_end": 1,
                        "count": 3
                      }
                    ]
                  }
                },
                {
                  "name": "Pclass",
                  "dtype": "int64",
                  "stats": {
                    "unique_count": 2,
                    "nan_count": 0,
                    "min": "1",
                    "max": "3",
                    "histogram": [
                      {
                        "bin_start": 1,
                        "bin_end": 1.2,
                        "count": 2
                      },
                      {
                        "bin_start": 1.2,
                        "bin_end": 1.4,
                        "count": 0
                      },
                      {
                        "bin_start": 1.4,
                        "bin_end": 1.6,
                        "count": 0
                      },
                      {
                        "bin_start": 1.6,
                        "bin_end": 1.8,
                        "count": 0
                      },
                      {
                        "bin_start": 1.8,
                        "bin_end": 2,
                        "count": 0
                      },
                      {
                        "bin_start": 2,
                        "bin_end": 2.2,
                        "count": 0
                      },
                      {
                        "bin_start": 2.2,
                        "bin_end": 2.4000000000000004,
                        "count": 0
                      },
                      {
                        "bin_start": 2.4000000000000004,
                        "bin_end": 2.6,
                        "count": 0
                      },
                      {
                        "bin_start": 2.6,
                        "bin_end": 2.8,
                        "count": 0
                      },
                      {
                        "bin_start": 2.8,
                        "bin_end": 3,
                        "count": 3
                      }
                    ]
                  }
                },
                {
                  "name": "Name",
                  "dtype": "object",
                  "stats": {
                    "unique_count": 5,
                    "nan_count": 0,
                    "categories": [
                      {
                        "name": "Braund, Mr. Owen Harris",
                        "count": 1
                      },
                      {
                        "name": "Cumings, Mrs. John Bradley (Florence Briggs Thayer)",
                        "count": 1
                      },
                      {
                        "name": "3 others",
                        "count": 3
                      }
                    ]
                  }
                },
                {
                  "name": "Sex",
                  "dtype": "object",
                  "stats": {
                    "unique_count": 2,
                    "nan_count": 0,
                    "categories": [
                      {
                        "name": "female",
                        "count": 3
                      },
                      {
                        "name": "male",
                        "count": 2
                      }
                    ]
                  }
                },
                {
                  "name": "Age",
                  "dtype": "float64",
                  "stats": {
                    "unique_count": 4,
                    "nan_count": 0,
                    "min": "22.0",
                    "max": "38.0",
                    "histogram": [
                      {
                        "bin_start": 22,
                        "bin_end": 23.6,
                        "count": 1
                      },
                      {
                        "bin_start": 23.6,
                        "bin_end": 25.2,
                        "count": 0
                      },
                      {
                        "bin_start": 25.2,
                        "bin_end": 26.8,
                        "count": 1
                      },
                      {
                        "bin_start": 26.8,
                        "bin_end": 28.4,
                        "count": 0
                      },
                      {
                        "bin_start": 28.4,
                        "bin_end": 30,
                        "count": 0
                      },
                      {
                        "bin_start": 30,
                        "bin_end": 31.6,
                        "count": 0
                      },
                      {
                        "bin_start": 31.6,
                        "bin_end": 33.2,
                        "count": 0
                      },
                      {
                        "bin_start": 33.2,
                        "bin_end": 34.8,
                        "count": 0
                      },
                      {
                        "bin_start": 34.8,
                        "bin_end": 36.4,
                        "count": 2
                      },
                      {
                        "bin_start": 36.4,
                        "bin_end": 38,
                        "count": 1
                      }
                    ]
                  }
                },
                {
                  "name": "SibSp",
                  "dtype": "int64",
                  "stats": {
                    "unique_count": 2,
                    "nan_count": 0,
                    "min": "0",
                    "max": "1",
                    "histogram": [
                      {
                        "bin_start": 0,
                        "bin_end": 0.1,
                        "count": 2
                      },
                      {
                        "bin_start": 0.1,
                        "bin_end": 0.2,
                        "count": 0
                      },
                      {
                        "bin_start": 0.2,
                        "bin_end": 0.30000000000000004,
                        "count": 0
                      },
                      {
                        "bin_start": 0.30000000000000004,
                        "bin_end": 0.4,
                        "count": 0
                      },
                      {
                        "bin_start": 0.4,
                        "bin_end": 0.5,
                        "count": 0
                      },
                      {
                        "bin_start": 0.5,
                        "bin_end": 0.6000000000000001,
                        "count": 0
                      },
                      {
                        "bin_start": 0.6000000000000001,
                        "bin_end": 0.7000000000000001,
                        "count": 0
                      },
                      {
                        "bin_start": 0.7000000000000001,
                        "bin_end": 0.8,
                        "count": 0
                      },
                      {
                        "bin_start": 0.8,
                        "bin_end": 0.9,
                        "count": 0
                      },
                      {
                        "bin_start": 0.9,
                        "bin_end": 1,
                        "count": 3
                      }
                    ]
                  }
                },
                {
                  "name": "Parch",
                  "dtype": "int64",
                  "stats": {
                    "unique_count": 1,
                    "nan_count": 0,
                    "min": "0",
                    "max": "0",
                    "histogram": [
                      {
                        "bin_start": -0.5,
                        "bin_end": -0.4,
                        "count": 0
                      },
                      {
                        "bin_start": -0.4,
                        "bin_end": -0.3,
                        "count": 0
                      },
                      {
                        "bin_start": -0.3,
                        "bin_end": -0.19999999999999996,
                        "count": 0
                      },
                      {
                        "bin_start": -0.19999999999999996,
                        "bin_end": -0.09999999999999998,
                        "count": 0
                      },
                      {
                        "bin_start": -0.09999999999999998,
                        "bin_end": 0,
                        "count": 0
                      },
                      {
                        "bin_start": 0,
                        "bin_end": 0.10000000000000009,
                        "count": 5
                      },
                      {
                        "bin_start": 0.10000000000000009,
                        "bin_end": 0.20000000000000007,
                        "count": 0
                      },
                      {
                        "bin_start": 0.20000000000000007,
                        "bin_end": 0.30000000000000004,
                        "count": 0
                      },
                      {
                        "bin_start": 0.30000000000000004,
                        "bin_end": 0.4,
                        "count": 0
                      },
                      {
                        "bin_start": 0.4,
                        "bin_end": 0.5,
                        "count": 0
                      }
                    ]
                  }
                },
                {
                  "name": "Ticket",
                  "dtype": "object",
                  "stats": {
                    "unique_count": 5,
                    "nan_count": 0,
                    "categories": [
                      {
                        "name": "A/5 21171",
                        "count": 1
                      },
                      {
                        "name": "PC 17599",
                        "count": 1
                      },
                      {
                        "name": "3 others",
                        "count": 3
                      }
                    ]
                  }
                },
                {
                  "name": "Fare",
                  "dtype": "float64",
                  "stats": {
                    "unique_count": 5,
                    "nan_count": 0,
                    "min": "7.25",
                    "max": "71.2833",
                    "histogram": [
                      {
                        "bin_start": 7.25,
                        "bin_end": 13.65333,
                        "count": 3
                      },
                      {
                        "bin_start": 13.65333,
                        "bin_end": 20.05666,
                        "count": 0
                      },
                      {
                        "bin_start": 20.05666,
                        "bin_end": 26.459989999999998,
                        "count": 0
                      },
                      {
                        "bin_start": 26.459989999999998,
                        "bin_end": 32.86332,
                        "count": 0
                      },
                      {
                        "bin_start": 32.86332,
                        "bin_end": 39.26665,
                        "count": 0
                      },
                      {
                        "bin_start": 39.26665,
                        "bin_end": 45.669979999999995,
                        "count": 0
                      },
                      {
                        "bin_start": 45.669979999999995,
                        "bin_end": 52.07331,
                        "count": 0
                      },
                      {
                        "bin_start": 52.07331,
                        "bin_end": 58.476639999999996,
                        "count": 1
                      },
                      {
                        "bin_start": 58.476639999999996,
                        "bin_end": 64.87996999999999,
                        "count": 0
                      },
                      {
                        "bin_start": 64.87996999999999,
                        "bin_end": 71.2833,
                        "count": 1
                      }
                    ]
                  }
                },
                {
                  "name": "Cabin",
                  "dtype": "object",
                  "stats": {
                    "unique_count": 2,
                    "nan_count": 3,
                    "categories": [
                      {
                        "name": "C85",
                        "count": 1
                      },
                      {
                        "name": "C123",
                        "count": 1
                      },
                      {
                        "name": "Missing",
                        "count": 3
                      }
                    ]
                  }
                },
                {
                  "name": "Embarked",
                  "dtype": "object",
                  "stats": {
                    "unique_count": 2,
                    "nan_count": 0,
                    "categories": [
                      {
                        "name": "S",
                        "count": 4
                      },
                      {
                        "name": "C",
                        "count": 1
                      }
                    ]
                  }
                },
                {
                  "name": "_deepnote_index_column",
                  "dtype": "int64"
                }
              ],
              "rows_top": [
                {
                  "PassengerId": 1,
                  "Survived": 0,
                  "Pclass": 3,
                  "Name": "Braund, Mr. Owen Harris",
                  "Sex": "male",
                  "Age": 22,
                  "SibSp": 1,
                  "Parch": 0,
                  "Ticket": "A/5 21171",
                  "Fare": 7.25,
                  "Cabin": "nan",
                  "Embarked": "S",
                  "_deepnote_index_column": 0
                },
                {
                  "PassengerId": 2,
                  "Survived": 1,
                  "Pclass": 1,
                  "Name": "Cumings, Mrs. John Bradley (Florence Briggs Thayer)",
                  "Sex": "female",
                  "Age": 38,
                  "SibSp": 1,
                  "Parch": 0,
                  "Ticket": "PC 17599",
                  "Fare": 71.2833,
                  "Cabin": "C85",
                  "Embarked": "C",
                  "_deepnote_index_column": 1
                },
                {
                  "PassengerId": 3,
                  "Survived": 1,
                  "Pclass": 3,
                  "Name": "Heikkinen, Miss. Laina",
                  "Sex": "female",
                  "Age": 26,
                  "SibSp": 0,
                  "Parch": 0,
                  "Ticket": "STON/O2. 3101282",
                  "Fare": 7.925,
                  "Cabin": "nan",
                  "Embarked": "S",
                  "_deepnote_index_column": 2
                },
                {
                  "PassengerId": 4,
                  "Survived": 1,
                  "Pclass": 1,
                  "Name": "Futrelle, Mrs. Jacques Heath (Lily May Peel)",
                  "Sex": "female",
                  "Age": 35,
                  "SibSp": 1,
                  "Parch": 0,
                  "Ticket": "113803",
                  "Fare": 53.1,
                  "Cabin": "C123",
                  "Embarked": "S",
                  "_deepnote_index_column": 3
                },
                {
                  "PassengerId": 5,
                  "Survived": 0,
                  "Pclass": 3,
                  "Name": "Allen, Mr. William Henry",
                  "Sex": "male",
                  "Age": 35,
                  "SibSp": 0,
                  "Parch": 0,
                  "Ticket": "373450",
                  "Fare": 8.05,
                  "Cabin": "nan",
                  "Embarked": "S",
                  "_deepnote_index_column": 4
                }
              ],
              "rows_bottom": null
            },
            "text/plain": "   PassengerId  Survived  Pclass  \\\n0            1         0       3   \n1            2         1       1   \n2            3         1       3   \n3            4         1       1   \n4            5         0       3   \n\n                                                Name     Sex   Age  SibSp  \\\n0                            Braund, Mr. Owen Harris    male  22.0      1   \n1  Cumings, Mrs. John Bradley (Florence Briggs Th...  female  38.0      1   \n2                             Heikkinen, Miss. Laina  female  26.0      0   \n3       Futrelle, Mrs. Jacques Heath (Lily May Peel)  female  35.0      1   \n4                           Allen, Mr. William Henry    male  35.0      0   \n\n   Parch            Ticket     Fare Cabin Embarked  \n0      0         A/5 21171   7.2500   NaN        S  \n1      0          PC 17599  71.2833   C85        C  \n2      0  STON/O2. 3101282   7.9250   NaN        S  \n3      0            113803  53.1000  C123        S  \n4      0            373450   8.0500   NaN        S  ",
            "text/html": "<div>\n<style scoped>\n    .dataframe tbody tr th:only-of-type {\n        vertical-align: middle;\n    }\n\n    .dataframe tbody tr th {\n        vertical-align: top;\n    }\n\n    .dataframe thead th {\n        text-align: right;\n    }\n</style>\n<table border=\"1\" class=\"dataframe\">\n  <thead>\n    <tr style=\"text-align: right;\">\n      <th></th>\n      <th>PassengerId</th>\n      <th>Survived</th>\n      <th>Pclass</th>\n      <th>Name</th>\n      <th>Sex</th>\n      <th>Age</th>\n      <th>SibSp</th>\n      <th>Parch</th>\n      <th>Ticket</th>\n      <th>Fare</th>\n      <th>Cabin</th>\n      <th>Embarked</th>\n    </tr>\n  </thead>\n  <tbody>\n    <tr>\n      <th>0</th>\n      <td>1</td>\n      <td>0</td>\n      <td>3</td>\n      <td>Braund, Mr. Owen Harris</td>\n      <td>male</td>\n      <td>22.0</td>\n      <td>1</td>\n      <td>0</td>\n      <td>A/5 21171</td>\n      <td>7.2500</td>\n      <td>NaN</td>\n      <td>S</td>\n    </tr>\n    <tr>\n      <th>1</th>\n      <td>2</td>\n      <td>1</td>\n      <td>1</td>\n      <td>Cumings, Mrs. John Bradley (Florence Briggs Th...</td>\n      <td>female</td>\n      <td>38.0</td>\n      <td>1</td>\n      <td>0</td>\n      <td>PC 17599</td>\n      <td>71.2833</td>\n      <td>C85</td>\n      <td>C</td>\n    </tr>\n    <tr>\n      <th>2</th>\n      <td>3</td>\n      <td>1</td>\n      <td>3</td>\n      <td>Heikkinen, Miss. Laina</td>\n      <td>female</td>\n      <td>26.0</td>\n      <td>0</td>\n      <td>0</td>\n      <td>STON/O2. 3101282</td>\n      <td>7.9250</td>\n      <td>NaN</td>\n      <td>S</td>\n    </tr>\n    <tr>\n      <th>3</th>\n      <td>4</td>\n      <td>1</td>\n      <td>1</td>\n      <td>Futrelle, Mrs. Jacques Heath (Lily May Peel)</td>\n      <td>female</td>\n      <td>35.0</td>\n      <td>1</td>\n      <td>0</td>\n      <td>113803</td>\n      <td>53.1000</td>\n      <td>C123</td>\n      <td>S</td>\n    </tr>\n    <tr>\n      <th>4</th>\n      <td>5</td>\n      <td>0</td>\n      <td>3</td>\n      <td>Allen, Mr. William Henry</td>\n      <td>male</td>\n      <td>35.0</td>\n      <td>0</td>\n      <td>0</td>\n      <td>373450</td>\n      <td>8.0500</td>\n      <td>NaN</td>\n      <td>S</td>\n    </tr>\n  </tbody>\n</table>\n</div>"
          },
          "metadata": {}
        }
      ]
    },
    {
      "cell_type": "code",
      "source": "df_KNN = df.iloc[:, :10]\ndf_KNN['Sex'] = df_KNN.Sex.replace({'male': 0, 'female': 1})\ndf_KNN = df_KNN.sort_values(by='Age')\n# df = df[df.line_race != 0]\n# df.loc[df['column_name'] == some_value]\ndf_to_predict = df_KNN.loc[df_KNN['Age'].isna()]\ndf_KNN_train = df_KNN.loc[df_KNN['Age'].notna()]\ndf_KNN_train.head()",
      "metadata": {
        "tags": [],
        "cell_id": "00002-7b451188-caa7-488e-8903-423586d914fc",
        "deepnote_to_be_reexecuted": false,
        "source_hash": "e188af80",
        "execution_start": 1619775634225,
        "execution_millis": 126,
        "deepnote_cell_type": "code"
      },
      "outputs": [
        {
          "output_type": "execute_result",
          "execution_count": 11,
          "data": {
            "application/vnd.deepnote.dataframe.v2+json": {
              "row_count": 5,
              "column_count": 10,
              "columns": [
                {
                  "name": "PassengerId",
                  "dtype": "int64",
                  "stats": {
                    "unique_count": 5,
                    "nan_count": 0,
                    "min": "79",
                    "max": "804",
                    "histogram": [
                      {
                        "bin_start": 79,
                        "bin_end": 151.5,
                        "count": 1
                      },
                      {
                        "bin_start": 151.5,
                        "bin_end": 224,
                        "count": 0
                      },
                      {
                        "bin_start": 224,
                        "bin_end": 296.5,
                        "count": 0
                      },
                      {
                        "bin_start": 296.5,
                        "bin_end": 369,
                        "count": 0
                      },
                      {
                        "bin_start": 369,
                        "bin_end": 441.5,
                        "count": 0
                      },
                      {
                        "bin_start": 441.5,
                        "bin_end": 514,
                        "count": 1
                      },
                      {
                        "bin_start": 514,
                        "bin_end": 586.5,
                        "count": 0
                      },
                      {
                        "bin_start": 586.5,
                        "bin_end": 659,
                        "count": 1
                      },
                      {
                        "bin_start": 659,
                        "bin_end": 731.5,
                        "count": 0
                      },
                      {
                        "bin_start": 731.5,
                        "bin_end": 804,
                        "count": 2
                      }
                    ]
                  }
                },
                {
                  "name": "Survived",
                  "dtype": "int64",
                  "stats": {
                    "unique_count": 1,
                    "nan_count": 0,
                    "min": "1",
                    "max": "1",
                    "histogram": [
                      {
                        "bin_start": 0.5,
                        "bin_end": 0.6,
                        "count": 0
                      },
                      {
                        "bin_start": 0.6,
                        "bin_end": 0.7,
                        "count": 0
                      },
                      {
                        "bin_start": 0.7,
                        "bin_end": 0.8,
                        "count": 0
                      },
                      {
                        "bin_start": 0.8,
                        "bin_end": 0.9,
                        "count": 0
                      },
                      {
                        "bin_start": 0.9,
                        "bin_end": 1,
                        "count": 0
                      },
                      {
                        "bin_start": 1,
                        "bin_end": 1.1,
                        "count": 5
                      },
                      {
                        "bin_start": 1.1,
                        "bin_end": 1.2000000000000002,
                        "count": 0
                      },
                      {
                        "bin_start": 1.2000000000000002,
                        "bin_end": 1.3,
                        "count": 0
                      },
                      {
                        "bin_start": 1.3,
                        "bin_end": 1.4,
                        "count": 0
                      },
                      {
                        "bin_start": 1.4,
                        "bin_end": 1.5,
                        "count": 0
                      }
                    ]
                  }
                },
                {
                  "name": "Pclass",
                  "dtype": "int64",
                  "stats": {
                    "unique_count": 2,
                    "nan_count": 0,
                    "min": "2",
                    "max": "3",
                    "histogram": [
                      {
                        "bin_start": 2,
                        "bin_end": 2.1,
                        "count": 2
                      },
                      {
                        "bin_start": 2.1,
                        "bin_end": 2.2,
                        "count": 0
                      },
                      {
                        "bin_start": 2.2,
                        "bin_end": 2.3,
                        "count": 0
                      },
                      {
                        "bin_start": 2.3,
                        "bin_end": 2.4,
                        "count": 0
                      },
                      {
                        "bin_start": 2.4,
                        "bin_end": 2.5,
                        "count": 0
                      },
                      {
                        "bin_start": 2.5,
                        "bin_end": 2.6,
                        "count": 0
                      },
                      {
                        "bin_start": 2.6,
                        "bin_end": 2.7,
                        "count": 0
                      },
                      {
                        "bin_start": 2.7,
                        "bin_end": 2.8,
                        "count": 0
                      },
                      {
                        "bin_start": 2.8,
                        "bin_end": 2.9,
                        "count": 0
                      },
                      {
                        "bin_start": 2.9,
                        "bin_end": 3,
                        "count": 3
                      }
                    ]
                  }
                },
                {
                  "name": "Name",
                  "dtype": "object",
                  "stats": {
                    "unique_count": 5,
                    "nan_count": 0,
                    "categories": [
                      {
                        "name": "Thomas, Master. Assad Alexander",
                        "count": 1
                      },
                      {
                        "name": "Hamalainen, Master. Viljo",
                        "count": 1
                      },
                      {
                        "name": "3 others",
                        "count": 3
                      }
                    ]
                  }
                },
                {
                  "name": "Sex",
                  "dtype": "int64",
                  "stats": {
                    "unique_count": 2,
                    "nan_count": 0,
                    "min": "0",
                    "max": "1",
                    "histogram": [
                      {
                        "bin_start": 0,
                        "bin_end": 0.1,
                        "count": 3
                      },
                      {
                        "bin_start": 0.1,
                        "bin_end": 0.2,
                        "count": 0
                      },
                      {
                        "bin_start": 0.2,
                        "bin_end": 0.30000000000000004,
                        "count": 0
                      },
                      {
                        "bin_start": 0.30000000000000004,
                        "bin_end": 0.4,
                        "count": 0
                      },
                      {
                        "bin_start": 0.4,
                        "bin_end": 0.5,
                        "count": 0
                      },
                      {
                        "bin_start": 0.5,
                        "bin_end": 0.6000000000000001,
                        "count": 0
                      },
                      {
                        "bin_start": 0.6000000000000001,
                        "bin_end": 0.7000000000000001,
                        "count": 0
                      },
                      {
                        "bin_start": 0.7000000000000001,
                        "bin_end": 0.8,
                        "count": 0
                      },
                      {
                        "bin_start": 0.8,
                        "bin_end": 0.9,
                        "count": 0
                      },
                      {
                        "bin_start": 0.9,
                        "bin_end": 1,
                        "count": 2
                      }
                    ]
                  }
                },
                {
                  "name": "Age",
                  "dtype": "float64",
                  "stats": {
                    "unique_count": 4,
                    "nan_count": 0,
                    "min": "0.42",
                    "max": "0.83",
                    "histogram": [
                      {
                        "bin_start": 0.42,
                        "bin_end": 0.46099999999999997,
                        "count": 1
                      },
                      {
                        "bin_start": 0.46099999999999997,
                        "bin_end": 0.502,
                        "count": 0
                      },
                      {
                        "bin_start": 0.502,
                        "bin_end": 0.5429999999999999,
                        "count": 0
                      },
                      {
                        "bin_start": 0.5429999999999999,
                        "bin_end": 0.584,
                        "count": 0
                      },
                      {
                        "bin_start": 0.584,
                        "bin_end": 0.625,
                        "count": 0
                      },
                      {
                        "bin_start": 0.625,
                        "bin_end": 0.6659999999999999,
                        "count": 0
                      },
                      {
                        "bin_start": 0.6659999999999999,
                        "bin_end": 0.707,
                        "count": 1
                      },
                      {
                        "bin_start": 0.707,
                        "bin_end": 0.748,
                        "count": 0
                      },
                      {
                        "bin_start": 0.748,
                        "bin_end": 0.7889999999999999,
                        "count": 2
                      },
                      {
                        "bin_start": 0.7889999999999999,
                        "bin_end": 0.83,
                        "count": 1
                      }
                    ]
                  }
                },
                {
                  "name": "SibSp",
                  "dtype": "int64",
                  "stats": {
                    "unique_count": 3,
                    "nan_count": 0,
                    "min": "0",
                    "max": "2",
                    "histogram": [
                      {
                        "bin_start": 0,
                        "bin_end": 0.2,
                        "count": 2
                      },
                      {
                        "bin_start": 0.2,
                        "bin_end": 0.4,
                        "count": 0
                      },
                      {
                        "bin_start": 0.4,
                        "bin_end": 0.6000000000000001,
                        "count": 0
                      },
                      {
                        "bin_start": 0.6000000000000001,
                        "bin_end": 0.8,
                        "count": 0
                      },
                      {
                        "bin_start": 0.8,
                        "bin_end": 1,
                        "count": 0
                      },
                      {
                        "bin_start": 1,
                        "bin_end": 1.2000000000000002,
                        "count": 1
                      },
                      {
                        "bin_start": 1.2000000000000002,
                        "bin_end": 1.4000000000000001,
                        "count": 0
                      },
                      {
                        "bin_start": 1.4000000000000001,
                        "bin_end": 1.6,
                        "count": 0
                      },
                      {
                        "bin_start": 1.6,
                        "bin_end": 1.8,
                        "count": 0
                      },
                      {
                        "bin_start": 1.8,
                        "bin_end": 2,
                        "count": 2
                      }
                    ]
                  }
                },
                {
                  "name": "Parch",
                  "dtype": "int64",
                  "stats": {
                    "unique_count": 2,
                    "nan_count": 0,
                    "min": "1",
                    "max": "2",
                    "histogram": [
                      {
                        "bin_start": 1,
                        "bin_end": 1.1,
                        "count": 4
                      },
                      {
                        "bin_start": 1.1,
                        "bin_end": 1.2,
                        "count": 0
                      },
                      {
                        "bin_start": 1.2,
                        "bin_end": 1.3,
                        "count": 0
                      },
                      {
                        "bin_start": 1.3,
                        "bin_end": 1.4,
                        "count": 0
                      },
                      {
                        "bin_start": 1.4,
                        "bin_end": 1.5,
                        "count": 0
                      },
                      {
                        "bin_start": 1.5,
                        "bin_end": 1.6,
                        "count": 0
                      },
                      {
                        "bin_start": 1.6,
                        "bin_end": 1.7000000000000002,
                        "count": 0
                      },
                      {
                        "bin_start": 1.7000000000000002,
                        "bin_end": 1.8,
                        "count": 0
                      },
                      {
                        "bin_start": 1.8,
                        "bin_end": 1.9,
                        "count": 0
                      },
                      {
                        "bin_start": 1.9,
                        "bin_end": 2,
                        "count": 1
                      }
                    ]
                  }
                },
                {
                  "name": "Ticket",
                  "dtype": "object",
                  "stats": {
                    "unique_count": 4,
                    "nan_count": 0,
                    "categories": [
                      {
                        "name": "2666",
                        "count": 2
                      },
                      {
                        "name": "2625",
                        "count": 1
                      },
                      {
                        "name": "2 others",
                        "count": 2
                      }
                    ]
                  }
                },
                {
                  "name": "Fare",
                  "dtype": "float64",
                  "stats": {
                    "unique_count": 4,
                    "nan_count": 0,
                    "min": "8.5167",
                    "max": "29.0",
                    "histogram": [
                      {
                        "bin_start": 8.5167,
                        "bin_end": 10.56503,
                        "count": 1
                      },
                      {
                        "bin_start": 10.56503,
                        "bin_end": 12.61336,
                        "count": 0
                      },
                      {
                        "bin_start": 12.61336,
                        "bin_end": 14.66169,
                        "count": 1
                      },
                      {
                        "bin_start": 14.66169,
                        "bin_end": 16.71002,
                        "count": 0
                      },
                      {
                        "bin_start": 16.71002,
                        "bin_end": 18.75835,
                        "count": 0
                      },
                      {
                        "bin_start": 18.75835,
                        "bin_end": 20.80668,
                        "count": 2
                      },
                      {
                        "bin_start": 20.80668,
                        "bin_end": 22.85501,
                        "count": 0
                      },
                      {
                        "bin_start": 22.85501,
                        "bin_end": 24.90334,
                        "count": 0
                      },
                      {
                        "bin_start": 24.90334,
                        "bin_end": 26.95167,
                        "count": 0
                      },
                      {
                        "bin_start": 26.95167,
                        "bin_end": 29,
                        "count": 1
                      }
                    ]
                  }
                },
                {
                  "name": "_deepnote_index_column",
                  "dtype": "int64"
                }
              ],
              "rows_top": [
                {
                  "PassengerId": 804,
                  "Survived": 1,
                  "Pclass": 3,
                  "Name": "Thomas, Master. Assad Alexander",
                  "Sex": 0,
                  "Age": 0.42,
                  "SibSp": 0,
                  "Parch": 1,
                  "Ticket": "2625",
                  "Fare": 8.5167,
                  "_deepnote_index_column": 803
                },
                {
                  "PassengerId": 756,
                  "Survived": 1,
                  "Pclass": 2,
                  "Name": "Hamalainen, Master. Viljo",
                  "Sex": 0,
                  "Age": 0.67,
                  "SibSp": 1,
                  "Parch": 1,
                  "Ticket": "250649",
                  "Fare": 14.5,
                  "_deepnote_index_column": 755
                },
                {
                  "PassengerId": 645,
                  "Survived": 1,
                  "Pclass": 3,
                  "Name": "Baclini, Miss. Eugenie",
                  "Sex": 1,
                  "Age": 0.75,
                  "SibSp": 2,
                  "Parch": 1,
                  "Ticket": "2666",
                  "Fare": 19.2583,
                  "_deepnote_index_column": 644
                },
                {
                  "PassengerId": 470,
                  "Survived": 1,
                  "Pclass": 3,
                  "Name": "Baclini, Miss. Helene Barbara",
                  "Sex": 1,
                  "Age": 0.75,
                  "SibSp": 2,
                  "Parch": 1,
                  "Ticket": "2666",
                  "Fare": 19.2583,
                  "_deepnote_index_column": 469
                },
                {
                  "PassengerId": 79,
                  "Survived": 1,
                  "Pclass": 2,
                  "Name": "Caldwell, Master. Alden Gates",
                  "Sex": 0,
                  "Age": 0.83,
                  "SibSp": 0,
                  "Parch": 2,
                  "Ticket": "248738",
                  "Fare": 29,
                  "_deepnote_index_column": 78
                }
              ],
              "rows_bottom": null
            },
            "text/plain": "     PassengerId  Survived  Pclass                             Name  Sex  \\\n803          804         1       3  Thomas, Master. Assad Alexander    0   \n755          756         1       2        Hamalainen, Master. Viljo    0   \n644          645         1       3           Baclini, Miss. Eugenie    1   \n469          470         1       3    Baclini, Miss. Helene Barbara    1   \n78            79         1       2    Caldwell, Master. Alden Gates    0   \n\n      Age  SibSp  Parch  Ticket     Fare  \n803  0.42      0      1    2625   8.5167  \n755  0.67      1      1  250649  14.5000  \n644  0.75      2      1    2666  19.2583  \n469  0.75      2      1    2666  19.2583  \n78   0.83      0      2  248738  29.0000  ",
            "text/html": "<div>\n<style scoped>\n    .dataframe tbody tr th:only-of-type {\n        vertical-align: middle;\n    }\n\n    .dataframe tbody tr th {\n        vertical-align: top;\n    }\n\n    .dataframe thead th {\n        text-align: right;\n    }\n</style>\n<table border=\"1\" class=\"dataframe\">\n  <thead>\n    <tr style=\"text-align: right;\">\n      <th></th>\n      <th>PassengerId</th>\n      <th>Survived</th>\n      <th>Pclass</th>\n      <th>Name</th>\n      <th>Sex</th>\n      <th>Age</th>\n      <th>SibSp</th>\n      <th>Parch</th>\n      <th>Ticket</th>\n      <th>Fare</th>\n    </tr>\n  </thead>\n  <tbody>\n    <tr>\n      <th>803</th>\n      <td>804</td>\n      <td>1</td>\n      <td>3</td>\n      <td>Thomas, Master. Assad Alexander</td>\n      <td>0</td>\n      <td>0.42</td>\n      <td>0</td>\n      <td>1</td>\n      <td>2625</td>\n      <td>8.5167</td>\n    </tr>\n    <tr>\n      <th>755</th>\n      <td>756</td>\n      <td>1</td>\n      <td>2</td>\n      <td>Hamalainen, Master. Viljo</td>\n      <td>0</td>\n      <td>0.67</td>\n      <td>1</td>\n      <td>1</td>\n      <td>250649</td>\n      <td>14.5000</td>\n    </tr>\n    <tr>\n      <th>644</th>\n      <td>645</td>\n      <td>1</td>\n      <td>3</td>\n      <td>Baclini, Miss. Eugenie</td>\n      <td>1</td>\n      <td>0.75</td>\n      <td>2</td>\n      <td>1</td>\n      <td>2666</td>\n      <td>19.2583</td>\n    </tr>\n    <tr>\n      <th>469</th>\n      <td>470</td>\n      <td>1</td>\n      <td>3</td>\n      <td>Baclini, Miss. Helene Barbara</td>\n      <td>1</td>\n      <td>0.75</td>\n      <td>2</td>\n      <td>1</td>\n      <td>2666</td>\n      <td>19.2583</td>\n    </tr>\n    <tr>\n      <th>78</th>\n      <td>79</td>\n      <td>1</td>\n      <td>2</td>\n      <td>Caldwell, Master. Alden Gates</td>\n      <td>0</td>\n      <td>0.83</td>\n      <td>0</td>\n      <td>2</td>\n      <td>248738</td>\n      <td>29.0000</td>\n    </tr>\n  </tbody>\n</table>\n</div>"
          },
          "metadata": {}
        }
      ],
      "execution_count": 11
    },
    {
      "cell_type": "code",
      "source": "cols = ['Survived', 'Pclass', 'Sex', 'SibSp', 'Parch']\nX = df_KNN_train[cols].values\nY = df_KNN_train['Age'].values\nX = X[7:,:]\nY = Y[7:]\nx_train, x_test, y_train, y_test = train_test_split(X, Y, train_size=0.8, random_state=73)\n# print(X.shape)\n# print(Y.shape)\n\n",
      "metadata": {
        "tags": [],
        "cell_id": "00003-d84a55e7-7f4d-418e-b1e1-4d6c02036890",
        "deepnote_to_be_reexecuted": false,
        "source_hash": "77cc1178",
        "execution_start": 1619776573315,
        "execution_millis": 0,
        "deepnote_cell_type": "code"
      },
      "outputs": [],
      "execution_count": 47
    },
    {
      "cell_type": "code",
      "source": "x_real = df_to_predict[cols].values\nx_real.shape",
      "metadata": {
        "tags": [],
        "cell_id": "00004-f637bd04-81a2-463a-b686-f953fb7844ff",
        "deepnote_to_be_reexecuted": false,
        "source_hash": "445b31a0",
        "execution_start": 1619776661822,
        "execution_millis": 32,
        "deepnote_cell_type": "code"
      },
      "outputs": [
        {
          "output_type": "execute_result",
          "execution_count": 51,
          "data": {
            "text/plain": "(177, 5)"
          },
          "metadata": {}
        }
      ],
      "execution_count": 51
    },
    {
      "cell_type": "code",
      "source": "from sklearn import svm\n\nregr = svm.SVC()\n\nregr.fit(X=x_train, y=y_train)\n",
      "metadata": {
        "tags": [],
        "cell_id": "00004-52c58372-5dbd-423a-9ed5-8a042ad7613c",
        "deepnote_to_be_reexecuted": false,
        "source_hash": "f56b9e67",
        "execution_start": 1619778086558,
        "execution_millis": 78,
        "deepnote_cell_type": "code"
      },
      "outputs": [
        {
          "output_type": "error",
          "ename": "ValueError",
          "evalue": "Unknown label type: 'continuous'",
          "traceback": [
            "\u001b[0;31m---------------------------------------------------------------------------\u001b[0m",
            "\u001b[0;31mValueError\u001b[0m                                Traceback (most recent call last)",
            "\u001b[0;32m<ipython-input-69-de12cf98717f>\u001b[0m in \u001b[0;36m<module>\u001b[0;34m\u001b[0m\n\u001b[1;32m      3\u001b[0m \u001b[0mregr\u001b[0m \u001b[0;34m=\u001b[0m \u001b[0msvm\u001b[0m\u001b[0;34m.\u001b[0m\u001b[0mSVC\u001b[0m\u001b[0;34m(\u001b[0m\u001b[0;34m)\u001b[0m\u001b[0;34m\u001b[0m\u001b[0;34m\u001b[0m\u001b[0m\n\u001b[1;32m      4\u001b[0m \u001b[0;34m\u001b[0m\u001b[0m\n\u001b[0;32m----> 5\u001b[0;31m \u001b[0mregr\u001b[0m\u001b[0;34m.\u001b[0m\u001b[0mfit\u001b[0m\u001b[0;34m(\u001b[0m\u001b[0mX\u001b[0m\u001b[0;34m=\u001b[0m\u001b[0mx_train\u001b[0m\u001b[0;34m,\u001b[0m \u001b[0my\u001b[0m\u001b[0;34m=\u001b[0m\u001b[0my_train\u001b[0m\u001b[0;34m)\u001b[0m\u001b[0;34m\u001b[0m\u001b[0;34m\u001b[0m\u001b[0m\n\u001b[0m",
            "\u001b[0;32m/shared-libs/python3.7/py/lib/python3.7/site-packages/sklearn/svm/_base.py\u001b[0m in \u001b[0;36mfit\u001b[0;34m(self, X, y, sample_weight)\u001b[0m\n\u001b[1;32m    171\u001b[0m                                        accept_large_sparse=False)\n\u001b[1;32m    172\u001b[0m \u001b[0;34m\u001b[0m\u001b[0m\n\u001b[0;32m--> 173\u001b[0;31m         \u001b[0my\u001b[0m \u001b[0;34m=\u001b[0m \u001b[0mself\u001b[0m\u001b[0;34m.\u001b[0m\u001b[0m_validate_targets\u001b[0m\u001b[0;34m(\u001b[0m\u001b[0my\u001b[0m\u001b[0;34m)\u001b[0m\u001b[0;34m\u001b[0m\u001b[0;34m\u001b[0m\u001b[0m\n\u001b[0m\u001b[1;32m    174\u001b[0m \u001b[0;34m\u001b[0m\u001b[0m\n\u001b[1;32m    175\u001b[0m         sample_weight = np.asarray([]\n",
            "\u001b[0;32m/shared-libs/python3.7/py/lib/python3.7/site-packages/sklearn/svm/_base.py\u001b[0m in \u001b[0;36m_validate_targets\u001b[0;34m(self, y)\u001b[0m\n\u001b[1;32m    551\u001b[0m     \u001b[0;32mdef\u001b[0m \u001b[0m_validate_targets\u001b[0m\u001b[0;34m(\u001b[0m\u001b[0mself\u001b[0m\u001b[0;34m,\u001b[0m \u001b[0my\u001b[0m\u001b[0;34m)\u001b[0m\u001b[0;34m:\u001b[0m\u001b[0;34m\u001b[0m\u001b[0;34m\u001b[0m\u001b[0m\n\u001b[1;32m    552\u001b[0m         \u001b[0my_\u001b[0m \u001b[0;34m=\u001b[0m \u001b[0mcolumn_or_1d\u001b[0m\u001b[0;34m(\u001b[0m\u001b[0my\u001b[0m\u001b[0;34m,\u001b[0m \u001b[0mwarn\u001b[0m\u001b[0;34m=\u001b[0m\u001b[0;32mTrue\u001b[0m\u001b[0;34m)\u001b[0m\u001b[0;34m\u001b[0m\u001b[0;34m\u001b[0m\u001b[0m\n\u001b[0;32m--> 553\u001b[0;31m         \u001b[0mcheck_classification_targets\u001b[0m\u001b[0;34m(\u001b[0m\u001b[0my\u001b[0m\u001b[0;34m)\u001b[0m\u001b[0;34m\u001b[0m\u001b[0;34m\u001b[0m\u001b[0m\n\u001b[0m\u001b[1;32m    554\u001b[0m         \u001b[0mcls\u001b[0m\u001b[0;34m,\u001b[0m \u001b[0my\u001b[0m \u001b[0;34m=\u001b[0m \u001b[0mnp\u001b[0m\u001b[0;34m.\u001b[0m\u001b[0munique\u001b[0m\u001b[0;34m(\u001b[0m\u001b[0my_\u001b[0m\u001b[0;34m,\u001b[0m \u001b[0mreturn_inverse\u001b[0m\u001b[0;34m=\u001b[0m\u001b[0;32mTrue\u001b[0m\u001b[0;34m)\u001b[0m\u001b[0;34m\u001b[0m\u001b[0;34m\u001b[0m\u001b[0m\n\u001b[1;32m    555\u001b[0m         self.class_weight_ = compute_class_weight(self.class_weight,\n",
            "\u001b[0;32m/shared-libs/python3.7/py/lib/python3.7/site-packages/sklearn/utils/multiclass.py\u001b[0m in \u001b[0;36mcheck_classification_targets\u001b[0;34m(y)\u001b[0m\n\u001b[1;32m    181\u001b[0m     if y_type not in ['binary', 'multiclass', 'multiclass-multioutput',\n\u001b[1;32m    182\u001b[0m                       'multilabel-indicator', 'multilabel-sequences']:\n\u001b[0;32m--> 183\u001b[0;31m         \u001b[0;32mraise\u001b[0m \u001b[0mValueError\u001b[0m\u001b[0;34m(\u001b[0m\u001b[0;34m\"Unknown label type: %r\"\u001b[0m \u001b[0;34m%\u001b[0m \u001b[0my_type\u001b[0m\u001b[0;34m)\u001b[0m\u001b[0;34m\u001b[0m\u001b[0;34m\u001b[0m\u001b[0m\n\u001b[0m\u001b[1;32m    184\u001b[0m \u001b[0;34m\u001b[0m\u001b[0m\n\u001b[1;32m    185\u001b[0m \u001b[0;34m\u001b[0m\u001b[0m\n",
            "\u001b[0;31mValueError\u001b[0m: Unknown label type: 'continuous'"
          ]
        }
      ],
      "execution_count": 69
    },
    {
      "cell_type": "code",
      "source": "preds = regr.predict(x_test)",
      "metadata": {
        "tags": [],
        "cell_id": "00005-e06ef84a-4397-4582-9599-130fe0b2131d",
        "deepnote_to_be_reexecuted": false,
        "source_hash": "cea6f7da",
        "execution_start": 1619775816934,
        "execution_millis": 22,
        "deepnote_cell_type": "code"
      },
      "outputs": [],
      "execution_count": 31
    },
    {
      "cell_type": "code",
      "source": "regr.score(x_test,y_test)",
      "metadata": {
        "tags": [],
        "cell_id": "00006-a1b0d18f-7719-43c9-b6d3-032d71813415",
        "deepnote_to_be_reexecuted": false,
        "source_hash": "f70e861b",
        "execution_start": 1619775817400,
        "execution_millis": 28,
        "deepnote_cell_type": "code"
      },
      "outputs": [
        {
          "output_type": "execute_result",
          "execution_count": 32,
          "data": {
            "text/plain": "0.23473166265724876"
          },
          "metadata": {}
        }
      ],
      "execution_count": 32
    },
    {
      "cell_type": "code",
      "source": "preds_int = np.array([int(x) for x in preds])\npreds_int",
      "metadata": {
        "tags": [],
        "cell_id": "00007-224cde7c-9017-47f1-b146-ebc7a5e72d57",
        "deepnote_to_be_reexecuted": false,
        "source_hash": "89cc548c",
        "execution_start": 1619776098267,
        "execution_millis": 17,
        "deepnote_cell_type": "code"
      },
      "outputs": [
        {
          "output_type": "execute_result",
          "execution_count": 39,
          "data": {
            "text/plain": "array([34, 29, 18, 31, 19, 28, 19, 28, 34, 34, 34, 31, 24,  6, 31,  8, 18,\n       34, 34, 27, 38, 31, 28, 39, 19, 19, 49,  7, 26, 34,  8, 32, 37, 34,\n       49, 38, 28, 34, 30, 28, 27, 34, 34, 34, 28, 16, 39, 21, 49, 21, 34,\n       25, 39,  6, 28, 34, 39, 31, 21, 14, 31,  7, 17,  6, 42,  6, 32, 31,\n       14, 34, 34, 28, 26, 34, 34, 35, 38, 24, 38, 26, 38, 34, 34, 21, 42,\n       21, 28, 42,  7, 22, 34, 31, 21, 33, 34, 28, 38, 34, 34, 34, 34,  6,\n       34,  7, 30, 33, 23, 34, 24, 30, 34, 34, 31, 28,  4, 49, 34, 34,  8,\n       38, 31, 34, 19,  6, 26,  6, 34, 34, 21, 28, 27, 34, 22, 30, 34, 34,\n       24, 18, 33, 34, 22, 34])"
          },
          "metadata": {}
        }
      ],
      "execution_count": 39
    },
    {
      "cell_type": "code",
      "source": "y_test",
      "metadata": {
        "tags": [],
        "cell_id": "00008-5707870f-aec3-491f-a425-a4c30058d70a",
        "deepnote_to_be_reexecuted": false,
        "source_hash": "d696aa0b",
        "execution_start": 1619775842691,
        "execution_millis": 42,
        "deepnote_cell_type": "code"
      },
      "outputs": [
        {
          "output_type": "execute_result",
          "execution_count": 34,
          "data": {
            "text/plain": "array([24., 32., 45., 28., 18., 42., 22., 30., 49., 20., 32., 32., 32.,\n        3., 30., 11., 24., 33., 39., 41., 35., 36., 46., 39.,  4., 18.,\n       36.,  9., 18., 25.,  1., 44., 31., 59., 31., 28., 27., 47., 39.,\n       39., 26., 28., 25., 29., 57.,  4., 39., 45., 29., 34., 21., 30.,\n       38.,  2., 18., 19., 29., 24., 24.,  9., 45., 33., 24.,  9., 48.,\n        5., 23., 36.,  3., 42., 40.,  2., 26., 29., 58., 28., 32., 24.,\n       51., 20., 34., 42., 20.,  4., 25., 31., 24., 27.,  2.,  3., 33.,\n       34., 37., 13., 25., 59., 28., 18., 28., 17., 28., 14., 54., 24.,\n       52., 24., 40., 16., 28., 48., 21., 22., 42., 36.,  2., 47., 47.,\n       50., 14., 52., 57., 38., 19.,  4., 47., 17., 18., 38., 45., 36.,\n       58., 39., 24., 17., 32., 20., 19.,  2., 21., 18.,  2., 17.])"
          },
          "metadata": {}
        }
      ],
      "execution_count": 34
    },
    {
      "cell_type": "code",
      "source": "acc = sum(preds_int == y_test) / preds_int.shape[0]\nacc",
      "metadata": {
        "tags": [],
        "cell_id": "00009-598e4706-961b-460b-bcd7-8c18b4a94127",
        "deepnote_to_be_reexecuted": false,
        "source_hash": "91e45c77",
        "execution_start": 1619776446124,
        "execution_millis": 1,
        "deepnote_cell_type": "code"
      },
      "outputs": [
        {
          "output_type": "execute_result",
          "execution_count": 46,
          "data": {
            "text/plain": "0.035211267605633804"
          },
          "metadata": {}
        }
      ],
      "execution_count": 46
    },
    {
      "cell_type": "code",
      "source": "preds_real = regr.predict(x_real)\npreds_real",
      "metadata": {
        "tags": [],
        "cell_id": "00010-46d05565-2454-4081-956e-a1ca4df28a95",
        "deepnote_to_be_reexecuted": false,
        "source_hash": "c2c71cc5",
        "execution_start": 1619776621557,
        "execution_millis": 63,
        "deepnote_cell_type": "code"
      },
      "outputs": [
        {
          "output_type": "execute_result",
          "execution_count": 49,
          "data": {
            "text/plain": "array([34. , 34.4, 19.6, 34. , 19.6, 34. , 30.8, 19.6, 29.6, 34. , 34. ,\n       24.2, 19.6, 27.4, 38.2, 49.8, 14.2, 34. , 34. , 19.6, 34. , 34. ,\n       34. , 29.6, 22.4, 34. , 34. , 19.6, 23.9, 34. , 34. ,  8. , 34.8,\n       49.8,  4.2,  8.4, 28. , 49.8, 22.4, 34. , 19.6,  8. , 24.2, 34. ,\n        4.8, 21.6, 26.3, 22.4, 34. , 34.4, 34. , 21.6, 49.8, 19.6, 28. ,\n       49.8, 49.8, 38.2, 19.6, 24.4, 31.4, 34. , 34.4,  8. , 20.4, 30.8,\n       34. , 22.4, 49.8, 34. , 19.6, 19.6, 24.2, 19.6, 19.6, 30.8, 34. ,\n       34. ,  4.8, 34. , 34. , 28. , 21.6, 34. , 34. , 34. , 22.4, 29.6,\n       24.2, 34. , 30.8, 34. , 34. , 28. , 34. , 34. , 49.8, 28. ,  4.8,\n       24.2, 34. , 34. , 21.6, 38.2, 34. , 34. , 34. , 34. , 49.8, 34. ,\n       17. , 34. , 34.4, 34. , 49.8, 34. , 34. , 21.6, 34. , 19.6, 26.3,\n       34. , 34. , 23.9, 31.4, 34. , 34. , 49.8, 34. , 22.4, 34. , 34. ,\n       49.8, 24.2, 29.6, 34. , 34. , 19.6, 34. , 34. , 30.8, 28. , 21.6,\n       29.6, 19.6, 14.2, 49.8, 34. , 19.6, 28. , 34. , 34. , 38.2, 34. ,\n       49.8, 24.2, 34. , 34. , 34. , 30.1, 34. ,  8.4, 49.8, 49.8, 34. ,\n       34. , 29.6, 34. , 34. , 38.2,  8. , 30.8, 34. ,  8.4, 34. , 34. ,\n       28. ])"
          },
          "metadata": {}
        }
      ],
      "execution_count": 49
    },
    {
      "cell_type": "code",
      "source": "preds_real.shape",
      "metadata": {
        "tags": [],
        "cell_id": "00012-1534866f-63f4-4443-8ecc-baa9cea41f08",
        "deepnote_to_be_reexecuted": false,
        "source_hash": "6b095f45",
        "execution_start": 1619776644054,
        "execution_millis": 1,
        "deepnote_cell_type": "code"
      },
      "outputs": [
        {
          "output_type": "execute_result",
          "execution_count": 50,
          "data": {
            "text/plain": "(177,)"
          },
          "metadata": {}
        }
      ],
      "execution_count": 50
    },
    {
      "cell_type": "code",
      "source": "df_to_predict.shape",
      "metadata": {
        "tags": [],
        "cell_id": "00013-c9ea6af9-c89c-403c-9c49-f390d27bab07",
        "deepnote_to_be_reexecuted": false,
        "source_hash": "cd318771",
        "execution_start": 1619777582845,
        "execution_millis": 24,
        "deepnote_cell_type": "code"
      },
      "outputs": [
        {
          "output_type": "execute_result",
          "execution_count": 55,
          "data": {
            "text/plain": "(177, 10)"
          },
          "metadata": {}
        }
      ],
      "execution_count": 55
    },
    {
      "cell_type": "code",
      "source": "df_to_predict.iloc['Age_pred'] = preds_real",
      "metadata": {
        "tags": [],
        "cell_id": "00014-f4dd96b4-0b69-41b7-ad5d-5a388385e58e",
        "deepnote_to_be_reexecuted": false,
        "source_hash": "f95e5529",
        "execution_start": 1619777646781,
        "execution_millis": 53,
        "deepnote_cell_type": "code"
      },
      "outputs": [
        {
          "output_type": "error",
          "ename": "ValueError",
          "evalue": "Must have equal len keys and value when setting with an iterable",
          "traceback": [
            "\u001b[0;31m---------------------------------------------------------------------------\u001b[0m",
            "\u001b[0;31mValueError\u001b[0m                                Traceback (most recent call last)",
            "\u001b[0;32m<ipython-input-59-e68eedf597b3>\u001b[0m in \u001b[0;36m<module>\u001b[0;34m\u001b[0m\n\u001b[0;32m----> 1\u001b[0;31m \u001b[0mdf_to_predict\u001b[0m\u001b[0;34m.\u001b[0m\u001b[0miloc\u001b[0m\u001b[0;34m[\u001b[0m\u001b[0;34m'Age_pred'\u001b[0m\u001b[0;34m]\u001b[0m \u001b[0;34m=\u001b[0m \u001b[0mpreds_real\u001b[0m\u001b[0;34m\u001b[0m\u001b[0;34m\u001b[0m\u001b[0m\n\u001b[0m",
            "\u001b[0;32m/shared-libs/python3.7/py/lib/python3.7/site-packages/pandas/core/indexing.py\u001b[0m in \u001b[0;36m__setitem__\u001b[0;34m(self, key, value)\u001b[0m\n\u001b[1;32m    690\u001b[0m \u001b[0;34m\u001b[0m\u001b[0m\n\u001b[1;32m    691\u001b[0m         \u001b[0miloc\u001b[0m \u001b[0;34m=\u001b[0m \u001b[0mself\u001b[0m \u001b[0;32mif\u001b[0m \u001b[0mself\u001b[0m\u001b[0;34m.\u001b[0m\u001b[0mname\u001b[0m \u001b[0;34m==\u001b[0m \u001b[0;34m\"iloc\"\u001b[0m \u001b[0;32melse\u001b[0m \u001b[0mself\u001b[0m\u001b[0;34m.\u001b[0m\u001b[0mobj\u001b[0m\u001b[0;34m.\u001b[0m\u001b[0miloc\u001b[0m\u001b[0;34m\u001b[0m\u001b[0;34m\u001b[0m\u001b[0m\n\u001b[0;32m--> 692\u001b[0;31m         \u001b[0miloc\u001b[0m\u001b[0;34m.\u001b[0m\u001b[0m_setitem_with_indexer\u001b[0m\u001b[0;34m(\u001b[0m\u001b[0mindexer\u001b[0m\u001b[0;34m,\u001b[0m \u001b[0mvalue\u001b[0m\u001b[0;34m,\u001b[0m \u001b[0mself\u001b[0m\u001b[0;34m.\u001b[0m\u001b[0mname\u001b[0m\u001b[0;34m)\u001b[0m\u001b[0;34m\u001b[0m\u001b[0;34m\u001b[0m\u001b[0m\n\u001b[0m\u001b[1;32m    693\u001b[0m \u001b[0;34m\u001b[0m\u001b[0m\n\u001b[1;32m    694\u001b[0m     \u001b[0;32mdef\u001b[0m \u001b[0m_validate_key\u001b[0m\u001b[0;34m(\u001b[0m\u001b[0mself\u001b[0m\u001b[0;34m,\u001b[0m \u001b[0mkey\u001b[0m\u001b[0;34m,\u001b[0m \u001b[0maxis\u001b[0m\u001b[0;34m:\u001b[0m \u001b[0mint\u001b[0m\u001b[0;34m)\u001b[0m\u001b[0;34m:\u001b[0m\u001b[0;34m\u001b[0m\u001b[0;34m\u001b[0m\u001b[0m\n",
            "\u001b[0;32m/shared-libs/python3.7/py/lib/python3.7/site-packages/pandas/core/indexing.py\u001b[0m in \u001b[0;36m_setitem_with_indexer\u001b[0;34m(self, indexer, value, name)\u001b[0m\n\u001b[1;32m   1633\u001b[0m         \u001b[0;32mif\u001b[0m \u001b[0mtake_split_path\u001b[0m\u001b[0;34m:\u001b[0m\u001b[0;34m\u001b[0m\u001b[0;34m\u001b[0m\u001b[0m\n\u001b[1;32m   1634\u001b[0m             \u001b[0;31m# We have to operate column-wise\u001b[0m\u001b[0;34m\u001b[0m\u001b[0;34m\u001b[0m\u001b[0;34m\u001b[0m\u001b[0m\n\u001b[0;32m-> 1635\u001b[0;31m             \u001b[0mself\u001b[0m\u001b[0;34m.\u001b[0m\u001b[0m_setitem_with_indexer_split_path\u001b[0m\u001b[0;34m(\u001b[0m\u001b[0mindexer\u001b[0m\u001b[0;34m,\u001b[0m \u001b[0mvalue\u001b[0m\u001b[0;34m,\u001b[0m \u001b[0mname\u001b[0m\u001b[0;34m)\u001b[0m\u001b[0;34m\u001b[0m\u001b[0;34m\u001b[0m\u001b[0m\n\u001b[0m\u001b[1;32m   1636\u001b[0m         \u001b[0;32melse\u001b[0m\u001b[0;34m:\u001b[0m\u001b[0;34m\u001b[0m\u001b[0;34m\u001b[0m\u001b[0m\n\u001b[1;32m   1637\u001b[0m             \u001b[0mself\u001b[0m\u001b[0;34m.\u001b[0m\u001b[0m_setitem_single_block\u001b[0m\u001b[0;34m(\u001b[0m\u001b[0mindexer\u001b[0m\u001b[0;34m,\u001b[0m \u001b[0mvalue\u001b[0m\u001b[0;34m,\u001b[0m \u001b[0mname\u001b[0m\u001b[0;34m)\u001b[0m\u001b[0;34m\u001b[0m\u001b[0;34m\u001b[0m\u001b[0m\n",
            "\u001b[0;32m/shared-libs/python3.7/py/lib/python3.7/site-packages/pandas/core/indexing.py\u001b[0m in \u001b[0;36m_setitem_with_indexer_split_path\u001b[0;34m(self, indexer, value, name)\u001b[0m\n\u001b[1;32m   1710\u001b[0m             \u001b[0;32melse\u001b[0m\u001b[0;34m:\u001b[0m\u001b[0;34m\u001b[0m\u001b[0;34m\u001b[0m\u001b[0m\n\u001b[1;32m   1711\u001b[0m                 raise ValueError(\n\u001b[0;32m-> 1712\u001b[0;31m                     \u001b[0;34m\"Must have equal len keys and value \"\u001b[0m\u001b[0;34m\u001b[0m\u001b[0;34m\u001b[0m\u001b[0m\n\u001b[0m\u001b[1;32m   1713\u001b[0m                     \u001b[0;34m\"when setting with an iterable\"\u001b[0m\u001b[0;34m\u001b[0m\u001b[0;34m\u001b[0m\u001b[0m\n\u001b[1;32m   1714\u001b[0m                 )\n",
            "\u001b[0;31mValueError\u001b[0m: Must have equal len keys and value when setting with an iterable"
          ]
        }
      ],
      "execution_count": 59
    },
    {
      "cell_type": "code",
      "source": "",
      "metadata": {
        "tags": [],
        "cell_id": "00015-8d6ce9fb-37cb-4105-bae7-64066a3ba52d",
        "deepnote_cell_type": "code"
      },
      "outputs": [],
      "execution_count": null
    },
    {
      "cell_type": "markdown",
      "source": "<a style='text-decoration:none;line-height:16px;display:flex;color:#5B5B62;padding:10px;justify-content:end;' href='https://deepnote.com?utm_source=created-in-deepnote-cell&projectId=91fc748d-6dfe-4653-b79b-4cbc51a66576' target=\"_blank\">\n<img alt='Created in deepnote.com' style='display:inline;max-height:16px;margin:0px;margin-right:7.5px;' src='data:image/svg+xml;base64,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' > </img>\nCreated in <span style='font-weight:600;margin-left:4px;'>Deepnote</span></a>",
      "metadata": {
        "tags": [],
        "created_in_deepnote_cell": true,
        "deepnote_cell_type": "markdown"
      }
    }
  ],
  "nbformat": 4,
  "nbformat_minor": 2,
  "metadata": {
    "orig_nbformat": 2,
    "deepnote": {
      "is_reactive": false
    },
    "deepnote_notebook_id": "f8db667f-cb89-448a-8d33-0715f75cc955",
    "deepnote_execution_queue": []
  }
}