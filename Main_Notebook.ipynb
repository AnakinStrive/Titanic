{
  "cells": [
    {
      "cell_type": "markdown",
      "source": "### Surviving ",
      "metadata": {
        "tags": [],
        "cell_id": "00000-ba4db558-aa40-4aa1-bdab-575f62e77676",
        "deepnote_cell_type": "markdown"
      }
    },
    {
      "cell_type": "markdown",
      "source": "### Importing Libraries",
      "metadata": {
        "tags": [],
        "cell_id": "00000-860eb7a5-63e4-47f6-8af5-233c269a1756",
        "deepnote_cell_type": "markdown"
      }
    },
    {
      "cell_type": "code",
      "metadata": {
        "tags": [],
        "cell_id": "00000-4bd16785-7e30-4340-9b95-9f21a718f3e9",
        "deepnote_to_be_reexecuted": false,
        "source_hash": "4756d558",
        "execution_start": 1619777086141,
        "execution_millis": 162,
        "deepnote_cell_type": "code"
      },
      "source": "import pandas as pd\nimport numpy as np\nimport matplotlib.pyplot as plt\nimport seaborn as sns\n%matplotlib inline\nfrom sklearn.datasets import load_breast_cancer\nfrom sklearn.model_selection import train_test_split\nfrom sklearn import svm\nfrom sklearn.metrics import f1_score\nfrom sklearn.metrics import jaccard_score\nfrom sklearn.model_selection import GridSearchCV\nfrom sklearn.metrics import confusion_matrix\n\nfrom sklearn import svm\nfrom sklearn.ensemble import RandomForestClassifier\nfrom sklearn.linear_model import LogisticRegression",
      "execution_count": 42,
      "outputs": []
    },
    {
      "cell_type": "markdown",
      "source": "### Importing Data",
      "metadata": {
        "tags": [],
        "cell_id": "00002-e126c862-3099-4959-875a-80ddae6034db",
        "deepnote_cell_type": "markdown"
      }
    },
    {
      "cell_type": "code",
      "metadata": {
        "tags": [],
        "cell_id": "00001-da25ad2c-6d88-4026-a90e-bfed05a72a6d",
        "deepnote_to_be_reexecuted": false,
        "source_hash": "218b99ea",
        "execution_start": 1619773490131,
        "execution_millis": 53,
        "deepnote_cell_type": "code"
      },
      "source": "train_df=pd.read_csv('/work/Titanic/train.csv')\ntest_df=pd.read_csv('/work/Titanic/test.csv')",
      "execution_count": 2,
      "outputs": []
    },
    {
      "cell_type": "markdown",
      "source": "Looking at data set",
      "metadata": {
        "tags": [],
        "cell_id": "00004-719f8608-b351-474f-ade8-a889a6a1f87d",
        "deepnote_cell_type": "markdown"
      }
    },
    {
      "cell_type": "code",
      "metadata": {
        "tags": [],
        "cell_id": "00002-8d381ec8-7484-44f6-8d59-5beee02ad3c2",
        "deepnote_to_be_reexecuted": false,
        "source_hash": "b1a8b3e0",
        "execution_start": 1619773490216,
        "execution_millis": 188,
        "deepnote_cell_type": "code"
      },
      "source": "train_df.head()",
      "execution_count": 3,
      "outputs": [
        {
          "output_type": "execute_result",
          "execution_count": 3,
          "data": {
            "application/vnd.deepnote.dataframe.v2+json": {
              "row_count": 5,
              "column_count": 12,
              "columns": [
                {
                  "name": "PassengerId",
                  "dtype": "int64",
                  "stats": {
                    "unique_count": 5,
                    "nan_count": 0,
                    "min": "1",
                    "max": "5",
                    "histogram": [
                      {
                        "bin_start": 1,
                        "bin_end": 1.4,
                        "count": 1
                      },
                      {
                        "bin_start": 1.4,
                        "bin_end": 1.8,
                        "count": 0
                      },
                      {
                        "bin_start": 1.8,
                        "bin_end": 2.2,
                        "count": 1
                      },
                      {
                        "bin_start": 2.2,
                        "bin_end": 2.6,
                        "count": 0
                      },
                      {
                        "bin_start": 2.6,
                        "bin_end": 3,
                        "count": 0
                      },
                      {
                        "bin_start": 3,
                        "bin_end": 3.4000000000000004,
                        "count": 1
                      },
                      {
                        "bin_start": 3.4000000000000004,
                        "bin_end": 3.8000000000000003,
                        "count": 0
                      },
                      {
                        "bin_start": 3.8000000000000003,
                        "bin_end": 4.2,
                        "count": 1
                      },
                      {
                        "bin_start": 4.2,
                        "bin_end": 4.6,
                        "count": 0
                      },
                      {
                        "bin_start": 4.6,
                        "bin_end": 5,
                        "count": 1
                      }
                    ]
                  }
                },
                {
                  "name": "Survived",
                  "dtype": "int64",
                  "stats": {
                    "unique_count": 2,
                    "nan_count": 0,
                    "min": "0",
                    "max": "1",
                    "histogram": [
                      {
                        "bin_start": 0,
                        "bin_end": 0.1,
                        "count": 2
                      },
                      {
                        "bin_start": 0.1,
                        "bin_end": 0.2,
                        "count": 0
                      },
                      {
                        "bin_start": 0.2,
                        "bin_end": 0.30000000000000004,
                        "count": 0
                      },
                      {
                        "bin_start": 0.30000000000000004,
                        "bin_end": 0.4,
                        "count": 0
                      },
                      {
                        "bin_start": 0.4,
                        "bin_end": 0.5,
                        "count": 0
                      },
                      {
                        "bin_start": 0.5,
                        "bin_end": 0.6000000000000001,
                        "count": 0
                      },
                      {
                        "bin_start": 0.6000000000000001,
                        "bin_end": 0.7000000000000001,
                        "count": 0
                      },
                      {
                        "bin_start": 0.7000000000000001,
                        "bin_end": 0.8,
                        "count": 0
                      },
                      {
                        "bin_start": 0.8,
                        "bin_end": 0.9,
                        "count": 0
                      },
                      {
                        "bin_start": 0.9,
                        "bin_end": 1,
                        "count": 3
                      }
                    ]
                  }
                },
                {
                  "name": "Pclass",
                  "dtype": "int64",
                  "stats": {
                    "unique_count": 2,
                    "nan_count": 0,
                    "min": "1",
                    "max": "3",
                    "histogram": [
                      {
                        "bin_start": 1,
                        "bin_end": 1.2,
                        "count": 2
                      },
                      {
                        "bin_start": 1.2,
                        "bin_end": 1.4,
                        "count": 0
                      },
                      {
                        "bin_start": 1.4,
                        "bin_end": 1.6,
                        "count": 0
                      },
                      {
                        "bin_start": 1.6,
                        "bin_end": 1.8,
                        "count": 0
                      },
                      {
                        "bin_start": 1.8,
                        "bin_end": 2,
                        "count": 0
                      },
                      {
                        "bin_start": 2,
                        "bin_end": 2.2,
                        "count": 0
                      },
                      {
                        "bin_start": 2.2,
                        "bin_end": 2.4000000000000004,
                        "count": 0
                      },
                      {
                        "bin_start": 2.4000000000000004,
                        "bin_end": 2.6,
                        "count": 0
                      },
                      {
                        "bin_start": 2.6,
                        "bin_end": 2.8,
                        "count": 0
                      },
                      {
                        "bin_start": 2.8,
                        "bin_end": 3,
                        "count": 3
                      }
                    ]
                  }
                },
                {
                  "name": "Name",
                  "dtype": "object",
                  "stats": {
                    "unique_count": 5,
                    "nan_count": 0,
                    "categories": [
                      {
                        "name": "Braund, Mr. Owen Harris",
                        "count": 1
                      },
                      {
                        "name": "Cumings, Mrs. John Bradley (Florence Briggs Thayer)",
                        "count": 1
                      },
                      {
                        "name": "3 others",
                        "count": 3
                      }
                    ]
                  }
                },
                {
                  "name": "Sex",
                  "dtype": "object",
                  "stats": {
                    "unique_count": 2,
                    "nan_count": 0,
                    "categories": [
                      {
                        "name": "female",
                        "count": 3
                      },
                      {
                        "name": "male",
                        "count": 2
                      }
                    ]
                  }
                },
                {
                  "name": "Age",
                  "dtype": "float64",
                  "stats": {
                    "unique_count": 4,
                    "nan_count": 0,
                    "min": "22.0",
                    "max": "38.0",
                    "histogram": [
                      {
                        "bin_start": 22,
                        "bin_end": 23.6,
                        "count": 1
                      },
                      {
                        "bin_start": 23.6,
                        "bin_end": 25.2,
                        "count": 0
                      },
                      {
                        "bin_start": 25.2,
                        "bin_end": 26.8,
                        "count": 1
                      },
                      {
                        "bin_start": 26.8,
                        "bin_end": 28.4,
                        "count": 0
                      },
                      {
                        "bin_start": 28.4,
                        "bin_end": 30,
                        "count": 0
                      },
                      {
                        "bin_start": 30,
                        "bin_end": 31.6,
                        "count": 0
                      },
                      {
                        "bin_start": 31.6,
                        "bin_end": 33.2,
                        "count": 0
                      },
                      {
                        "bin_start": 33.2,
                        "bin_end": 34.8,
                        "count": 0
                      },
                      {
                        "bin_start": 34.8,
                        "bin_end": 36.4,
                        "count": 2
                      },
                      {
                        "bin_start": 36.4,
                        "bin_end": 38,
                        "count": 1
                      }
                    ]
                  }
                },
                {
                  "name": "SibSp",
                  "dtype": "int64",
                  "stats": {
                    "unique_count": 2,
                    "nan_count": 0,
                    "min": "0",
                    "max": "1",
                    "histogram": [
                      {
                        "bin_start": 0,
                        "bin_end": 0.1,
                        "count": 2
                      },
                      {
                        "bin_start": 0.1,
                        "bin_end": 0.2,
                        "count": 0
                      },
                      {
                        "bin_start": 0.2,
                        "bin_end": 0.30000000000000004,
                        "count": 0
                      },
                      {
                        "bin_start": 0.30000000000000004,
                        "bin_end": 0.4,
                        "count": 0
                      },
                      {
                        "bin_start": 0.4,
                        "bin_end": 0.5,
                        "count": 0
                      },
                      {
                        "bin_start": 0.5,
                        "bin_end": 0.6000000000000001,
                        "count": 0
                      },
                      {
                        "bin_start": 0.6000000000000001,
                        "bin_end": 0.7000000000000001,
                        "count": 0
                      },
                      {
                        "bin_start": 0.7000000000000001,
                        "bin_end": 0.8,
                        "count": 0
                      },
                      {
                        "bin_start": 0.8,
                        "bin_end": 0.9,
                        "count": 0
                      },
                      {
                        "bin_start": 0.9,
                        "bin_end": 1,
                        "count": 3
                      }
                    ]
                  }
                },
                {
                  "name": "Parch",
                  "dtype": "int64",
                  "stats": {
                    "unique_count": 1,
                    "nan_count": 0,
                    "min": "0",
                    "max": "0",
                    "histogram": [
                      {
                        "bin_start": -0.5,
                        "bin_end": -0.4,
                        "count": 0
                      },
                      {
                        "bin_start": -0.4,
                        "bin_end": -0.3,
                        "count": 0
                      },
                      {
                        "bin_start": -0.3,
                        "bin_end": -0.19999999999999996,
                        "count": 0
                      },
                      {
                        "bin_start": -0.19999999999999996,
                        "bin_end": -0.09999999999999998,
                        "count": 0
                      },
                      {
                        "bin_start": -0.09999999999999998,
                        "bin_end": 0,
                        "count": 0
                      },
                      {
                        "bin_start": 0,
                        "bin_end": 0.10000000000000009,
                        "count": 5
                      },
                      {
                        "bin_start": 0.10000000000000009,
                        "bin_end": 0.20000000000000007,
                        "count": 0
                      },
                      {
                        "bin_start": 0.20000000000000007,
                        "bin_end": 0.30000000000000004,
                        "count": 0
                      },
                      {
                        "bin_start": 0.30000000000000004,
                        "bin_end": 0.4,
                        "count": 0
                      },
                      {
                        "bin_start": 0.4,
                        "bin_end": 0.5,
                        "count": 0
                      }
                    ]
                  }
                },
                {
                  "name": "Ticket",
                  "dtype": "object",
                  "stats": {
                    "unique_count": 5,
                    "nan_count": 0,
                    "categories": [
                      {
                        "name": "A/5 21171",
                        "count": 1
                      },
                      {
                        "name": "PC 17599",
                        "count": 1
                      },
                      {
                        "name": "3 others",
                        "count": 3
                      }
                    ]
                  }
                },
                {
                  "name": "Fare",
                  "dtype": "float64",
                  "stats": {
                    "unique_count": 5,
                    "nan_count": 0,
                    "min": "7.25",
                    "max": "71.2833",
                    "histogram": [
                      {
                        "bin_start": 7.25,
                        "bin_end": 13.65333,
                        "count": 3
                      },
                      {
                        "bin_start": 13.65333,
                        "bin_end": 20.05666,
                        "count": 0
                      },
                      {
                        "bin_start": 20.05666,
                        "bin_end": 26.459989999999998,
                        "count": 0
                      },
                      {
                        "bin_start": 26.459989999999998,
                        "bin_end": 32.86332,
                        "count": 0
                      },
                      {
                        "bin_start": 32.86332,
                        "bin_end": 39.26665,
                        "count": 0
                      },
                      {
                        "bin_start": 39.26665,
                        "bin_end": 45.669979999999995,
                        "count": 0
                      },
                      {
                        "bin_start": 45.669979999999995,
                        "bin_end": 52.07331,
                        "count": 0
                      },
                      {
                        "bin_start": 52.07331,
                        "bin_end": 58.476639999999996,
                        "count": 1
                      },
                      {
                        "bin_start": 58.476639999999996,
                        "bin_end": 64.87996999999999,
                        "count": 0
                      },
                      {
                        "bin_start": 64.87996999999999,
                        "bin_end": 71.2833,
                        "count": 1
                      }
                    ]
                  }
                },
                {
                  "name": "Cabin",
                  "dtype": "object",
                  "stats": {
                    "unique_count": 2,
                    "nan_count": 3,
                    "categories": [
                      {
                        "name": "C85",
                        "count": 1
                      },
                      {
                        "name": "C123",
                        "count": 1
                      },
                      {
                        "name": "Missing",
                        "count": 3
                      }
                    ]
                  }
                },
                {
                  "name": "Embarked",
                  "dtype": "object",
                  "stats": {
                    "unique_count": 2,
                    "nan_count": 0,
                    "categories": [
                      {
                        "name": "S",
                        "count": 4
                      },
                      {
                        "name": "C",
                        "count": 1
                      }
                    ]
                  }
                },
                {
                  "name": "_deepnote_index_column",
                  "dtype": "int64"
                }
              ],
              "rows_top": [
                {
                  "PassengerId": 1,
                  "Survived": 0,
                  "Pclass": 3,
                  "Name": "Braund, Mr. Owen Harris",
                  "Sex": "male",
                  "Age": 22,
                  "SibSp": 1,
                  "Parch": 0,
                  "Ticket": "A/5 21171",
                  "Fare": 7.25,
                  "Cabin": "nan",
                  "Embarked": "S",
                  "_deepnote_index_column": 0
                },
                {
                  "PassengerId": 2,
                  "Survived": 1,
                  "Pclass": 1,
                  "Name": "Cumings, Mrs. John Bradley (Florence Briggs Thayer)",
                  "Sex": "female",
                  "Age": 38,
                  "SibSp": 1,
                  "Parch": 0,
                  "Ticket": "PC 17599",
                  "Fare": 71.2833,
                  "Cabin": "C85",
                  "Embarked": "C",
                  "_deepnote_index_column": 1
                },
                {
                  "PassengerId": 3,
                  "Survived": 1,
                  "Pclass": 3,
                  "Name": "Heikkinen, Miss. Laina",
                  "Sex": "female",
                  "Age": 26,
                  "SibSp": 0,
                  "Parch": 0,
                  "Ticket": "STON/O2. 3101282",
                  "Fare": 7.925,
                  "Cabin": "nan",
                  "Embarked": "S",
                  "_deepnote_index_column": 2
                },
                {
                  "PassengerId": 4,
                  "Survived": 1,
                  "Pclass": 1,
                  "Name": "Futrelle, Mrs. Jacques Heath (Lily May Peel)",
                  "Sex": "female",
                  "Age": 35,
                  "SibSp": 1,
                  "Parch": 0,
                  "Ticket": "113803",
                  "Fare": 53.1,
                  "Cabin": "C123",
                  "Embarked": "S",
                  "_deepnote_index_column": 3
                },
                {
                  "PassengerId": 5,
                  "Survived": 0,
                  "Pclass": 3,
                  "Name": "Allen, Mr. William Henry",
                  "Sex": "male",
                  "Age": 35,
                  "SibSp": 0,
                  "Parch": 0,
                  "Ticket": "373450",
                  "Fare": 8.05,
                  "Cabin": "nan",
                  "Embarked": "S",
                  "_deepnote_index_column": 4
                }
              ],
              "rows_bottom": null
            },
            "text/plain": "   PassengerId  Survived  Pclass  \\\n0            1         0       3   \n1            2         1       1   \n2            3         1       3   \n3            4         1       1   \n4            5         0       3   \n\n                                                Name     Sex   Age  SibSp  \\\n0                            Braund, Mr. Owen Harris    male  22.0      1   \n1  Cumings, Mrs. John Bradley (Florence Briggs Th...  female  38.0      1   \n2                             Heikkinen, Miss. Laina  female  26.0      0   \n3       Futrelle, Mrs. Jacques Heath (Lily May Peel)  female  35.0      1   \n4                           Allen, Mr. William Henry    male  35.0      0   \n\n   Parch            Ticket     Fare Cabin Embarked  \n0      0         A/5 21171   7.2500   NaN        S  \n1      0          PC 17599  71.2833   C85        C  \n2      0  STON/O2. 3101282   7.9250   NaN        S  \n3      0            113803  53.1000  C123        S  \n4      0            373450   8.0500   NaN        S  ",
            "text/html": "<div>\n<style scoped>\n    .dataframe tbody tr th:only-of-type {\n        vertical-align: middle;\n    }\n\n    .dataframe tbody tr th {\n        vertical-align: top;\n    }\n\n    .dataframe thead th {\n        text-align: right;\n    }\n</style>\n<table border=\"1\" class=\"dataframe\">\n  <thead>\n    <tr style=\"text-align: right;\">\n      <th></th>\n      <th>PassengerId</th>\n      <th>Survived</th>\n      <th>Pclass</th>\n      <th>Name</th>\n      <th>Sex</th>\n      <th>Age</th>\n      <th>SibSp</th>\n      <th>Parch</th>\n      <th>Ticket</th>\n      <th>Fare</th>\n      <th>Cabin</th>\n      <th>Embarked</th>\n    </tr>\n  </thead>\n  <tbody>\n    <tr>\n      <th>0</th>\n      <td>1</td>\n      <td>0</td>\n      <td>3</td>\n      <td>Braund, Mr. Owen Harris</td>\n      <td>male</td>\n      <td>22.0</td>\n      <td>1</td>\n      <td>0</td>\n      <td>A/5 21171</td>\n      <td>7.2500</td>\n      <td>NaN</td>\n      <td>S</td>\n    </tr>\n    <tr>\n      <th>1</th>\n      <td>2</td>\n      <td>1</td>\n      <td>1</td>\n      <td>Cumings, Mrs. John Bradley (Florence Briggs Th...</td>\n      <td>female</td>\n      <td>38.0</td>\n      <td>1</td>\n      <td>0</td>\n      <td>PC 17599</td>\n      <td>71.2833</td>\n      <td>C85</td>\n      <td>C</td>\n    </tr>\n    <tr>\n      <th>2</th>\n      <td>3</td>\n      <td>1</td>\n      <td>3</td>\n      <td>Heikkinen, Miss. Laina</td>\n      <td>female</td>\n      <td>26.0</td>\n      <td>0</td>\n      <td>0</td>\n      <td>STON/O2. 3101282</td>\n      <td>7.9250</td>\n      <td>NaN</td>\n      <td>S</td>\n    </tr>\n    <tr>\n      <th>3</th>\n      <td>4</td>\n      <td>1</td>\n      <td>1</td>\n      <td>Futrelle, Mrs. Jacques Heath (Lily May Peel)</td>\n      <td>female</td>\n      <td>35.0</td>\n      <td>1</td>\n      <td>0</td>\n      <td>113803</td>\n      <td>53.1000</td>\n      <td>C123</td>\n      <td>S</td>\n    </tr>\n    <tr>\n      <th>4</th>\n      <td>5</td>\n      <td>0</td>\n      <td>3</td>\n      <td>Allen, Mr. William Henry</td>\n      <td>male</td>\n      <td>35.0</td>\n      <td>0</td>\n      <td>0</td>\n      <td>373450</td>\n      <td>8.0500</td>\n      <td>NaN</td>\n      <td>S</td>\n    </tr>\n  </tbody>\n</table>\n</div>"
          },
          "metadata": {}
        }
      ]
    },
    {
      "cell_type": "code",
      "metadata": {
        "tags": [],
        "cell_id": "00003-12423328-5aad-4b52-86de-08f69c62c927",
        "deepnote_to_be_reexecuted": false,
        "source_hash": "23fa2469",
        "execution_start": 1619773490560,
        "execution_millis": 3195,
        "deepnote_cell_type": "code"
      },
      "source": "#Heat map of null cells\nfig = plt.figure(figsize=(15,5))\nfig.add_subplot(121)\nplt.title('Nulls of Train Data')\nsns.heatmap(train_df.isnull(), cmap='plasma')\n\nfig.add_subplot(122)\nplt.title('Nulls of Test Data\"')\nsns.heatmap(test_df.isnull(), cmap='plasma')\nplt.show()\n\nmissing_percentage_train = train_df.isnull().sum() * 100 / len(train_df) #Calculating percentage of missing values\nmissing_percentage_train",
      "execution_count": 4,
      "outputs": [
        {
          "data": {
            "text/plain": "<Figure size 1080x360 with 4 Axes>",
            "image/png": "[encoded data removed]"
          },
          "metadata": {
            "needs_background": "light",
            "image/png": {
              "width": 856,
              "height": 369
            }
          },
          "output_type": "display_data"
        },
        {
          "output_type": "execute_result",
          "execution_count": 4,
          "data": {
            "text/plain": "PassengerId     0.000000\nSurvived        0.000000\nPclass          0.000000\nName            0.000000\nSex             0.000000\nAge            19.865320\nSibSp           0.000000\nParch           0.000000\nTicket          0.000000\nFare            0.000000\nCabin          77.104377\nEmbarked        0.224467\ndtype: float64"
          },
          "metadata": {}
        }
      ]
    },
    {
      "cell_type": "markdown",
      "source": "### Handling Null Data",
      "metadata": {
        "tags": [],
        "cell_id": "00009-f0dc1fb4-8e19-41df-b221-c1a811b80e05",
        "deepnote_cell_type": "markdown"
      }
    },
    {
      "cell_type": "markdown",
      "source": "#### Cabin",
      "metadata": {
        "tags": [],
        "cell_id": "00011-1002cff9-0d83-493e-aaca-d884d560e1b2",
        "deepnote_cell_type": "markdown"
      }
    },
    {
      "cell_type": "code",
      "source": "train_df.Cabin.fillna(\"No Cabin\", inplace=True) #We named Null cells as 'Empty'\ntest_df.Cabin.fillna(\"No Cabin\", inplace=True) #We named Null cells as 'Empty'\n\ntrain_df.loc[train_df[\"Cabin\"] != \"No Cabin\", \"Cabin\"] = \"Has Cabin\"\ntest_df.loc[test_df[\"Cabin\"] != \"No Cabin\", \"Cabin\" ] =\"Has Cabin\"\n\nfig = plt.figure(figsize=(15,4))\nfig.add_subplot(121)\nsns.barplot(data=train_df, x=\"Cabin\",y=\"Survived\" , palette=\"Set2\",saturation=2,edgecolor=(0,0,0),  linewidth=1)",
      "metadata": {
        "tags": [],
        "cell_id": "00011-26872efe-b076-4da4-9dc0-138a2d240484",
        "deepnote_to_be_reexecuted": false,
        "source_hash": "be319ed6",
        "execution_start": 1619773493843,
        "execution_millis": 506,
        "deepnote_cell_type": "code"
      },
      "outputs": [
        {
          "output_type": "execute_result",
          "execution_count": 5,
          "data": {
            "text/plain": "<AxesSubplot:xlabel='Cabin', ylabel='Survived'>"
          },
          "metadata": {}
        },
        {
          "data": {
            "text/plain": "<Figure size 1080x288 with 1 Axes>",
            "image/png": "[encoded data removed]"
          },
          "metadata": {
            "needs_background": "light",
            "image/png": {
              "width": 431,
              "height": 262
            }
          },
          "output_type": "display_data"
        }
      ],
      "execution_count": 5
    },
    {
      "cell_type": "markdown",
      "source": "Having a cabin or not it effects to survive rate very impressive!\nSo turn the data to 1 and 0",
      "metadata": {
        "tags": [],
        "cell_id": "00012-033043fa-389f-4ce4-a4fb-f5def206306e",
        "deepnote_cell_type": "markdown"
      }
    },
    {
      "cell_type": "code",
      "source": "train_df.loc[train_df[\"Cabin\"] == \"No Cabin\", \"Cabin\"] = 0\ntest_df.loc[test_df[\"Cabin\"] == \"No Cabin\", \"Cabin\" ] =0\ntrain_df.loc[train_df[\"Cabin\"] == \"Has Cabin\", \"Cabin\"] = 1\ntest_df.loc[test_df[\"Cabin\"] == \"Has Cabin\", \"Cabin\" ] =1",
      "metadata": {
        "tags": [],
        "cell_id": "00012-1f8ece2a-1a28-49ae-89fa-7e748ca60902",
        "deepnote_to_be_reexecuted": false,
        "source_hash": "d74010c5",
        "execution_start": 1619774131561,
        "execution_millis": 1,
        "deepnote_cell_type": "code"
      },
      "outputs": [],
      "execution_count": 10
    },
    {
      "cell_type": "markdown",
      "source": "#### Embarked\n\nThere is only 2 null data on this column, so we can easily consider filling it with the mode of this feature\n\n",
      "metadata": {
        "tags": [],
        "cell_id": "00014-20a66631-035b-43bb-a1bc-9328d54cc237",
        "deepnote_cell_type": "markdown"
      }
    },
    {
      "cell_type": "code",
      "source": "train_df['Embarked']=train_df['Embarked'].fillna(train_df['Embarked'].mode()[0])\n\n\ntest_df['Embarked']=test_df['Embarked'].fillna(test_df['Embarked'].mode()[0])\n",
      "metadata": {
        "tags": [],
        "cell_id": "00013-0b41cb9f-de54-4f77-99ec-69120ece6d11",
        "deepnote_to_be_reexecuted": false,
        "source_hash": "1b11660a",
        "execution_start": 1619774695069,
        "execution_millis": 5,
        "deepnote_cell_type": "code"
      },
      "outputs": [
        {
          "name": "stdout",
          "text": "0\n0\n",
          "output_type": "stream"
        }
      ],
      "execution_count": 12
    },
    {
      "cell_type": "markdown",
      "source": "#### Scaling",
      "metadata": {
        "tags": [],
        "cell_id": "00015-a63f05c5-196f-490c-8499-2038ab808fe3",
        "deepnote_cell_type": "markdown"
      }
    },
    {
      "cell_type": "code",
      "source": "",
      "metadata": {
        "tags": [],
        "cell_id": "00015-5d980414-e22e-4776-8cca-cae6607c9bd4",
        "deepnote_to_be_reexecuted": false,
        "source_hash": "b623e53d",
        "execution_start": 1619774735498,
        "execution_millis": 1,
        "deepnote_cell_type": "code"
      },
      "outputs": [],
      "execution_count": 12
    },
    {
      "cell_type": "code",
      "source": "",
      "metadata": {
        "tags": [],
        "cell_id": "00016-a9e8c250-9245-41d2-b505-6ccb8499b847",
        "deepnote_to_be_reexecuted": false,
        "source_hash": "b623e53d",
        "execution_start": 1619774735890,
        "execution_millis": 6,
        "deepnote_cell_type": "code"
      },
      "outputs": [],
      "execution_count": 12
    },
    {
      "cell_type": "code",
      "source": "",
      "metadata": {
        "tags": [],
        "cell_id": "00017-ae97e846-133a-45ad-af76-6efe617bee06",
        "deepnote_cell_type": "code"
      },
      "outputs": [],
      "execution_count": null
    },
    {
      "cell_type": "markdown",
      "source": "#### One Hot Encoding",
      "metadata": {
        "tags": [],
        "cell_id": "00018-f99c1c06-3724-4746-9d1d-a31dd68c8da8",
        "deepnote_cell_type": "markdown"
      }
    },
    {
      "cell_type": "code",
      "source": "#Creating new columns for Embarked\ntrain_df=pd.get_dummies(train_df, columns=['Embarked'])\n\n#Creating new columns for Passanger Class\ntrain_df=pd.get_dummies(train_df, columns=['Pclass'])\n\n",
      "metadata": {
        "tags": [],
        "cell_id": "00019-f4b5445b-ad55-4e68-9f23-3fb0c4e8d149",
        "deepnote_to_be_reexecuted": false,
        "source_hash": "31fa67a",
        "execution_start": 1619776973280,
        "execution_millis": 203,
        "deepnote_cell_type": "code"
      },
      "outputs": [
        {
          "output_type": "execute_result",
          "execution_count": 41,
          "data": {
            "application/vnd.deepnote.dataframe.v2+json": {
              "row_count": 5,
              "column_count": 16,
              "columns": [
                {
                  "name": "PassengerId",
                  "dtype": "int64",
                  "stats": {
                    "unique_count": 5,
                    "nan_count": 0,
                    "min": "1",
                    "max": "5",
                    "histogram": [
                      {
                        "bin_start": 1,
                        "bin_end": 1.4,
                        "count": 1
                      },
                      {
                        "bin_start": 1.4,
                        "bin_end": 1.8,
                        "count": 0
                      },
                      {
                        "bin_start": 1.8,
                        "bin_end": 2.2,
                        "count": 1
                      },
                      {
                        "bin_start": 2.2,
                        "bin_end": 2.6,
                        "count": 0
                      },
                      {
                        "bin_start": 2.6,
                        "bin_end": 3,
                        "count": 0
                      },
                      {
                        "bin_start": 3,
                        "bin_end": 3.4000000000000004,
                        "count": 1
                      },
                      {
                        "bin_start": 3.4000000000000004,
                        "bin_end": 3.8000000000000003,
                        "count": 0
                      },
                      {
                        "bin_start": 3.8000000000000003,
                        "bin_end": 4.2,
                        "count": 1
                      },
                      {
                        "bin_start": 4.2,
                        "bin_end": 4.6,
                        "count": 0
                      },
                      {
                        "bin_start": 4.6,
                        "bin_end": 5,
                        "count": 1
                      }
                    ]
                  }
                },
                {
                  "name": "Survived",
                  "dtype": "int64",
                  "stats": {
                    "unique_count": 2,
                    "nan_count": 0,
                    "min": "0",
                    "max": "1",
                    "histogram": [
                      {
                        "bin_start": 0,
                        "bin_end": 0.1,
                        "count": 2
                      },
                      {
                        "bin_start": 0.1,
                        "bin_end": 0.2,
                        "count": 0
                      },
                      {
                        "bin_start": 0.2,
                        "bin_end": 0.30000000000000004,
                        "count": 0
                      },
                      {
                        "bin_start": 0.30000000000000004,
                        "bin_end": 0.4,
                        "count": 0
                      },
                      {
                        "bin_start": 0.4,
                        "bin_end": 0.5,
                        "count": 0
                      },
                      {
                        "bin_start": 0.5,
                        "bin_end": 0.6000000000000001,
                        "count": 0
                      },
                      {
                        "bin_start": 0.6000000000000001,
                        "bin_end": 0.7000000000000001,
                        "count": 0
                      },
                      {
                        "bin_start": 0.7000000000000001,
                        "bin_end": 0.8,
                        "count": 0
                      },
                      {
                        "bin_start": 0.8,
                        "bin_end": 0.9,
                        "count": 0
                      },
                      {
                        "bin_start": 0.9,
                        "bin_end": 1,
                        "count": 3
                      }
                    ]
                  }
                },
                {
                  "name": "Name",
                  "dtype": "object",
                  "stats": {
                    "unique_count": 5,
                    "nan_count": 0,
                    "categories": [
                      {
                        "name": "Braund, Mr. Owen Harris",
                        "count": 1
                      },
                      {
                        "name": "Cumings, Mrs. John Bradley (Florence Briggs Thayer)",
                        "count": 1
                      },
                      {
                        "name": "3 others",
                        "count": 3
                      }
                    ]
                  }
                },
                {
                  "name": "Sex",
                  "dtype": "object",
                  "stats": {
                    "unique_count": 2,
                    "nan_count": 0,
                    "categories": [
                      {
                        "name": "1",
                        "count": 3
                      },
                      {
                        "name": "0",
                        "count": 2
                      }
                    ]
                  }
                },
                {
                  "name": "Age",
                  "dtype": "float64",
                  "stats": {
                    "unique_count": 4,
                    "nan_count": 0,
                    "min": "22.0",
                    "max": "38.0",
                    "histogram": [
                      {
                        "bin_start": 22,
                        "bin_end": 23.6,
                        "count": 1
                      },
                      {
                        "bin_start": 23.6,
                        "bin_end": 25.2,
                        "count": 0
                      },
                      {
                        "bin_start": 25.2,
                        "bin_end": 26.8,
                        "count": 1
                      },
                      {
                        "bin_start": 26.8,
                        "bin_end": 28.4,
                        "count": 0
                      },
                      {
                        "bin_start": 28.4,
                        "bin_end": 30,
                        "count": 0
                      },
                      {
                        "bin_start": 30,
                        "bin_end": 31.6,
                        "count": 0
                      },
                      {
                        "bin_start": 31.6,
                        "bin_end": 33.2,
                        "count": 0
                      },
                      {
                        "bin_start": 33.2,
                        "bin_end": 34.8,
                        "count": 0
                      },
                      {
                        "bin_start": 34.8,
                        "bin_end": 36.4,
                        "count": 2
                      },
                      {
                        "bin_start": 36.4,
                        "bin_end": 38,
                        "count": 1
                      }
                    ]
                  }
                },
                {
                  "name": "SibSp",
                  "dtype": "int64",
                  "stats": {
                    "unique_count": 2,
                    "nan_count": 0,
                    "min": "0",
                    "max": "1",
                    "histogram": [
                      {
                        "bin_start": 0,
                        "bin_end": 0.1,
                        "count": 2
                      },
                      {
                        "bin_start": 0.1,
                        "bin_end": 0.2,
                        "count": 0
                      },
                      {
                        "bin_start": 0.2,
                        "bin_end": 0.30000000000000004,
                        "count": 0
                      },
                      {
                        "bin_start": 0.30000000000000004,
                        "bin_end": 0.4,
                        "count": 0
                      },
                      {
                        "bin_start": 0.4,
                        "bin_end": 0.5,
                        "count": 0
                      },
                      {
                        "bin_start": 0.5,
                        "bin_end": 0.6000000000000001,
                        "count": 0
                      },
                      {
                        "bin_start": 0.6000000000000001,
                        "bin_end": 0.7000000000000001,
                        "count": 0
                      },
                      {
                        "bin_start": 0.7000000000000001,
                        "bin_end": 0.8,
                        "count": 0
                      },
                      {
                        "bin_start": 0.8,
                        "bin_end": 0.9,
                        "count": 0
                      },
                      {
                        "bin_start": 0.9,
                        "bin_end": 1,
                        "count": 3
                      }
                    ]
                  }
                },
                {
                  "name": "Parch",
                  "dtype": "int64",
                  "stats": {
                    "unique_count": 1,
                    "nan_count": 0,
                    "min": "0",
                    "max": "0",
                    "histogram": [
                      {
                        "bin_start": -0.5,
                        "bin_end": -0.4,
                        "count": 0
                      },
                      {
                        "bin_start": -0.4,
                        "bin_end": -0.3,
                        "count": 0
                      },
                      {
                        "bin_start": -0.3,
                        "bin_end": -0.19999999999999996,
                        "count": 0
                      },
                      {
                        "bin_start": -0.19999999999999996,
                        "bin_end": -0.09999999999999998,
                        "count": 0
                      },
                      {
                        "bin_start": -0.09999999999999998,
                        "bin_end": 0,
                        "count": 0
                      },
                      {
                        "bin_start": 0,
                        "bin_end": 0.10000000000000009,
                        "count": 5
                      },
                      {
                        "bin_start": 0.10000000000000009,
                        "bin_end": 0.20000000000000007,
                        "count": 0
                      },
                      {
                        "bin_start": 0.20000000000000007,
                        "bin_end": 0.30000000000000004,
                        "count": 0
                      },
                      {
                        "bin_start": 0.30000000000000004,
                        "bin_end": 0.4,
                        "count": 0
                      },
                      {
                        "bin_start": 0.4,
                        "bin_end": 0.5,
                        "count": 0
                      }
                    ]
                  }
                },
                {
                  "name": "Ticket",
                  "dtype": "object",
                  "stats": {
                    "unique_count": 5,
                    "nan_count": 0,
                    "categories": [
                      {
                        "name": "A/5 21171",
                        "count": 1
                      },
                      {
                        "name": "PC 17599",
                        "count": 1
                      },
                      {
                        "name": "3 others",
                        "count": 3
                      }
                    ]
                  }
                },
                {
                  "name": "Fare",
                  "dtype": "float64",
                  "stats": {
                    "unique_count": 5,
                    "nan_count": 0,
                    "min": "7.25",
                    "max": "71.2833",
                    "histogram": [
                      {
                        "bin_start": 7.25,
                        "bin_end": 13.65333,
                        "count": 3
                      },
                      {
                        "bin_start": 13.65333,
                        "bin_end": 20.05666,
                        "count": 0
                      },
                      {
                        "bin_start": 20.05666,
                        "bin_end": 26.459989999999998,
                        "count": 0
                      },
                      {
                        "bin_start": 26.459989999999998,
                        "bin_end": 32.86332,
                        "count": 0
                      },
                      {
                        "bin_start": 32.86332,
                        "bin_end": 39.26665,
                        "count": 0
                      },
                      {
                        "bin_start": 39.26665,
                        "bin_end": 45.669979999999995,
                        "count": 0
                      },
                      {
                        "bin_start": 45.669979999999995,
                        "bin_end": 52.07331,
                        "count": 0
                      },
                      {
                        "bin_start": 52.07331,
                        "bin_end": 58.476639999999996,
                        "count": 1
                      },
                      {
                        "bin_start": 58.476639999999996,
                        "bin_end": 64.87996999999999,
                        "count": 0
                      },
                      {
                        "bin_start": 64.87996999999999,
                        "bin_end": 71.2833,
                        "count": 1
                      }
                    ]
                  }
                },
                {
                  "name": "Cabin",
                  "dtype": "object",
                  "stats": {
                    "unique_count": 2,
                    "nan_count": 0,
                    "categories": [
                      {
                        "name": "0",
                        "count": 3
                      },
                      {
                        "name": "1",
                        "count": 2
                      }
                    ]
                  }
                },
                {
                  "name": "Embarked_C",
                  "dtype": "uint8",
                  "stats": {
                    "unique_count": 2,
                    "nan_count": 0,
                    "min": "0",
                    "max": "1",
                    "histogram": [
                      {
                        "bin_start": 0,
                        "bin_end": 0.1,
                        "count": 4
                      },
                      {
                        "bin_start": 0.1,
                        "bin_end": 0.2,
                        "count": 0
                      },
                      {
                        "bin_start": 0.2,
                        "bin_end": 0.30000000000000004,
                        "count": 0
                      },
                      {
                        "bin_start": 0.30000000000000004,
                        "bin_end": 0.4,
                        "count": 0
                      },
                      {
                        "bin_start": 0.4,
                        "bin_end": 0.5,
                        "count": 0
                      },
                      {
                        "bin_start": 0.5,
                        "bin_end": 0.6000000000000001,
                        "count": 0
                      },
                      {
                        "bin_start": 0.6000000000000001,
                        "bin_end": 0.7000000000000001,
                        "count": 0
                      },
                      {
                        "bin_start": 0.7000000000000001,
                        "bin_end": 0.8,
                        "count": 0
                      },
                      {
                        "bin_start": 0.8,
                        "bin_end": 0.9,
                        "count": 0
                      },
                      {
                        "bin_start": 0.9,
                        "bin_end": 1,
                        "count": 1
                      }
                    ]
                  }
                },
                {
                  "name": "Embarked_Q",
                  "dtype": "uint8",
                  "stats": {
                    "unique_count": 1,
                    "nan_count": 0,
                    "min": "0",
                    "max": "0",
                    "histogram": [
                      {
                        "bin_start": -0.5,
                        "bin_end": -0.4,
                        "count": 0
                      },
                      {
                        "bin_start": -0.4,
                        "bin_end": -0.3,
                        "count": 0
                      },
                      {
                        "bin_start": -0.3,
                        "bin_end": -0.19999999999999996,
                        "count": 0
                      },
                      {
                        "bin_start": -0.19999999999999996,
                        "bin_end": -0.09999999999999998,
                        "count": 0
                      },
                      {
                        "bin_start": -0.09999999999999998,
                        "bin_end": 0,
                        "count": 0
                      },
                      {
                        "bin_start": 0,
                        "bin_end": 0.10000000000000009,
                        "count": 5
                      },
                      {
                        "bin_start": 0.10000000000000009,
                        "bin_end": 0.20000000000000007,
                        "count": 0
                      },
                      {
                        "bin_start": 0.20000000000000007,
                        "bin_end": 0.30000000000000004,
                        "count": 0
                      },
                      {
                        "bin_start": 0.30000000000000004,
                        "bin_end": 0.4,
                        "count": 0
                      },
                      {
                        "bin_start": 0.4,
                        "bin_end": 0.5,
                        "count": 0
                      }
                    ]
                  }
                },
                {
                  "name": "Embarked_S",
                  "dtype": "uint8",
                  "stats": {
                    "unique_count": 2,
                    "nan_count": 0,
                    "min": "0",
                    "max": "1",
                    "histogram": [
                      {
                        "bin_start": 0,
                        "bin_end": 0.1,
                        "count": 1
                      },
                      {
                        "bin_start": 0.1,
                        "bin_end": 0.2,
                        "count": 0
                      },
                      {
                        "bin_start": 0.2,
                        "bin_end": 0.30000000000000004,
                        "count": 0
                      },
                      {
                        "bin_start": 0.30000000000000004,
                        "bin_end": 0.4,
                        "count": 0
                      },
                      {
                        "bin_start": 0.4,
                        "bin_end": 0.5,
                        "count": 0
                      },
                      {
                        "bin_start": 0.5,
                        "bin_end": 0.6000000000000001,
                        "count": 0
                      },
                      {
                        "bin_start": 0.6000000000000001,
                        "bin_end": 0.7000000000000001,
                        "count": 0
                      },
                      {
                        "bin_start": 0.7000000000000001,
                        "bin_end": 0.8,
                        "count": 0
                      },
                      {
                        "bin_start": 0.8,
                        "bin_end": 0.9,
                        "count": 0
                      },
                      {
                        "bin_start": 0.9,
                        "bin_end": 1,
                        "count": 4
                      }
                    ]
                  }
                },
                {
                  "name": "Pclass_1",
                  "dtype": "uint8",
                  "stats": {
                    "unique_count": 2,
                    "nan_count": 0,
                    "min": "0",
                    "max": "1",
                    "histogram": [
                      {
                        "bin_start": 0,
                        "bin_end": 0.1,
                        "count": 3
                      },
                      {
                        "bin_start": 0.1,
                        "bin_end": 0.2,
                        "count": 0
                      },
                      {
                        "bin_start": 0.2,
                        "bin_end": 0.30000000000000004,
                        "count": 0
                      },
                      {
                        "bin_start": 0.30000000000000004,
                        "bin_end": 0.4,
                        "count": 0
                      },
                      {
                        "bin_start": 0.4,
                        "bin_end": 0.5,
                        "count": 0
                      },
                      {
                        "bin_start": 0.5,
                        "bin_end": 0.6000000000000001,
                        "count": 0
                      },
                      {
                        "bin_start": 0.6000000000000001,
                        "bin_end": 0.7000000000000001,
                        "count": 0
                      },
                      {
                        "bin_start": 0.7000000000000001,
                        "bin_end": 0.8,
                        "count": 0
                      },
                      {
                        "bin_start": 0.8,
                        "bin_end": 0.9,
                        "count": 0
                      },
                      {
                        "bin_start": 0.9,
                        "bin_end": 1,
                        "count": 2
                      }
                    ]
                  }
                },
                {
                  "name": "Pclass_2",
                  "dtype": "uint8",
                  "stats": {
                    "unique_count": 1,
                    "nan_count": 0,
                    "min": "0",
                    "max": "0",
                    "histogram": [
                      {
                        "bin_start": -0.5,
                        "bin_end": -0.4,
                        "count": 0
                      },
                      {
                        "bin_start": -0.4,
                        "bin_end": -0.3,
                        "count": 0
                      },
                      {
                        "bin_start": -0.3,
                        "bin_end": -0.19999999999999996,
                        "count": 0
                      },
                      {
                        "bin_start": -0.19999999999999996,
                        "bin_end": -0.09999999999999998,
                        "count": 0
                      },
                      {
                        "bin_start": -0.09999999999999998,
                        "bin_end": 0,
                        "count": 0
                      },
                      {
                        "bin_start": 0,
                        "bin_end": 0.10000000000000009,
                        "count": 5
                      },
                      {
                        "bin_start": 0.10000000000000009,
                        "bin_end": 0.20000000000000007,
                        "count": 0
                      },
                      {
                        "bin_start": 0.20000000000000007,
                        "bin_end": 0.30000000000000004,
                        "count": 0
                      },
                      {
                        "bin_start": 0.30000000000000004,
                        "bin_end": 0.4,
                        "count": 0
                      },
                      {
                        "bin_start": 0.4,
                        "bin_end": 0.5,
                        "count": 0
                      }
                    ]
                  }
                },
                {
                  "name": "Pclass_3",
                  "dtype": "uint8",
                  "stats": {
                    "unique_count": 2,
                    "nan_count": 0,
                    "min": "0",
                    "max": "1",
                    "histogram": [
                      {
                        "bin_start": 0,
                        "bin_end": 0.1,
                        "count": 2
                      },
                      {
                        "bin_start": 0.1,
                        "bin_end": 0.2,
                        "count": 0
                      },
                      {
                        "bin_start": 0.2,
                        "bin_end": 0.30000000000000004,
                        "count": 0
                      },
                      {
                        "bin_start": 0.30000000000000004,
                        "bin_end": 0.4,
                        "count": 0
                      },
                      {
                        "bin_start": 0.4,
                        "bin_end": 0.5,
                        "count": 0
                      },
                      {
                        "bin_start": 0.5,
                        "bin_end": 0.6000000000000001,
                        "count": 0
                      },
                      {
                        "bin_start": 0.6000000000000001,
                        "bin_end": 0.7000000000000001,
                        "count": 0
                      },
                      {
                        "bin_start": 0.7000000000000001,
                        "bin_end": 0.8,
                        "count": 0
                      },
                      {
                        "bin_start": 0.8,
                        "bin_end": 0.9,
                        "count": 0
                      },
                      {
                        "bin_start": 0.9,
                        "bin_end": 1,
                        "count": 3
                      }
                    ]
                  }
                },
                {
                  "name": "_deepnote_index_column",
                  "dtype": "int64"
                }
              ],
              "rows_top": [
                {
                  "PassengerId": 1,
                  "Survived": 0,
                  "Name": "Braund, Mr. Owen Harris",
                  "Sex": 0,
                  "Age": 22,
                  "SibSp": 1,
                  "Parch": 0,
                  "Ticket": "A/5 21171",
                  "Fare": 7.25,
                  "Cabin": 0,
                  "Embarked_C": 0,
                  "Embarked_Q": 0,
                  "Embarked_S": 1,
                  "Pclass_1": 0,
                  "Pclass_2": 0,
                  "Pclass_3": 1,
                  "_deepnote_index_column": 0
                },
                {
                  "PassengerId": 2,
                  "Survived": 1,
                  "Name": "Cumings, Mrs. John Bradley (Florence Briggs Thayer)",
                  "Sex": 1,
                  "Age": 38,
                  "SibSp": 1,
                  "Parch": 0,
                  "Ticket": "PC 17599",
                  "Fare": 71.2833,
                  "Cabin": 1,
                  "Embarked_C": 1,
                  "Embarked_Q": 0,
                  "Embarked_S": 0,
                  "Pclass_1": 1,
                  "Pclass_2": 0,
                  "Pclass_3": 0,
                  "_deepnote_index_column": 1
                },
                {
                  "PassengerId": 3,
                  "Survived": 1,
                  "Name": "Heikkinen, Miss. Laina",
                  "Sex": 1,
                  "Age": 26,
                  "SibSp": 0,
                  "Parch": 0,
                  "Ticket": "STON/O2. 3101282",
                  "Fare": 7.925,
                  "Cabin": 0,
                  "Embarked_C": 0,
                  "Embarked_Q": 0,
                  "Embarked_S": 1,
                  "Pclass_1": 0,
                  "Pclass_2": 0,
                  "Pclass_3": 1,
                  "_deepnote_index_column": 2
                },
                {
                  "PassengerId": 4,
                  "Survived": 1,
                  "Name": "Futrelle, Mrs. Jacques Heath (Lily May Peel)",
                  "Sex": 1,
                  "Age": 35,
                  "SibSp": 1,
                  "Parch": 0,
                  "Ticket": "113803",
                  "Fare": 53.1,
                  "Cabin": 1,
                  "Embarked_C": 0,
                  "Embarked_Q": 0,
                  "Embarked_S": 1,
                  "Pclass_1": 1,
                  "Pclass_2": 0,
                  "Pclass_3": 0,
                  "_deepnote_index_column": 3
                },
                {
                  "PassengerId": 5,
                  "Survived": 0,
                  "Name": "Allen, Mr. William Henry",
                  "Sex": 0,
                  "Age": 35,
                  "SibSp": 0,
                  "Parch": 0,
                  "Ticket": "373450",
                  "Fare": 8.05,
                  "Cabin": 0,
                  "Embarked_C": 0,
                  "Embarked_Q": 0,
                  "Embarked_S": 1,
                  "Pclass_1": 0,
                  "Pclass_2": 0,
                  "Pclass_3": 1,
                  "_deepnote_index_column": 4
                }
              ],
              "rows_bottom": null
            },
            "text/plain": "   PassengerId  Survived                                               Name  \\\n0            1         0                            Braund, Mr. Owen Harris   \n1            2         1  Cumings, Mrs. John Bradley (Florence Briggs Th...   \n2            3         1                             Heikkinen, Miss. Laina   \n3            4         1       Futrelle, Mrs. Jacques Heath (Lily May Peel)   \n4            5         0                           Allen, Mr. William Henry   \n\n  Sex   Age  SibSp  Parch            Ticket     Fare Cabin  Embarked_C  \\\n0   0  22.0      1      0         A/5 21171   7.2500     0           0   \n1   1  38.0      1      0          PC 17599  71.2833     1           1   \n2   1  26.0      0      0  STON/O2. 3101282   7.9250     0           0   \n3   1  35.0      1      0            113803  53.1000     1           0   \n4   0  35.0      0      0            373450   8.0500     0           0   \n\n   Embarked_Q  Embarked_S  Pclass_1  Pclass_2  Pclass_3  \n0           0           1         0         0         1  \n1           0           0         1         0         0  \n2           0           1         0         0         1  \n3           0           1         1         0         0  \n4           0           1         0         0         1  ",
            "text/html": "<div>\n<style scoped>\n    .dataframe tbody tr th:only-of-type {\n        vertical-align: middle;\n    }\n\n    .dataframe tbody tr th {\n        vertical-align: top;\n    }\n\n    .dataframe thead th {\n        text-align: right;\n    }\n</style>\n<table border=\"1\" class=\"dataframe\">\n  <thead>\n    <tr style=\"text-align: right;\">\n      <th></th>\n      <th>PassengerId</th>\n      <th>Survived</th>\n      <th>Name</th>\n      <th>Sex</th>\n      <th>Age</th>\n      <th>SibSp</th>\n      <th>Parch</th>\n      <th>Ticket</th>\n      <th>Fare</th>\n      <th>Cabin</th>\n      <th>Embarked_C</th>\n      <th>Embarked_Q</th>\n      <th>Embarked_S</th>\n      <th>Pclass_1</th>\n      <th>Pclass_2</th>\n      <th>Pclass_3</th>\n    </tr>\n  </thead>\n  <tbody>\n    <tr>\n      <th>0</th>\n      <td>1</td>\n      <td>0</td>\n      <td>Braund, Mr. Owen Harris</td>\n      <td>0</td>\n      <td>22.0</td>\n      <td>1</td>\n      <td>0</td>\n      <td>A/5 21171</td>\n      <td>7.2500</td>\n      <td>0</td>\n      <td>0</td>\n      <td>0</td>\n      <td>1</td>\n      <td>0</td>\n      <td>0</td>\n      <td>1</td>\n    </tr>\n    <tr>\n      <th>1</th>\n      <td>2</td>\n      <td>1</td>\n      <td>Cumings, Mrs. John Bradley (Florence Briggs Th...</td>\n      <td>1</td>\n      <td>38.0</td>\n      <td>1</td>\n      <td>0</td>\n      <td>PC 17599</td>\n      <td>71.2833</td>\n      <td>1</td>\n      <td>1</td>\n      <td>0</td>\n      <td>0</td>\n      <td>1</td>\n      <td>0</td>\n      <td>0</td>\n    </tr>\n    <tr>\n      <th>2</th>\n      <td>3</td>\n      <td>1</td>\n      <td>Heikkinen, Miss. Laina</td>\n      <td>1</td>\n      <td>26.0</td>\n      <td>0</td>\n      <td>0</td>\n      <td>STON/O2. 3101282</td>\n      <td>7.9250</td>\n      <td>0</td>\n      <td>0</td>\n      <td>0</td>\n      <td>1</td>\n      <td>0</td>\n      <td>0</td>\n      <td>1</td>\n    </tr>\n    <tr>\n      <th>3</th>\n      <td>4</td>\n      <td>1</td>\n      <td>Futrelle, Mrs. Jacques Heath (Lily May Peel)</td>\n      <td>1</td>\n      <td>35.0</td>\n      <td>1</td>\n      <td>0</td>\n      <td>113803</td>\n      <td>53.1000</td>\n      <td>1</td>\n      <td>0</td>\n      <td>0</td>\n      <td>1</td>\n      <td>1</td>\n      <td>0</td>\n      <td>0</td>\n    </tr>\n    <tr>\n      <th>4</th>\n      <td>5</td>\n      <td>0</td>\n      <td>Allen, Mr. William Henry</td>\n      <td>0</td>\n      <td>35.0</td>\n      <td>0</td>\n      <td>0</td>\n      <td>373450</td>\n      <td>8.0500</td>\n      <td>0</td>\n      <td>0</td>\n      <td>0</td>\n      <td>1</td>\n      <td>0</td>\n      <td>0</td>\n      <td>1</td>\n    </tr>\n  </tbody>\n</table>\n</div>"
          },
          "metadata": {}
        }
      ],
      "execution_count": 41
    },
    {
      "cell_type": "markdown",
      "source": "**Turning age column to binary** \n\nWe know that being a female having more chanceses to surviving!",
      "metadata": {
        "tags": [],
        "cell_id": "00020-c0fd3a75-be89-4a25-9581-01413b044170",
        "deepnote_cell_type": "markdown"
      }
    },
    {
      "cell_type": "code",
      "source": "train_df.loc[train_df[\"Sex\"] == \"male\", \"Sex\"] = 0\ntrain_df.loc[train_df[\"Sex\"] == \"female\", \"Sex\"] = 1\n\ntest_df.loc[train_df[\"Sex\"] == \"male\", \"Sex\"] = 0\ntest_df.loc[train_df[\"Sex\"] == \"female\", \"Sex\"] = 1",
      "metadata": {
        "tags": [],
        "cell_id": "00021-113a73fa-9cb6-4b16-b7cf-a89827553df2",
        "deepnote_to_be_reexecuted": false,
        "source_hash": "eabb4bd9",
        "execution_start": 1619776555046,
        "execution_millis": 25,
        "deepnote_cell_type": "code"
      },
      "outputs": [],
      "execution_count": 30
    },
    {
      "cell_type": "code",
      "source": "",
      "metadata": {
        "tags": [],
        "cell_id": "00022-717470e5-000b-4f09-9723-13d23dd04092",
        "deepnote_to_be_reexecuted": false,
        "source_hash": "b623e53d",
        "execution_start": 1619776908622,
        "execution_millis": 0,
        "deepnote_cell_type": "code"
      },
      "outputs": [],
      "execution_count": 38
    },
    {
      "cell_type": "markdown",
      "source": "### Modelling\n* Defining split data\n\n* We will create for loop for trying to every kind of classification models",
      "metadata": {
        "tags": [],
        "cell_id": "00018-b2b5364b-7da1-4107-b5d2-a5978181acb1",
        "deepnote_cell_type": "markdown"
      }
    },
    {
      "cell_type": "code",
      "source": "#train_X, val_X, train_y, val_y = train_test_split(X, y, random_state=0,test_size=0.2)\ntrain_y=train_df[\"Survived\"]\ntrain_X=train_df.drop([\"Survived\",\"Name\",\"PassengerId\"],axis=1)\n\n#test_y=test_df[\"Survived\"] **** There wont be any test_y because it is a kaggle competetion we will send to kaggle\ntest_x=train_df.drop([\"Name\",\"PassengerId\"],axis=1)\n",
      "metadata": {
        "tags": [],
        "cell_id": "00019-76d2aa79-f3ab-4b63-899a-d9c93c7ffd6b",
        "deepnote_to_be_reexecuted": false,
        "source_hash": "9be79ef8",
        "execution_start": 1619777105282,
        "execution_millis": 16,
        "deepnote_cell_type": "code"
      },
      "outputs": [],
      "execution_count": 43
    },
    {
      "cell_type": "markdown",
      "source": "Creating parameters",
      "metadata": {
        "tags": [],
        "cell_id": "00025-b4151ab8-e6ee-455a-9a02-c96c7185dbc1",
        "deepnote_cell_type": "markdown"
      }
    },
    {
      "cell_type": "code",
      "source": "model_params = {\n    'svm': {\n        'model': svm.SVC(gamma='auto'),\n        'params' : {\n            'C': [1,10,20],\n            'kernel': ['rbf','linear']\n        }  \n    },\n    'random_forest': {\n        'model': RandomForestClassifier(),\n        'params' : {\n            'n_estimators': [1,5,10]\n        }\n    },\n    'logistic_regression' : {\n        'model': LogisticRegression(solver='liblinear',multi_class='auto'),\n        'params': {\n            'C': [1,5,10]\n        }\n    }\n}",
      "metadata": {
        "tags": [],
        "cell_id": "00020-d7214daa-225b-49f8-a37e-d7b206f90c1b",
        "deepnote_to_be_reexecuted": false,
        "source_hash": "44093afc",
        "execution_start": 1619777108347,
        "execution_millis": 13,
        "deepnote_cell_type": "code"
      },
      "outputs": [],
      "execution_count": 44
    },
    {
      "cell_type": "markdown",
      "source": "Running classification models for finding best result!",
      "metadata": {
        "tags": [],
        "cell_id": "00027-b4e5ef6a-fd11-4040-acf8-fdaa440a57b0",
        "deepnote_cell_type": "markdown"
      }
    },
    {
      "cell_type": "code",
      "source": "scores = []\n\nfor model_name, mp in model_params.items():\n    clf =  GridSearchCV(mp['model'], mp['params'], cv=5, return_train_score=False)\n    clf.fit(iris.data, iris.target)\n    scores.append({\n        'model': model_name,\n        'best_score': clf.best_score_,\n        'best_params': clf.best_params_\n    })\n    \ndf_scores = pd.DataFrame(scores,columns=['model','best_score','best_params'])\ndf_scores",
      "metadata": {
        "tags": [],
        "cell_id": "00026-b47d12c4-c9df-44d7-b39a-adf04724e825",
        "deepnote_cell_type": "code"
      },
      "outputs": [],
      "execution_count": null
    },
    {
      "cell_type": "markdown",
      "source": "<a style='text-decoration:none;line-height:16px;display:flex;color:#5B5B62;padding:10px;justify-content:end;' href='https://deepnote.com?utm_source=created-in-deepnote-cell&projectId=91fc748d-6dfe-4653-b79b-4cbc51a66576' target=\"_blank\">\n<img alt='Created in deepnote.com' style='display:inline;max-height:16px;margin:0px;margin-right:7.5px;' src='data:image/svg+xml;base64,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' > </img>\nCreated in <span style='font-weight:600;margin-left:4px;'>Deepnote</span></a>",
      "metadata": {
        "tags": [],
        "created_in_deepnote_cell": true,
        "deepnote_cell_type": "markdown"
      }
    }
  ],
  "nbformat": 4,
  "nbformat_minor": 2,
  "metadata": {
    "orig_nbformat": 2,
    "deepnote": {
      "is_reactive": false
    },
    "deepnote_notebook_id": "623d497f-0943-4435-8206-d36ee4e84c9e",
    "deepnote_execution_queue": []
  }
}