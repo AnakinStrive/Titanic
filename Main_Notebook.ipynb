{
  "cells": [
    {
      "cell_type": "markdown",
      "source": "### Surviving ",
      "metadata": {
        "tags": [],
        "cell_id": "00000-ba4db558-aa40-4aa1-bdab-575f62e77676",
        "deepnote_cell_type": "markdown"
      }
    },
    {
      "cell_type": "markdown",
      "source": "### Importing Libraries",
      "metadata": {
        "tags": [],
        "cell_id": "00000-860eb7a5-63e4-47f6-8af5-233c269a1756",
        "deepnote_cell_type": "markdown"
      }
    },
    {
      "cell_type": "code",
      "metadata": {
        "tags": [],
        "cell_id": "00000-4bd16785-7e30-4340-9b95-9f21a718f3e9",
        "deepnote_to_be_reexecuted": false,
        "source_hash": "4756d558",
        "execution_start": 1619782369181,
        "execution_millis": 4684,
        "deepnote_cell_type": "code"
      },
      "source": "import pandas as pd\nimport numpy as np\nimport matplotlib.pyplot as plt\nimport seaborn as sns\n%matplotlib inline\nfrom sklearn.datasets import load_breast_cancer\nfrom sklearn.model_selection import train_test_split\nfrom sklearn import svm\nfrom sklearn.metrics import f1_score\nfrom sklearn.metrics import jaccard_score\nfrom sklearn.model_selection import GridSearchCV\nfrom sklearn.metrics import confusion_matrix\n\nfrom sklearn import svm\nfrom sklearn.ensemble import RandomForestClassifier\nfrom sklearn.linear_model import LogisticRegression",
      "execution_count": 1,
      "outputs": []
    },
    {
      "cell_type": "markdown",
      "source": "### Importing Data",
      "metadata": {
        "tags": [],
        "cell_id": "00002-e126c862-3099-4959-875a-80ddae6034db",
        "deepnote_cell_type": "markdown"
      }
    },
    {
      "cell_type": "code",
      "metadata": {
        "tags": [],
        "cell_id": "00001-da25ad2c-6d88-4026-a90e-bfed05a72a6d",
        "deepnote_to_be_reexecuted": false,
        "source_hash": "218b99ea",
        "execution_start": 1619782373871,
        "execution_millis": 74,
        "deepnote_cell_type": "code"
      },
      "source": "train_df=pd.read_csv('/work/Titanic/train.csv')\ntest_df=pd.read_csv('/work/Titanic/test.csv')",
      "execution_count": 2,
      "outputs": []
    },
    {
      "cell_type": "markdown",
      "source": "Looking at data set",
      "metadata": {
        "tags": [],
        "cell_id": "00004-719f8608-b351-474f-ade8-a889a6a1f87d",
        "deepnote_cell_type": "markdown"
      }
    },
    {
      "cell_type": "code",
      "metadata": {
        "tags": [],
        "cell_id": "00002-8d381ec8-7484-44f6-8d59-5beee02ad3c2",
        "deepnote_to_be_reexecuted": false,
        "source_hash": "b1a8b3e0",
        "execution_start": 1619782373975,
        "execution_millis": 230,
        "deepnote_cell_type": "code"
      },
      "source": "train_df.head()",
      "execution_count": 3,
      "outputs": [
        {
          "output_type": "execute_result",
          "execution_count": 3,
          "data": {
            "application/vnd.deepnote.dataframe.v2+json": {
              "row_count": 5,
              "column_count": 12,
              "columns": [
                {
                  "name": "PassengerId",
                  "dtype": "int64",
                  "stats": {
                    "unique_count": 5,
                    "nan_count": 0,
                    "min": "1",
                    "max": "5",
                    "histogram": [
                      {
                        "bin_start": 1,
                        "bin_end": 1.4,
                        "count": 1
                      },
                      {
                        "bin_start": 1.4,
                        "bin_end": 1.8,
                        "count": 0
                      },
                      {
                        "bin_start": 1.8,
                        "bin_end": 2.2,
                        "count": 1
                      },
                      {
                        "bin_start": 2.2,
                        "bin_end": 2.6,
                        "count": 0
                      },
                      {
                        "bin_start": 2.6,
                        "bin_end": 3,
                        "count": 0
                      },
                      {
                        "bin_start": 3,
                        "bin_end": 3.4000000000000004,
                        "count": 1
                      },
                      {
                        "bin_start": 3.4000000000000004,
                        "bin_end": 3.8000000000000003,
                        "count": 0
                      },
                      {
                        "bin_start": 3.8000000000000003,
                        "bin_end": 4.2,
                        "count": 1
                      },
                      {
                        "bin_start": 4.2,
                        "bin_end": 4.6,
                        "count": 0
                      },
                      {
                        "bin_start": 4.6,
                        "bin_end": 5,
                        "count": 1
                      }
                    ]
                  }
                },
                {
                  "name": "Survived",
                  "dtype": "int64",
                  "stats": {
                    "unique_count": 2,
                    "nan_count": 0,
                    "min": "0",
                    "max": "1",
                    "histogram": [
                      {
                        "bin_start": 0,
                        "bin_end": 0.1,
                        "count": 2
                      },
                      {
                        "bin_start": 0.1,
                        "bin_end": 0.2,
                        "count": 0
                      },
                      {
                        "bin_start": 0.2,
                        "bin_end": 0.30000000000000004,
                        "count": 0
                      },
                      {
                        "bin_start": 0.30000000000000004,
                        "bin_end": 0.4,
                        "count": 0
                      },
                      {
                        "bin_start": 0.4,
                        "bin_end": 0.5,
                        "count": 0
                      },
                      {
                        "bin_start": 0.5,
                        "bin_end": 0.6000000000000001,
                        "count": 0
                      },
                      {
                        "bin_start": 0.6000000000000001,
                        "bin_end": 0.7000000000000001,
                        "count": 0
                      },
                      {
                        "bin_start": 0.7000000000000001,
                        "bin_end": 0.8,
                        "count": 0
                      },
                      {
                        "bin_start": 0.8,
                        "bin_end": 0.9,
                        "count": 0
                      },
                      {
                        "bin_start": 0.9,
                        "bin_end": 1,
                        "count": 3
                      }
                    ]
                  }
                },
                {
                  "name": "Pclass",
                  "dtype": "int64",
                  "stats": {
                    "unique_count": 2,
                    "nan_count": 0,
                    "min": "1",
                    "max": "3",
                    "histogram": [
                      {
                        "bin_start": 1,
                        "bin_end": 1.2,
                        "count": 2
                      },
                      {
                        "bin_start": 1.2,
                        "bin_end": 1.4,
                        "count": 0
                      },
                      {
                        "bin_start": 1.4,
                        "bin_end": 1.6,
                        "count": 0
                      },
                      {
                        "bin_start": 1.6,
                        "bin_end": 1.8,
                        "count": 0
                      },
                      {
                        "bin_start": 1.8,
                        "bin_end": 2,
                        "count": 0
                      },
                      {
                        "bin_start": 2,
                        "bin_end": 2.2,
                        "count": 0
                      },
                      {
                        "bin_start": 2.2,
                        "bin_end": 2.4000000000000004,
                        "count": 0
                      },
                      {
                        "bin_start": 2.4000000000000004,
                        "bin_end": 2.6,
                        "count": 0
                      },
                      {
                        "bin_start": 2.6,
                        "bin_end": 2.8,
                        "count": 0
                      },
                      {
                        "bin_start": 2.8,
                        "bin_end": 3,
                        "count": 3
                      }
                    ]
                  }
                },
                {
                  "name": "Name",
                  "dtype": "object",
                  "stats": {
                    "unique_count": 5,
                    "nan_count": 0,
                    "categories": [
                      {
                        "name": "Braund, Mr. Owen Harris",
                        "count": 1
                      },
                      {
                        "name": "Cumings, Mrs. John Bradley (Florence Briggs Thayer)",
                        "count": 1
                      },
                      {
                        "name": "3 others",
                        "count": 3
                      }
                    ]
                  }
                },
                {
                  "name": "Sex",
                  "dtype": "object",
                  "stats": {
                    "unique_count": 2,
                    "nan_count": 0,
                    "categories": [
                      {
                        "name": "female",
                        "count": 3
                      },
                      {
                        "name": "male",
                        "count": 2
                      }
                    ]
                  }
                },
                {
                  "name": "Age",
                  "dtype": "float64",
                  "stats": {
                    "unique_count": 4,
                    "nan_count": 0,
                    "min": "22.0",
                    "max": "38.0",
                    "histogram": [
                      {
                        "bin_start": 22,
                        "bin_end": 23.6,
                        "count": 1
                      },
                      {
                        "bin_start": 23.6,
                        "bin_end": 25.2,
                        "count": 0
                      },
                      {
                        "bin_start": 25.2,
                        "bin_end": 26.8,
                        "count": 1
                      },
                      {
                        "bin_start": 26.8,
                        "bin_end": 28.4,
                        "count": 0
                      },
                      {
                        "bin_start": 28.4,
                        "bin_end": 30,
                        "count": 0
                      },
                      {
                        "bin_start": 30,
                        "bin_end": 31.6,
                        "count": 0
                      },
                      {
                        "bin_start": 31.6,
                        "bin_end": 33.2,
                        "count": 0
                      },
                      {
                        "bin_start": 33.2,
                        "bin_end": 34.8,
                        "count": 0
                      },
                      {
                        "bin_start": 34.8,
                        "bin_end": 36.4,
                        "count": 2
                      },
                      {
                        "bin_start": 36.4,
                        "bin_end": 38,
                        "count": 1
                      }
                    ]
                  }
                },
                {
                  "name": "SibSp",
                  "dtype": "int64",
                  "stats": {
                    "unique_count": 2,
                    "nan_count": 0,
                    "min": "0",
                    "max": "1",
                    "histogram": [
                      {
                        "bin_start": 0,
                        "bin_end": 0.1,
                        "count": 2
                      },
                      {
                        "bin_start": 0.1,
                        "bin_end": 0.2,
                        "count": 0
                      },
                      {
                        "bin_start": 0.2,
                        "bin_end": 0.30000000000000004,
                        "count": 0
                      },
                      {
                        "bin_start": 0.30000000000000004,
                        "bin_end": 0.4,
                        "count": 0
                      },
                      {
                        "bin_start": 0.4,
                        "bin_end": 0.5,
                        "count": 0
                      },
                      {
                        "bin_start": 0.5,
                        "bin_end": 0.6000000000000001,
                        "count": 0
                      },
                      {
                        "bin_start": 0.6000000000000001,
                        "bin_end": 0.7000000000000001,
                        "count": 0
                      },
                      {
                        "bin_start": 0.7000000000000001,
                        "bin_end": 0.8,
                        "count": 0
                      },
                      {
                        "bin_start": 0.8,
                        "bin_end": 0.9,
                        "count": 0
                      },
                      {
                        "bin_start": 0.9,
                        "bin_end": 1,
                        "count": 3
                      }
                    ]
                  }
                },
                {
                  "name": "Parch",
                  "dtype": "int64",
                  "stats": {
                    "unique_count": 1,
                    "nan_count": 0,
                    "min": "0",
                    "max": "0",
                    "histogram": [
                      {
                        "bin_start": -0.5,
                        "bin_end": -0.4,
                        "count": 0
                      },
                      {
                        "bin_start": -0.4,
                        "bin_end": -0.3,
                        "count": 0
                      },
                      {
                        "bin_start": -0.3,
                        "bin_end": -0.19999999999999996,
                        "count": 0
                      },
                      {
                        "bin_start": -0.19999999999999996,
                        "bin_end": -0.09999999999999998,
                        "count": 0
                      },
                      {
                        "bin_start": -0.09999999999999998,
                        "bin_end": 0,
                        "count": 0
                      },
                      {
                        "bin_start": 0,
                        "bin_end": 0.10000000000000009,
                        "count": 5
                      },
                      {
                        "bin_start": 0.10000000000000009,
                        "bin_end": 0.20000000000000007,
                        "count": 0
                      },
                      {
                        "bin_start": 0.20000000000000007,
                        "bin_end": 0.30000000000000004,
                        "count": 0
                      },
                      {
                        "bin_start": 0.30000000000000004,
                        "bin_end": 0.4,
                        "count": 0
                      },
                      {
                        "bin_start": 0.4,
                        "bin_end": 0.5,
                        "count": 0
                      }
                    ]
                  }
                },
                {
                  "name": "Ticket",
                  "dtype": "object",
                  "stats": {
                    "unique_count": 5,
                    "nan_count": 0,
                    "categories": [
                      {
                        "name": "A/5 21171",
                        "count": 1
                      },
                      {
                        "name": "PC 17599",
                        "count": 1
                      },
                      {
                        "name": "3 others",
                        "count": 3
                      }
                    ]
                  }
                },
                {
                  "name": "Fare",
                  "dtype": "float64",
                  "stats": {
                    "unique_count": 5,
                    "nan_count": 0,
                    "min": "7.25",
                    "max": "71.2833",
                    "histogram": [
                      {
                        "bin_start": 7.25,
                        "bin_end": 13.65333,
                        "count": 3
                      },
                      {
                        "bin_start": 13.65333,
                        "bin_end": 20.05666,
                        "count": 0
                      },
                      {
                        "bin_start": 20.05666,
                        "bin_end": 26.459989999999998,
                        "count": 0
                      },
                      {
                        "bin_start": 26.459989999999998,
                        "bin_end": 32.86332,
                        "count": 0
                      },
                      {
                        "bin_start": 32.86332,
                        "bin_end": 39.26665,
                        "count": 0
                      },
                      {
                        "bin_start": 39.26665,
                        "bin_end": 45.669979999999995,
                        "count": 0
                      },
                      {
                        "bin_start": 45.669979999999995,
                        "bin_end": 52.07331,
                        "count": 0
                      },
                      {
                        "bin_start": 52.07331,
                        "bin_end": 58.476639999999996,
                        "count": 1
                      },
                      {
                        "bin_start": 58.476639999999996,
                        "bin_end": 64.87996999999999,
                        "count": 0
                      },
                      {
                        "bin_start": 64.87996999999999,
                        "bin_end": 71.2833,
                        "count": 1
                      }
                    ]
                  }
                },
                {
                  "name": "Cabin",
                  "dtype": "object",
                  "stats": {
                    "unique_count": 2,
                    "nan_count": 3,
                    "categories": [
                      {
                        "name": "C85",
                        "count": 1
                      },
                      {
                        "name": "C123",
                        "count": 1
                      },
                      {
                        "name": "Missing",
                        "count": 3
                      }
                    ]
                  }
                },
                {
                  "name": "Embarked",
                  "dtype": "object",
                  "stats": {
                    "unique_count": 2,
                    "nan_count": 0,
                    "categories": [
                      {
                        "name": "S",
                        "count": 4
                      },
                      {
                        "name": "C",
                        "count": 1
                      }
                    ]
                  }
                },
                {
                  "name": "_deepnote_index_column",
                  "dtype": "int64"
                }
              ],
              "rows_top": [
                {
                  "PassengerId": 1,
                  "Survived": 0,
                  "Pclass": 3,
                  "Name": "Braund, Mr. Owen Harris",
                  "Sex": "male",
                  "Age": 22,
                  "SibSp": 1,
                  "Parch": 0,
                  "Ticket": "A/5 21171",
                  "Fare": 7.25,
                  "Cabin": "nan",
                  "Embarked": "S",
                  "_deepnote_index_column": 0
                },
                {
                  "PassengerId": 2,
                  "Survived": 1,
                  "Pclass": 1,
                  "Name": "Cumings, Mrs. John Bradley (Florence Briggs Thayer)",
                  "Sex": "female",
                  "Age": 38,
                  "SibSp": 1,
                  "Parch": 0,
                  "Ticket": "PC 17599",
                  "Fare": 71.2833,
                  "Cabin": "C85",
                  "Embarked": "C",
                  "_deepnote_index_column": 1
                },
                {
                  "PassengerId": 3,
                  "Survived": 1,
                  "Pclass": 3,
                  "Name": "Heikkinen, Miss. Laina",
                  "Sex": "female",
                  "Age": 26,
                  "SibSp": 0,
                  "Parch": 0,
                  "Ticket": "STON/O2. 3101282",
                  "Fare": 7.925,
                  "Cabin": "nan",
                  "Embarked": "S",
                  "_deepnote_index_column": 2
                },
                {
                  "PassengerId": 4,
                  "Survived": 1,
                  "Pclass": 1,
                  "Name": "Futrelle, Mrs. Jacques Heath (Lily May Peel)",
                  "Sex": "female",
                  "Age": 35,
                  "SibSp": 1,
                  "Parch": 0,
                  "Ticket": "113803",
                  "Fare": 53.1,
                  "Cabin": "C123",
                  "Embarked": "S",
                  "_deepnote_index_column": 3
                },
                {
                  "PassengerId": 5,
                  "Survived": 0,
                  "Pclass": 3,
                  "Name": "Allen, Mr. William Henry",
                  "Sex": "male",
                  "Age": 35,
                  "SibSp": 0,
                  "Parch": 0,
                  "Ticket": "373450",
                  "Fare": 8.05,
                  "Cabin": "nan",
                  "Embarked": "S",
                  "_deepnote_index_column": 4
                }
              ],
              "rows_bottom": null
            },
            "text/plain": "   PassengerId  Survived  Pclass  \\\n0            1         0       3   \n1            2         1       1   \n2            3         1       3   \n3            4         1       1   \n4            5         0       3   \n\n                                                Name     Sex   Age  SibSp  \\\n0                            Braund, Mr. Owen Harris    male  22.0      1   \n1  Cumings, Mrs. John Bradley (Florence Briggs Th...  female  38.0      1   \n2                             Heikkinen, Miss. Laina  female  26.0      0   \n3       Futrelle, Mrs. Jacques Heath (Lily May Peel)  female  35.0      1   \n4                           Allen, Mr. William Henry    male  35.0      0   \n\n   Parch            Ticket     Fare Cabin Embarked  \n0      0         A/5 21171   7.2500   NaN        S  \n1      0          PC 17599  71.2833   C85        C  \n2      0  STON/O2. 3101282   7.9250   NaN        S  \n3      0            113803  53.1000  C123        S  \n4      0            373450   8.0500   NaN        S  ",
            "text/html": "<div>\n<style scoped>\n    .dataframe tbody tr th:only-of-type {\n        vertical-align: middle;\n    }\n\n    .dataframe tbody tr th {\n        vertical-align: top;\n    }\n\n    .dataframe thead th {\n        text-align: right;\n    }\n</style>\n<table border=\"1\" class=\"dataframe\">\n  <thead>\n    <tr style=\"text-align: right;\">\n      <th></th>\n      <th>PassengerId</th>\n      <th>Survived</th>\n      <th>Pclass</th>\n      <th>Name</th>\n      <th>Sex</th>\n      <th>Age</th>\n      <th>SibSp</th>\n      <th>Parch</th>\n      <th>Ticket</th>\n      <th>Fare</th>\n      <th>Cabin</th>\n      <th>Embarked</th>\n    </tr>\n  </thead>\n  <tbody>\n    <tr>\n      <th>0</th>\n      <td>1</td>\n      <td>0</td>\n      <td>3</td>\n      <td>Braund, Mr. Owen Harris</td>\n      <td>male</td>\n      <td>22.0</td>\n      <td>1</td>\n      <td>0</td>\n      <td>A/5 21171</td>\n      <td>7.2500</td>\n      <td>NaN</td>\n      <td>S</td>\n    </tr>\n    <tr>\n      <th>1</th>\n      <td>2</td>\n      <td>1</td>\n      <td>1</td>\n      <td>Cumings, Mrs. John Bradley (Florence Briggs Th...</td>\n      <td>female</td>\n      <td>38.0</td>\n      <td>1</td>\n      <td>0</td>\n      <td>PC 17599</td>\n      <td>71.2833</td>\n      <td>C85</td>\n      <td>C</td>\n    </tr>\n    <tr>\n      <th>2</th>\n      <td>3</td>\n      <td>1</td>\n      <td>3</td>\n      <td>Heikkinen, Miss. Laina</td>\n      <td>female</td>\n      <td>26.0</td>\n      <td>0</td>\n      <td>0</td>\n      <td>STON/O2. 3101282</td>\n      <td>7.9250</td>\n      <td>NaN</td>\n      <td>S</td>\n    </tr>\n    <tr>\n      <th>3</th>\n      <td>4</td>\n      <td>1</td>\n      <td>1</td>\n      <td>Futrelle, Mrs. Jacques Heath (Lily May Peel)</td>\n      <td>female</td>\n      <td>35.0</td>\n      <td>1</td>\n      <td>0</td>\n      <td>113803</td>\n      <td>53.1000</td>\n      <td>C123</td>\n      <td>S</td>\n    </tr>\n    <tr>\n      <th>4</th>\n      <td>5</td>\n      <td>0</td>\n      <td>3</td>\n      <td>Allen, Mr. William Henry</td>\n      <td>male</td>\n      <td>35.0</td>\n      <td>0</td>\n      <td>0</td>\n      <td>373450</td>\n      <td>8.0500</td>\n      <td>NaN</td>\n      <td>S</td>\n    </tr>\n  </tbody>\n</table>\n</div>"
          },
          "metadata": {}
        }
      ]
    },
    {
      "cell_type": "code",
      "metadata": {
        "tags": [],
        "cell_id": "00003-12423328-5aad-4b52-86de-08f69c62c927",
        "deepnote_to_be_reexecuted": false,
        "source_hash": "23fa2469",
        "execution_start": 1619782374207,
        "execution_millis": 5346,
        "deepnote_cell_type": "code"
      },
      "source": "#Heat map of null cells\nfig = plt.figure(figsize=(15,5))\nfig.add_subplot(121)\nplt.title('Nulls of Train Data')\nsns.heatmap(train_df.isnull(), cmap='plasma')\n\nfig.add_subplot(122)\nplt.title('Nulls of Test Data\"')\nsns.heatmap(test_df.isnull(), cmap='plasma')\nplt.show()\n\nmissing_percentage_train = train_df.isnull().sum() * 100 / len(train_df) #Calculating percentage of missing values\nmissing_percentage_train",
      "execution_count": 4,
      "outputs": [
        {
          "data": {
            "text/plain": "<Figure size 1080x360 with 4 Axes>",
            "image/png": "[encoded data removed]"
          },
          "metadata": {
            "needs_background": "light",
            "image/png": {
              "width": 856,
              "height": 369
            }
          },
          "output_type": "display_data"
        },
        {
          "output_type": "execute_result",
          "execution_count": 4,
          "data": {
            "text/plain": "PassengerId     0.000000\nSurvived        0.000000\nPclass          0.000000\nName            0.000000\nSex             0.000000\nAge            19.865320\nSibSp           0.000000\nParch           0.000000\nTicket          0.000000\nFare            0.000000\nCabin          77.104377\nEmbarked        0.224467\ndtype: float64"
          },
          "metadata": {}
        }
      ]
    },
    {
      "cell_type": "markdown",
      "source": "### Handling Null Data",
      "metadata": {
        "tags": [],
        "cell_id": "00009-f0dc1fb4-8e19-41df-b221-c1a811b80e05",
        "deepnote_cell_type": "markdown"
      }
    },
    {
      "cell_type": "markdown",
      "source": "#### Cabin",
      "metadata": {
        "tags": [],
        "cell_id": "00011-1002cff9-0d83-493e-aaca-d884d560e1b2",
        "deepnote_cell_type": "markdown"
      }
    },
    {
      "cell_type": "code",
      "source": "train_df.Cabin.fillna(\"No Cabin\", inplace=True) #We named Null cells as 'Empty'\ntest_df.Cabin.fillna(\"No Cabin\", inplace=True) #We named Null cells as 'Empty'\n\ntrain_df.loc[train_df[\"Cabin\"] != \"No Cabin\", \"Cabin\"] = \"Has Cabin\"\ntest_df.loc[test_df[\"Cabin\"] != \"No Cabin\", \"Cabin\" ] =\"Has Cabin\"\n\nfig = plt.figure(figsize=(15,4))\nfig.add_subplot(121)\nsns.barplot(data=train_df, x=\"Cabin\",y=\"Survived\" , palette=\"Set2\",saturation=2,edgecolor=(0,0,0),  linewidth=1)",
      "metadata": {
        "tags": [],
        "cell_id": "00011-26872efe-b076-4da4-9dc0-138a2d240484",
        "deepnote_to_be_reexecuted": false,
        "source_hash": "8476ddeb",
        "execution_start": 1619782379546,
        "execution_millis": 984,
        "deepnote_cell_type": "code"
      },
      "outputs": [
        {
          "output_type": "execute_result",
          "execution_count": 5,
          "data": {
            "text/plain": "<AxesSubplot:xlabel='Cabin', ylabel='Survived'>"
          },
          "metadata": {}
        },
        {
          "data": {
            "text/plain": "<Figure size 1080x288 with 1 Axes>",
            "image/png": "[encoded data removed]"
          },
          "metadata": {
            "needs_background": "light",
            "image/png": {
              "width": 431,
              "height": 262
            }
          },
          "output_type": "display_data"
        }
      ],
      "execution_count": 5
    },
    {
      "cell_type": "markdown",
      "source": "Having a cabin or not it effects to survive rate very impressive!\nSo turn the data to 1 and 0",
      "metadata": {
        "tags": [],
        "cell_id": "00012-033043fa-389f-4ce4-a4fb-f5def206306e",
        "deepnote_cell_type": "markdown"
      }
    },
    {
      "cell_type": "code",
      "source": "train_df.loc[train_df[\"Cabin\"] == \"No Cabin\", \"Cabin\"] = 0\ntest_df.loc[test_df[\"Cabin\"] == \"No Cabin\", \"Cabin\" ] =0\ntrain_df.loc[train_df[\"Cabin\"] == \"Has Cabin\", \"Cabin\"] = 1\ntest_df.loc[test_df[\"Cabin\"] == \"Has Cabin\", \"Cabin\" ] =1",
      "metadata": {
        "tags": [],
        "cell_id": "00012-1f8ece2a-1a28-49ae-89fa-7e748ca60902",
        "deepnote_to_be_reexecuted": false,
        "source_hash": "d74010c5",
        "execution_start": 1619782380544,
        "execution_millis": 27,
        "deepnote_cell_type": "code"
      },
      "outputs": [],
      "execution_count": 6
    },
    {
      "cell_type": "markdown",
      "source": "** Filling the Age null data**\n\nFirst we will examine their distribution by gender and Passenger Class / Embarked",
      "metadata": {
        "tags": [],
        "cell_id": "00013-dccc5061-d18f-4af1-8c5d-fac0afb8f297",
        "deepnote_cell_type": "markdown"
      }
    },
    {
      "cell_type": "code",
      "source": "fig = plt.figure(figsize=(15,5))\nfig.add_subplot(121)\nsns.violinplot(data=train_df, x='Pclass',y='Age',hue='Sex')\nplt.title('Train Data Passenger Class/Male-Female')\n\nfig.add_subplot(122)\nsns.violinplot(data=test_df,x='Pclass',y='Age',hue='Sex')\nplt.title('Test Data Passenger Class/Male-Female')\nplt.show()\n\nfig.add_subplot(121)\nsns.violinplot(data=test_df,x='Embarked',y='Age',hue='Sex')\nplt.title('Test Data Embarked/Male-Female')\nplt.show()",
      "metadata": {
        "tags": [],
        "cell_id": "00014-37b25883-60ab-435d-9571-7ae86972d2e6",
        "deepnote_to_be_reexecuted": false,
        "source_hash": "5cc18560",
        "execution_start": 1619782380589,
        "execution_millis": 3680,
        "deepnote_cell_type": "code"
      },
      "outputs": [
        {
          "data": {
            "text/plain": "<Figure size 1080x360 with 2 Axes>",
            "image/png": "[encoded data removed]"
          },
          "metadata": {
            "needs_background": "light",
            "image/png": {
              "width": 885,
              "height": 333
            }
          },
          "output_type": "display_data"
        },
        {
          "data": {
            "text/plain": "<Figure size 432x288 with 1 Axes>",
            "image/png": "[encoded data removed]"
          },
          "metadata": {
            "needs_background": "light",
            "image/png": {
              "width": 382,
              "height": 278
            }
          },
          "output_type": "display_data"
        }
      ],
      "execution_count": 7
    },
    {
      "cell_type": "markdown",
      "source": "Now we can totally understand that Passenger Class highly affects Age status with gender so we will fill Null cells considering with Passenger Class and Gender",
      "metadata": {
        "tags": [],
        "cell_id": "00015-b799c5e1-31d5-4925-8cbb-c32183ea9e4c",
        "deepnote_cell_type": "markdown"
      }
    },
    {
      "cell_type": "code",
      "source": "train_df.Age.fillna(train_df.groupby(['Pclass', 'Sex']).Age.transform('mean'), inplace=True)\ntest_df.Age.fillna(test_df.groupby(['Pclass', 'Sex']).Age.transform('mean'), inplace=True)\n",
      "metadata": {
        "tags": [],
        "cell_id": "00014-79b6ee68-6cf2-4f14-84e1-852d7be07c82",
        "deepnote_to_be_reexecuted": false,
        "source_hash": "78db936b",
        "execution_start": 1619782384299,
        "execution_millis": 23,
        "deepnote_cell_type": "code"
      },
      "outputs": [],
      "execution_count": 8
    },
    {
      "cell_type": "markdown",
      "source": "** Filling Null of Test Fare Column **",
      "metadata": {
        "tags": [],
        "cell_id": "00017-cdfa02a1-b97f-40ef-ae25-e02e3469a679",
        "deepnote_cell_type": "markdown"
      }
    },
    {
      "cell_type": "code",
      "source": "test_df[\"Fare\"]=test_df[\"Fare\"].fillna(test_df[\"Fare\"].mean())",
      "metadata": {
        "tags": [],
        "cell_id": "00018-98d34f82-9bf6-4e0f-bd96-e9368d822dad",
        "deepnote_to_be_reexecuted": false,
        "source_hash": "f1df3f19",
        "execution_start": 1619782384344,
        "execution_millis": 3,
        "deepnote_cell_type": "code"
      },
      "outputs": [],
      "execution_count": 9
    },
    {
      "cell_type": "markdown",
      "source": "#### Embarked\n\nThere is only 2 null data on this column, so we can easily consider filling it with the mode of this feature\n\n",
      "metadata": {
        "tags": [],
        "cell_id": "00014-20a66631-035b-43bb-a1bc-9328d54cc237",
        "deepnote_cell_type": "markdown"
      }
    },
    {
      "cell_type": "code",
      "source": "train_df['Embarked']=train_df['Embarked'].fillna(train_df['Embarked'].mode()[0])\ntest_df['Embarked']=test_df['Embarked'].fillna(test_df['Embarked'].mode()[0])\n",
      "metadata": {
        "tags": [],
        "cell_id": "00013-0b41cb9f-de54-4f77-99ec-69120ece6d11",
        "deepnote_to_be_reexecuted": false,
        "source_hash": "89f5294a",
        "execution_start": 1619782384376,
        "execution_millis": 3,
        "deepnote_cell_type": "code"
      },
      "outputs": [],
      "execution_count": 10
    },
    {
      "cell_type": "markdown",
      "source": "#### Scaling",
      "metadata": {
        "tags": [],
        "cell_id": "00015-a63f05c5-196f-490c-8499-2038ab808fe3",
        "deepnote_cell_type": "markdown"
      }
    },
    {
      "cell_type": "markdown",
      "source": "** Scaling the Age column**",
      "metadata": {
        "tags": [],
        "cell_id": "00016-3d8fcf1d-a6f6-4be6-b085-128adca4c5da",
        "deepnote_cell_type": "markdown"
      }
    },
    {
      "cell_type": "code",
      "source": "sns.boxplot(x=train_df[\"Age\"],palette='hot')",
      "metadata": {
        "tags": [],
        "cell_id": "00015-5d980414-e22e-4776-8cca-cae6607c9bd4",
        "deepnote_to_be_reexecuted": false,
        "source_hash": "707b08ea",
        "execution_start": 1619782384433,
        "execution_millis": 517,
        "deepnote_cell_type": "code"
      },
      "outputs": [
        {
          "output_type": "execute_result",
          "execution_count": 11,
          "data": {
            "text/plain": "<AxesSubplot:xlabel='Age'>"
          },
          "metadata": {}
        },
        {
          "data": {
            "text/plain": "<Figure size 432x288 with 1 Axes>",
            "image/png": "[encoded data removed]"
          },
          "metadata": {
            "needs_background": "light",
            "image/png": {
              "width": 352,
              "height": 262
            }
          },
          "output_type": "display_data"
        }
      ],
      "execution_count": 11
    },
    {
      "cell_type": "markdown",
      "source": "There are some noises after 62-63 years old, we decided to best approach is mean normalization!",
      "metadata": {
        "tags": [],
        "cell_id": "00018-92791dfd-db7c-41e8-8755-be7da1df89ae",
        "deepnote_cell_type": "markdown"
      }
    },
    {
      "cell_type": "code",
      "source": "train_df['Age_mean_norm'] = (train_df['Age'] - train_df['Age'].mean()) / train_df['Age'].std()\n\ntest_df['Age_mean_norm'] = (test_df['Age'] - test_df['Age'].mean()) / test_df['Age'].std()",
      "metadata": {
        "tags": [],
        "cell_id": "00016-a9e8c250-9245-41d2-b505-6ccb8499b847",
        "deepnote_to_be_reexecuted": false,
        "source_hash": "6f441dab",
        "execution_start": 1619782384956,
        "execution_millis": 24,
        "deepnote_cell_type": "code"
      },
      "outputs": [],
      "execution_count": 12
    },
    {
      "cell_type": "markdown",
      "source": "** Scaling the Fare Column**",
      "metadata": {
        "tags": [],
        "cell_id": "00024-16fef190-fad7-40f9-a0dd-cbd9fbdfada4",
        "deepnote_cell_type": "markdown"
      }
    },
    {
      "cell_type": "code",
      "source": "sns.violinplot(x=train_df[\"Fare\"],palette='summer')",
      "metadata": {
        "tags": [],
        "cell_id": "00017-ae97e846-133a-45ad-af76-6efe617bee06",
        "deepnote_to_be_reexecuted": false,
        "source_hash": "fa868c13",
        "execution_start": 1619782384984,
        "execution_millis": 541,
        "deepnote_cell_type": "code"
      },
      "outputs": [
        {
          "output_type": "execute_result",
          "execution_count": 13,
          "data": {
            "text/plain": "<AxesSubplot:xlabel='Fare'>"
          },
          "metadata": {}
        },
        {
          "data": {
            "text/plain": "<Figure size 432x288 with 1 Axes>",
            "image/png": "[encoded data removed]"
          },
          "metadata": {
            "needs_background": "light",
            "image/png": {
              "width": 352,
              "height": 262
            }
          },
          "output_type": "display_data"
        }
      ],
      "execution_count": 13
    },
    {
      "cell_type": "code",
      "source": "# train_df[\"Fare\"].mean()\ntrain_df['Fare_mean_norm'] = (train_df['Fare'] - train_df['Fare'].mean()) / train_df['Fare'].std()\n\ntest_df['Fare_mean_norm'] = (test_df['Fare'] - test_df['Fare'].mean()) / test_df['Fare'].std()",
      "metadata": {
        "tags": [],
        "cell_id": "00026-057ec429-22bd-4762-850a-aaa2b514437c",
        "deepnote_to_be_reexecuted": false,
        "source_hash": "1523958",
        "execution_start": 1619782385527,
        "execution_millis": 35,
        "deepnote_cell_type": "code"
      },
      "outputs": [],
      "execution_count": 14
    },
    {
      "cell_type": "markdown",
      "source": "** Droping the Ticket Column **\n\n",
      "metadata": {
        "tags": [],
        "cell_id": "00027-1ef426c9-9f8e-4fff-bf60-0768568501c2",
        "deepnote_cell_type": "markdown"
      }
    },
    {
      "cell_type": "code",
      "source": "train_df=train_df.drop([\"Ticket\"],axis=1)\ntest_df=test_df.drop([\"Ticket\"],axis=1)",
      "metadata": {
        "tags": [],
        "cell_id": "00028-fb3cdbac-c835-448b-bba4-c69aba083c21",
        "deepnote_to_be_reexecuted": false,
        "source_hash": "26cecf80",
        "execution_start": 1619782385567,
        "execution_millis": 28,
        "deepnote_cell_type": "code"
      },
      "outputs": [],
      "execution_count": 15
    },
    {
      "cell_type": "markdown",
      "source": "** Embarked ** \n\nPlotting how Embarked effects surviving rate!",
      "metadata": {
        "tags": [],
        "cell_id": "00027-919298af-8f36-46f4-a300-397a7b99043e",
        "deepnote_cell_type": "markdown"
      }
    },
    {
      "cell_type": "code",
      "source": "sns.histplot(x=train_df[\"Embarked\"],hue=train_df[\"Survived\"])",
      "metadata": {
        "tags": [],
        "cell_id": "00028-fa8b86d3-0d37-489e-b270-75c8ff0c8c37",
        "deepnote_to_be_reexecuted": false,
        "source_hash": "bb438623",
        "execution_start": 1619782385601,
        "execution_millis": 872,
        "deepnote_cell_type": "code"
      },
      "outputs": [
        {
          "output_type": "execute_result",
          "execution_count": 16,
          "data": {
            "text/plain": "<AxesSubplot:xlabel='Embarked', ylabel='Count'>"
          },
          "metadata": {}
        },
        {
          "data": {
            "text/plain": "<Figure size 432x288 with 1 Axes>",
            "image/png": "[encoded data removed]"
          },
          "metadata": {
            "needs_background": "light",
            "image/png": {
              "width": 389,
              "height": 262
            }
          },
          "output_type": "display_data"
        }
      ],
      "execution_count": 16
    },
    {
      "cell_type": "markdown",
      "source": "** Siblings **",
      "metadata": {
        "tags": [],
        "cell_id": "00031-8656e410-be8f-4d4e-b061-33c59041fac6",
        "deepnote_cell_type": "markdown"
      }
    },
    {
      "cell_type": "code",
      "source": "train_df['SibSp encoding'] = np.where(train_df['SibSp'] > 2, 0, 1)\n\ntest_df['SibSp encoding'] = np.where(test_df['SibSp'] > 2, 0, 1)",
      "metadata": {
        "tags": [],
        "cell_id": "00032-006fe65f-2d30-4b85-bb30-55ea6f6da93a",
        "deepnote_to_be_reexecuted": false,
        "source_hash": "11764a4",
        "execution_start": 1619782386481,
        "execution_millis": 44,
        "deepnote_cell_type": "code"
      },
      "outputs": [],
      "execution_count": 17
    },
    {
      "cell_type": "markdown",
      "source": "#### One Hot Encoding",
      "metadata": {
        "tags": [],
        "cell_id": "00018-f99c1c06-3724-4746-9d1d-a31dd68c8da8",
        "deepnote_cell_type": "markdown"
      }
    },
    {
      "cell_type": "code",
      "source": "#Creating new columns for Embarked\ntrain_df=pd.get_dummies(train_df, columns=['Embarked'])\n\ntest_df=pd.get_dummies(test_df, columns=['Embarked'])\n\n#Creating new columns for Passanger Class\ntrain_df=pd.get_dummies(train_df, columns=['Pclass'])\n\ntest_df=pd.get_dummies(test_df, columns=['Pclass'])\n",
      "metadata": {
        "tags": [],
        "cell_id": "00019-f4b5445b-ad55-4e68-9f23-3fb0c4e8d149",
        "deepnote_to_be_reexecuted": false,
        "source_hash": "f3b53ea9",
        "execution_start": 1619782386533,
        "execution_millis": 80,
        "deepnote_cell_type": "code"
      },
      "outputs": [],
      "execution_count": 18
    },
    {
      "cell_type": "markdown",
      "source": "**Turning age column to binary** \n\nWe know that being a female having more chanceses to surviving!",
      "metadata": {
        "tags": [],
        "cell_id": "00020-c0fd3a75-be89-4a25-9581-01413b044170",
        "deepnote_cell_type": "markdown"
      }
    },
    {
      "cell_type": "code",
      "source": "train_df.loc[train_df[\"Sex\"] == \"male\", \"Sex\"] = 0\ntrain_df.loc[train_df[\"Sex\"] == \"female\", \"Sex\"] = 1\n\ntest_df.loc[test_df[\"Sex\"] == \"male\", \"Sex\"] = 0\ntest_df.loc[test_df[\"Sex\"] == \"female\", \"Sex\"] = 1",
      "metadata": {
        "tags": [],
        "cell_id": "00021-113a73fa-9cb6-4b16-b7cf-a89827553df2",
        "deepnote_to_be_reexecuted": false,
        "source_hash": "65ffec10",
        "execution_start": 1619782386621,
        "execution_millis": 35,
        "deepnote_cell_type": "code"
      },
      "outputs": [],
      "execution_count": 19
    },
    {
      "cell_type": "markdown",
      "source": "### Modelling\n* Defining split data\n\n* We will create for loop for trying to every kind of classification models",
      "metadata": {
        "tags": [],
        "cell_id": "00018-b2b5364b-7da1-4107-b5d2-a5978181acb1",
        "deepnote_cell_type": "markdown"
      }
    },
    {
      "cell_type": "code",
      "source": "#train_X, val_X, train_y, val_y = train_test_split(X, y, random_state=0,test_size=0.2)\ntrain_y=train_df[\"Survived\"]\ntrain_X=train_df.drop([\"Survived\",\"Name\",\"PassengerId\",\"Fare\",\"Age\"],axis=1)\n\n#test_y=test_df[\"Survived\"] **** There wont be any test_y because it is a kaggle competetion we will send to kaggle\ntest_X=test_df.drop([\"Name\",\"PassengerId\",\"Fare\",\"Age\"],axis=1)\ntest_X.head()",
      "metadata": {
        "tags": [],
        "cell_id": "00019-76d2aa79-f3ab-4b63-899a-d9c93c7ffd6b",
        "deepnote_to_be_reexecuted": false,
        "source_hash": "d4a2c065",
        "execution_start": 1619782386668,
        "execution_millis": 475,
        "deepnote_cell_type": "code"
      },
      "outputs": [
        {
          "output_type": "execute_result",
          "execution_count": 20,
          "data": {
            "application/vnd.deepnote.dataframe.v2+json": {
              "row_count": 5,
              "column_count": 13,
              "columns": [
                {
                  "name": "Sex",
                  "dtype": "object",
                  "stats": {
                    "unique_count": 2,
                    "nan_count": 0,
                    "categories": [
                      {
                        "name": "0",
                        "count": 3
                      },
                      {
                        "name": "1",
                        "count": 2
                      }
                    ]
                  }
                },
                {
                  "name": "SibSp",
                  "dtype": "int64",
                  "stats": {
                    "unique_count": 2,
                    "nan_count": 0,
                    "min": "0",
                    "max": "1",
                    "histogram": [
                      {
                        "bin_start": 0,
                        "bin_end": 0.1,
                        "count": 3
                      },
                      {
                        "bin_start": 0.1,
                        "bin_end": 0.2,
                        "count": 0
                      },
                      {
                        "bin_start": 0.2,
                        "bin_end": 0.30000000000000004,
                        "count": 0
                      },
                      {
                        "bin_start": 0.30000000000000004,
                        "bin_end": 0.4,
                        "count": 0
                      },
                      {
                        "bin_start": 0.4,
                        "bin_end": 0.5,
                        "count": 0
                      },
                      {
                        "bin_start": 0.5,
                        "bin_end": 0.6000000000000001,
                        "count": 0
                      },
                      {
                        "bin_start": 0.6000000000000001,
                        "bin_end": 0.7000000000000001,
                        "count": 0
                      },
                      {
                        "bin_start": 0.7000000000000001,
                        "bin_end": 0.8,
                        "count": 0
                      },
                      {
                        "bin_start": 0.8,
                        "bin_end": 0.9,
                        "count": 0
                      },
                      {
                        "bin_start": 0.9,
                        "bin_end": 1,
                        "count": 2
                      }
                    ]
                  }
                },
                {
                  "name": "Parch",
                  "dtype": "int64",
                  "stats": {
                    "unique_count": 2,
                    "nan_count": 0,
                    "min": "0",
                    "max": "1",
                    "histogram": [
                      {
                        "bin_start": 0,
                        "bin_end": 0.1,
                        "count": 4
                      },
                      {
                        "bin_start": 0.1,
                        "bin_end": 0.2,
                        "count": 0
                      },
                      {
                        "bin_start": 0.2,
                        "bin_end": 0.30000000000000004,
                        "count": 0
                      },
                      {
                        "bin_start": 0.30000000000000004,
                        "bin_end": 0.4,
                        "count": 0
                      },
                      {
                        "bin_start": 0.4,
                        "bin_end": 0.5,
                        "count": 0
                      },
                      {
                        "bin_start": 0.5,
                        "bin_end": 0.6000000000000001,
                        "count": 0
                      },
                      {
                        "bin_start": 0.6000000000000001,
                        "bin_end": 0.7000000000000001,
                        "count": 0
                      },
                      {
                        "bin_start": 0.7000000000000001,
                        "bin_end": 0.8,
                        "count": 0
                      },
                      {
                        "bin_start": 0.8,
                        "bin_end": 0.9,
                        "count": 0
                      },
                      {
                        "bin_start": 0.9,
                        "bin_end": 1,
                        "count": 1
                      }
                    ]
                  }
                },
                {
                  "name": "Cabin",
                  "dtype": "object",
                  "stats": {
                    "unique_count": 1,
                    "nan_count": 0,
                    "categories": [
                      {
                        "name": "0",
                        "count": 5
                      }
                    ]
                  }
                },
                {
                  "name": "Age_mean_norm",
                  "dtype": "float64",
                  "stats": {
                    "unique_count": 5,
                    "nan_count": 0,
                    "min": "-0.5726285708351189",
                    "max": "2.5130683876246573",
                    "histogram": [
                      {
                        "bin_start": -0.5726285708351189,
                        "bin_end": -0.26405887498914127,
                        "count": 1
                      },
                      {
                        "bin_start": -0.26405887498914127,
                        "bin_end": 0.04451082085683633,
                        "count": 1
                      },
                      {
                        "bin_start": 0.04451082085683633,
                        "bin_end": 0.35308051670281393,
                        "count": 0
                      },
                      {
                        "bin_start": 0.35308051670281393,
                        "bin_end": 0.6616502125487915,
                        "count": 1
                      },
                      {
                        "bin_start": 0.6616502125487915,
                        "bin_end": 0.9702199083947691,
                        "count": 0
                      },
                      {
                        "bin_start": 0.9702199083947691,
                        "bin_end": 1.2787896042407467,
                        "count": 0
                      },
                      {
                        "bin_start": 1.2787896042407467,
                        "bin_end": 1.5873593000867243,
                        "count": 1
                      },
                      {
                        "bin_start": 1.5873593000867243,
                        "bin_end": 1.895928995932702,
                        "count": 0
                      },
                      {
                        "bin_start": 1.895928995932702,
                        "bin_end": 2.2044986917786797,
                        "count": 0
                      },
                      {
                        "bin_start": 2.2044986917786797,
                        "bin_end": 2.5130683876246573,
                        "count": 1
                      }
                    ]
                  }
                },
                {
                  "name": "Fare_mean_norm",
                  "dtype": "float64",
                  "stats": {
                    "unique_count": 5,
                    "nan_count": 0,
                    "min": "-0.5126599554690081",
                    "max": "-0.4179706178987396",
                    "histogram": [
                      {
                        "bin_start": -0.5126599554690081,
                        "bin_end": -0.5031910217119813,
                        "count": 1
                      },
                      {
                        "bin_start": -0.5031910217119813,
                        "bin_end": -0.4937220879549544,
                        "count": 1
                      },
                      {
                        "bin_start": -0.4937220879549544,
                        "bin_end": -0.4842531541979276,
                        "count": 0
                      },
                      {
                        "bin_start": -0.4842531541979276,
                        "bin_end": -0.47478422044090074,
                        "count": 1
                      },
                      {
                        "bin_start": -0.47478422044090074,
                        "bin_end": -0.4653152866838739,
                        "count": 0
                      },
                      {
                        "bin_start": -0.4653152866838739,
                        "bin_end": -0.45584635292684705,
                        "count": 1
                      },
                      {
                        "bin_start": -0.45584635292684705,
                        "bin_end": -0.44637741916982016,
                        "count": 0
                      },
                      {
                        "bin_start": -0.44637741916982016,
                        "bin_end": -0.4369084854127933,
                        "count": 0
                      },
                      {
                        "bin_start": -0.4369084854127933,
                        "bin_end": -0.42743955165576647,
                        "count": 0
                      },
                      {
                        "bin_start": -0.42743955165576647,
                        "bin_end": -0.4179706178987396,
                        "count": 1
                      }
                    ]
                  }
                },
                {
                  "name": "SibSp encoding",
                  "dtype": "int64",
                  "stats": {
                    "unique_count": 1,
                    "nan_count": 0,
                    "min": "1",
                    "max": "1",
                    "histogram": [
                      {
                        "bin_start": 0.5,
                        "bin_end": 0.6,
                        "count": 0
                      },
                      {
                        "bin_start": 0.6,
                        "bin_end": 0.7,
                        "count": 0
                      },
                      {
                        "bin_start": 0.7,
                        "bin_end": 0.8,
                        "count": 0
                      },
                      {
                        "bin_start": 0.8,
                        "bin_end": 0.9,
                        "count": 0
                      },
                      {
                        "bin_start": 0.9,
                        "bin_end": 1,
                        "count": 0
                      },
                      {
                        "bin_start": 1,
                        "bin_end": 1.1,
                        "count": 5
                      },
                      {
                        "bin_start": 1.1,
                        "bin_end": 1.2000000000000002,
                        "count": 0
                      },
                      {
                        "bin_start": 1.2000000000000002,
                        "bin_end": 1.3,
                        "count": 0
                      },
                      {
                        "bin_start": 1.3,
                        "bin_end": 1.4,
                        "count": 0
                      },
                      {
                        "bin_start": 1.4,
                        "bin_end": 1.5,
                        "count": 0
                      }
                    ]
                  }
                },
                {
                  "name": "Embarked_C",
                  "dtype": "uint8",
                  "stats": {
                    "unique_count": 1,
                    "nan_count": 0,
                    "min": "0",
                    "max": "0",
                    "histogram": [
                      {
                        "bin_start": -0.5,
                        "bin_end": -0.4,
                        "count": 0
                      },
                      {
                        "bin_start": -0.4,
                        "bin_end": -0.3,
                        "count": 0
                      },
                      {
                        "bin_start": -0.3,
                        "bin_end": -0.19999999999999996,
                        "count": 0
                      },
                      {
                        "bin_start": -0.19999999999999996,
                        "bin_end": -0.09999999999999998,
                        "count": 0
                      },
                      {
                        "bin_start": -0.09999999999999998,
                        "bin_end": 0,
                        "count": 0
                      },
                      {
                        "bin_start": 0,
                        "bin_end": 0.10000000000000009,
                        "count": 5
                      },
                      {
                        "bin_start": 0.10000000000000009,
                        "bin_end": 0.20000000000000007,
                        "count": 0
                      },
                      {
                        "bin_start": 0.20000000000000007,
                        "bin_end": 0.30000000000000004,
                        "count": 0
                      },
                      {
                        "bin_start": 0.30000000000000004,
                        "bin_end": 0.4,
                        "count": 0
                      },
                      {
                        "bin_start": 0.4,
                        "bin_end": 0.5,
                        "count": 0
                      }
                    ]
                  }
                },
                {
                  "name": "Embarked_Q",
                  "dtype": "uint8",
                  "stats": {
                    "unique_count": 2,
                    "nan_count": 0,
                    "min": "0",
                    "max": "1",
                    "histogram": [
                      {
                        "bin_start": 0,
                        "bin_end": 0.1,
                        "count": 3
                      },
                      {
                        "bin_start": 0.1,
                        "bin_end": 0.2,
                        "count": 0
                      },
                      {
                        "bin_start": 0.2,
                        "bin_end": 0.30000000000000004,
                        "count": 0
                      },
                      {
                        "bin_start": 0.30000000000000004,
                        "bin_end": 0.4,
                        "count": 0
                      },
                      {
                        "bin_start": 0.4,
                        "bin_end": 0.5,
                        "count": 0
                      },
                      {
                        "bin_start": 0.5,
                        "bin_end": 0.6000000000000001,
                        "count": 0
                      },
                      {
                        "bin_start": 0.6000000000000001,
                        "bin_end": 0.7000000000000001,
                        "count": 0
                      },
                      {
                        "bin_start": 0.7000000000000001,
                        "bin_end": 0.8,
                        "count": 0
                      },
                      {
                        "bin_start": 0.8,
                        "bin_end": 0.9,
                        "count": 0
                      },
                      {
                        "bin_start": 0.9,
                        "bin_end": 1,
                        "count": 2
                      }
                    ]
                  }
                },
                {
                  "name": "Embarked_S",
                  "dtype": "uint8",
                  "stats": {
                    "unique_count": 2,
                    "nan_count": 0,
                    "min": "0",
                    "max": "1",
                    "histogram": [
                      {
                        "bin_start": 0,
                        "bin_end": 0.1,
                        "count": 2
                      },
                      {
                        "bin_start": 0.1,
                        "bin_end": 0.2,
                        "count": 0
                      },
                      {
                        "bin_start": 0.2,
                        "bin_end": 0.30000000000000004,
                        "count": 0
                      },
                      {
                        "bin_start": 0.30000000000000004,
                        "bin_end": 0.4,
                        "count": 0
                      },
                      {
                        "bin_start": 0.4,
                        "bin_end": 0.5,
                        "count": 0
                      },
                      {
                        "bin_start": 0.5,
                        "bin_end": 0.6000000000000001,
                        "count": 0
                      },
                      {
                        "bin_start": 0.6000000000000001,
                        "bin_end": 0.7000000000000001,
                        "count": 0
                      },
                      {
                        "bin_start": 0.7000000000000001,
                        "bin_end": 0.8,
                        "count": 0
                      },
                      {
                        "bin_start": 0.8,
                        "bin_end": 0.9,
                        "count": 0
                      },
                      {
                        "bin_start": 0.9,
                        "bin_end": 1,
                        "count": 3
                      }
                    ]
                  }
                },
                {
                  "name": "Pclass_1",
                  "dtype": "uint8",
                  "stats": {
                    "unique_count": 1,
                    "nan_count": 0,
                    "min": "0",
                    "max": "0",
                    "histogram": [
                      {
                        "bin_start": -0.5,
                        "bin_end": -0.4,
                        "count": 0
                      },
                      {
                        "bin_start": -0.4,
                        "bin_end": -0.3,
                        "count": 0
                      },
                      {
                        "bin_start": -0.3,
                        "bin_end": -0.19999999999999996,
                        "count": 0
                      },
                      {
                        "bin_start": -0.19999999999999996,
                        "bin_end": -0.09999999999999998,
                        "count": 0
                      },
                      {
                        "bin_start": -0.09999999999999998,
                        "bin_end": 0,
                        "count": 0
                      },
                      {
                        "bin_start": 0,
                        "bin_end": 0.10000000000000009,
                        "count": 5
                      },
                      {
                        "bin_start": 0.10000000000000009,
                        "bin_end": 0.20000000000000007,
                        "count": 0
                      },
                      {
                        "bin_start": 0.20000000000000007,
                        "bin_end": 0.30000000000000004,
                        "count": 0
                      },
                      {
                        "bin_start": 0.30000000000000004,
                        "bin_end": 0.4,
                        "count": 0
                      },
                      {
                        "bin_start": 0.4,
                        "bin_end": 0.5,
                        "count": 0
                      }
                    ]
                  }
                },
                {
                  "name": "Pclass_2",
                  "dtype": "uint8",
                  "stats": {
                    "unique_count": 2,
                    "nan_count": 0,
                    "min": "0",
                    "max": "1",
                    "histogram": [
                      {
                        "bin_start": 0,
                        "bin_end": 0.1,
                        "count": 4
                      },
                      {
                        "bin_start": 0.1,
                        "bin_end": 0.2,
                        "count": 0
                      },
                      {
                        "bin_start": 0.2,
                        "bin_end": 0.30000000000000004,
                        "count": 0
                      },
                      {
                        "bin_start": 0.30000000000000004,
                        "bin_end": 0.4,
                        "count": 0
                      },
                      {
                        "bin_start": 0.4,
                        "bin_end": 0.5,
                        "count": 0
                      },
                      {
                        "bin_start": 0.5,
                        "bin_end": 0.6000000000000001,
                        "count": 0
                      },
                      {
                        "bin_start": 0.6000000000000001,
                        "bin_end": 0.7000000000000001,
                        "count": 0
                      },
                      {
                        "bin_start": 0.7000000000000001,
                        "bin_end": 0.8,
                        "count": 0
                      },
                      {
                        "bin_start": 0.8,
                        "bin_end": 0.9,
                        "count": 0
                      },
                      {
                        "bin_start": 0.9,
                        "bin_end": 1,
                        "count": 1
                      }
                    ]
                  }
                },
                {
                  "name": "Pclass_3",
                  "dtype": "uint8",
                  "stats": {
                    "unique_count": 2,
                    "nan_count": 0,
                    "min": "0",
                    "max": "1",
                    "histogram": [
                      {
                        "bin_start": 0,
                        "bin_end": 0.1,
                        "count": 1
                      },
                      {
                        "bin_start": 0.1,
                        "bin_end": 0.2,
                        "count": 0
                      },
                      {
                        "bin_start": 0.2,
                        "bin_end": 0.30000000000000004,
                        "count": 0
                      },
                      {
                        "bin_start": 0.30000000000000004,
                        "bin_end": 0.4,
                        "count": 0
                      },
                      {
                        "bin_start": 0.4,
                        "bin_end": 0.5,
                        "count": 0
                      },
                      {
                        "bin_start": 0.5,
                        "bin_end": 0.6000000000000001,
                        "count": 0
                      },
                      {
                        "bin_start": 0.6000000000000001,
                        "bin_end": 0.7000000000000001,
                        "count": 0
                      },
                      {
                        "bin_start": 0.7000000000000001,
                        "bin_end": 0.8,
                        "count": 0
                      },
                      {
                        "bin_start": 0.8,
                        "bin_end": 0.9,
                        "count": 0
                      },
                      {
                        "bin_start": 0.9,
                        "bin_end": 1,
                        "count": 4
                      }
                    ]
                  }
                },
                {
                  "name": "_deepnote_index_column",
                  "dtype": "int64"
                }
              ],
              "rows_top": [
                {
                  "Sex": 0,
                  "SibSp": 0,
                  "Parch": 0,
                  "Cabin": 0,
                  "Age_mean_norm": 0.3916517286835613,
                  "Fare_mean_norm": -0.4978105183601161,
                  "SibSp encoding": 1,
                  "Embarked_C": 0,
                  "Embarked_Q": 1,
                  "Embarked_S": 0,
                  "Pclass_1": 0,
                  "Pclass_2": 0,
                  "Pclass_3": 1,
                  "_deepnote_index_column": 0
                },
                {
                  "Sex": 1,
                  "SibSp": 1,
                  "Parch": 0,
                  "Cabin": 0,
                  "Age_mean_norm": 1.3559320282022413,
                  "Fare_mean_norm": -0.5126599554690081,
                  "SibSp encoding": 1,
                  "Embarked_C": 0,
                  "Embarked_Q": 0,
                  "Embarked_S": 1,
                  "Pclass_1": 0,
                  "Pclass_2": 0,
                  "Pclass_3": 1,
                  "_deepnote_index_column": 1
                },
                {
                  "Sex": 0,
                  "SibSp": 0,
                  "Parch": 0,
                  "Cabin": 0,
                  "Age_mean_norm": 2.5130683876246573,
                  "Fare_mean_norm": -0.46453180516733505,
                  "SibSp encoding": 1,
                  "Embarked_C": 0,
                  "Embarked_Q": 1,
                  "Embarked_S": 0,
                  "Pclass_1": 0,
                  "Pclass_2": 1,
                  "Pclass_3": 0,
                  "_deepnote_index_column": 2
                },
                {
                  "Sex": 0,
                  "SibSp": 0,
                  "Parch": 0,
                  "Cabin": 0,
                  "Age_mean_norm": -0.1869164510276468,
                  "Fare_mean_norm": -0.4828876578405313,
                  "SibSp encoding": 1,
                  "Embarked_C": 0,
                  "Embarked_Q": 0,
                  "Embarked_S": 1,
                  "Pclass_1": 0,
                  "Pclass_2": 0,
                  "Pclass_3": 1,
                  "_deepnote_index_column": 3
                },
                {
                  "Sex": 1,
                  "SibSp": 1,
                  "Parch": 1,
                  "Cabin": 0,
                  "Age_mean_norm": -0.5726285708351189,
                  "Fare_mean_norm": -0.4179706178987396,
                  "SibSp encoding": 1,
                  "Embarked_C": 0,
                  "Embarked_Q": 0,
                  "Embarked_S": 1,
                  "Pclass_1": 0,
                  "Pclass_2": 0,
                  "Pclass_3": 1,
                  "_deepnote_index_column": 4
                }
              ],
              "rows_bottom": null
            },
            "text/plain": "  Sex  SibSp  Parch Cabin  Age_mean_norm  Fare_mean_norm  SibSp encoding  \\\n0   0      0      0     0       0.391652       -0.497811               1   \n1   1      1      0     0       1.355932       -0.512660               1   \n2   0      0      0     0       2.513068       -0.464532               1   \n3   0      0      0     0      -0.186916       -0.482888               1   \n4   1      1      1     0      -0.572629       -0.417971               1   \n\n   Embarked_C  Embarked_Q  Embarked_S  Pclass_1  Pclass_2  Pclass_3  \n0           0           1           0         0         0         1  \n1           0           0           1         0         0         1  \n2           0           1           0         0         1         0  \n3           0           0           1         0         0         1  \n4           0           0           1         0         0         1  ",
            "text/html": "<div>\n<style scoped>\n    .dataframe tbody tr th:only-of-type {\n        vertical-align: middle;\n    }\n\n    .dataframe tbody tr th {\n        vertical-align: top;\n    }\n\n    .dataframe thead th {\n        text-align: right;\n    }\n</style>\n<table border=\"1\" class=\"dataframe\">\n  <thead>\n    <tr style=\"text-align: right;\">\n      <th></th>\n      <th>Sex</th>\n      <th>SibSp</th>\n      <th>Parch</th>\n      <th>Cabin</th>\n      <th>Age_mean_norm</th>\n      <th>Fare_mean_norm</th>\n      <th>SibSp encoding</th>\n      <th>Embarked_C</th>\n      <th>Embarked_Q</th>\n      <th>Embarked_S</th>\n      <th>Pclass_1</th>\n      <th>Pclass_2</th>\n      <th>Pclass_3</th>\n    </tr>\n  </thead>\n  <tbody>\n    <tr>\n      <th>0</th>\n      <td>0</td>\n      <td>0</td>\n      <td>0</td>\n      <td>0</td>\n      <td>0.391652</td>\n      <td>-0.497811</td>\n      <td>1</td>\n      <td>0</td>\n      <td>1</td>\n      <td>0</td>\n      <td>0</td>\n      <td>0</td>\n      <td>1</td>\n    </tr>\n    <tr>\n      <th>1</th>\n      <td>1</td>\n      <td>1</td>\n      <td>0</td>\n      <td>0</td>\n      <td>1.355932</td>\n      <td>-0.512660</td>\n      <td>1</td>\n      <td>0</td>\n      <td>0</td>\n      <td>1</td>\n      <td>0</td>\n      <td>0</td>\n      <td>1</td>\n    </tr>\n    <tr>\n      <th>2</th>\n      <td>0</td>\n      <td>0</td>\n      <td>0</td>\n      <td>0</td>\n      <td>2.513068</td>\n      <td>-0.464532</td>\n      <td>1</td>\n      <td>0</td>\n      <td>1</td>\n      <td>0</td>\n      <td>0</td>\n      <td>1</td>\n      <td>0</td>\n    </tr>\n    <tr>\n      <th>3</th>\n      <td>0</td>\n      <td>0</td>\n      <td>0</td>\n      <td>0</td>\n      <td>-0.186916</td>\n      <td>-0.482888</td>\n      <td>1</td>\n      <td>0</td>\n      <td>0</td>\n      <td>1</td>\n      <td>0</td>\n      <td>0</td>\n      <td>1</td>\n    </tr>\n    <tr>\n      <th>4</th>\n      <td>1</td>\n      <td>1</td>\n      <td>1</td>\n      <td>0</td>\n      <td>-0.572629</td>\n      <td>-0.417971</td>\n      <td>1</td>\n      <td>0</td>\n      <td>0</td>\n      <td>1</td>\n      <td>0</td>\n      <td>0</td>\n      <td>1</td>\n    </tr>\n  </tbody>\n</table>\n</div>"
          },
          "metadata": {}
        }
      ],
      "execution_count": 20
    },
    {
      "cell_type": "code",
      "source": "train_X",
      "metadata": {
        "tags": [],
        "cell_id": "00039-0f101deb-9061-464e-95e5-90c0ab03a2d1",
        "deepnote_to_be_reexecuted": false,
        "source_hash": "d813eb10",
        "execution_start": 1619782387150,
        "execution_millis": 240,
        "deepnote_cell_type": "code"
      },
      "outputs": [
        {
          "output_type": "execute_result",
          "execution_count": 21,
          "data": {
            "application/vnd.deepnote.dataframe.v2+json": {
              "row_count": 891,
              "column_count": 13,
              "columns": [
                {
                  "name": "Sex",
                  "dtype": "object",
                  "stats": {
                    "unique_count": 2,
                    "nan_count": 0,
                    "categories": [
                      {
                        "name": "0",
                        "count": 577
                      },
                      {
                        "name": "1",
                        "count": 314
                      }
                    ]
                  }
                },
                {
                  "name": "SibSp",
                  "dtype": "int64",
                  "stats": {
                    "unique_count": 7,
                    "nan_count": 0,
                    "min": "0",
                    "max": "8",
                    "histogram": [
                      {
                        "bin_start": 0,
                        "bin_end": 0.8,
                        "count": 608
                      },
                      {
                        "bin_start": 0.8,
                        "bin_end": 1.6,
                        "count": 209
                      },
                      {
                        "bin_start": 1.6,
                        "bin_end": 2.4000000000000004,
                        "count": 28
                      },
                      {
                        "bin_start": 2.4000000000000004,
                        "bin_end": 3.2,
                        "count": 16
                      },
                      {
                        "bin_start": 3.2,
                        "bin_end": 4,
                        "count": 0
                      },
                      {
                        "bin_start": 4,
                        "bin_end": 4.800000000000001,
                        "count": 18
                      },
                      {
                        "bin_start": 4.800000000000001,
                        "bin_end": 5.6000000000000005,
                        "count": 5
                      },
                      {
                        "bin_start": 5.6000000000000005,
                        "bin_end": 6.4,
                        "count": 0
                      },
                      {
                        "bin_start": 6.4,
                        "bin_end": 7.2,
                        "count": 0
                      },
                      {
                        "bin_start": 7.2,
                        "bin_end": 8,
                        "count": 7
                      }
                    ]
                  }
                },
                {
                  "name": "Parch",
                  "dtype": "int64",
                  "stats": {
                    "unique_count": 7,
                    "nan_count": 0,
                    "min": "0",
                    "max": "6",
                    "histogram": [
                      {
                        "bin_start": 0,
                        "bin_end": 0.6,
                        "count": 678
                      },
                      {
                        "bin_start": 0.6,
                        "bin_end": 1.2,
                        "count": 118
                      },
                      {
                        "bin_start": 1.2,
                        "bin_end": 1.7999999999999998,
                        "count": 0
                      },
                      {
                        "bin_start": 1.7999999999999998,
                        "bin_end": 2.4,
                        "count": 80
                      },
                      {
                        "bin_start": 2.4,
                        "bin_end": 3,
                        "count": 0
                      },
                      {
                        "bin_start": 3,
                        "bin_end": 3.5999999999999996,
                        "count": 5
                      },
                      {
                        "bin_start": 3.5999999999999996,
                        "bin_end": 4.2,
                        "count": 4
                      },
                      {
                        "bin_start": 4.2,
                        "bin_end": 4.8,
                        "count": 0
                      },
                      {
                        "bin_start": 4.8,
                        "bin_end": 5.3999999999999995,
                        "count": 5
                      },
                      {
                        "bin_start": 5.3999999999999995,
                        "bin_end": 6,
                        "count": 1
                      }
                    ]
                  }
                },
                {
                  "name": "Cabin",
                  "dtype": "object",
                  "stats": {
                    "unique_count": 2,
                    "nan_count": 0,
                    "categories": [
                      {
                        "name": "0",
                        "count": 687
                      },
                      {
                        "name": "1",
                        "count": 204
                      }
                    ]
                  }
                },
                {
                  "name": "Age_mean_norm",
                  "dtype": "float64",
                  "stats": {
                    "unique_count": 94,
                    "nan_count": 0,
                    "min": "-2.175921927428645",
                    "max": "3.8160503836114272",
                    "histogram": [
                      {
                        "bin_start": -2.175921927428645,
                        "bin_end": -1.576724696324638,
                        "count": 54
                      },
                      {
                        "bin_start": -1.576724696324638,
                        "bin_end": -0.9775274652206307,
                        "count": 46
                      },
                      {
                        "bin_start": -0.9775274652206307,
                        "bin_end": -0.3783302341166235,
                        "count": 219
                      },
                      {
                        "bin_start": -0.3783302341166235,
                        "bin_end": 0.22086699698738377,
                        "count": 274
                      },
                      {
                        "bin_start": 0.22086699698738377,
                        "bin_end": 0.820064228091391,
                        "count": 127
                      },
                      {
                        "bin_start": 0.820064228091391,
                        "bin_end": 1.4192614591953983,
                        "count": 91
                      },
                      {
                        "bin_start": 1.4192614591953983,
                        "bin_end": 2.0184586902994055,
                        "count": 45
                      },
                      {
                        "bin_start": 2.0184586902994055,
                        "bin_end": 2.6176559214034127,
                        "count": 24
                      },
                      {
                        "bin_start": 2.6176559214034127,
                        "bin_end": 3.21685315250742,
                        "count": 9
                      },
                      {
                        "bin_start": 3.21685315250742,
                        "bin_end": 3.8160503836114272,
                        "count": 2
                      }
                    ]
                  }
                },
                {
                  "name": "Fare_mean_norm",
                  "dtype": "float64",
                  "stats": {
                    "unique_count": 248,
                    "nan_count": 0,
                    "min": "-0.6480576784030068",
                    "max": "9.661740104981664",
                    "histogram": [
                      {
                        "bin_start": -0.6480576784030068,
                        "bin_end": 0.38292209993546034,
                        "count": 732
                      },
                      {
                        "bin_start": 0.38292209993546034,
                        "bin_end": 1.4139018782739274,
                        "count": 106
                      },
                      {
                        "bin_start": 1.4139018782739274,
                        "bin_end": 2.4448816566123948,
                        "count": 31
                      },
                      {
                        "bin_start": 2.4448816566123948,
                        "bin_end": 3.4758614349508616,
                        "count": 2
                      },
                      {
                        "bin_start": 3.4758614349508616,
                        "bin_end": 4.506841213289329,
                        "count": 11
                      },
                      {
                        "bin_start": 4.506841213289329,
                        "bin_end": 5.537820991627797,
                        "count": 6
                      },
                      {
                        "bin_start": 5.537820991627797,
                        "bin_end": 6.568800769966263,
                        "count": 0
                      },
                      {
                        "bin_start": 6.568800769966263,
                        "bin_end": 7.5997805483047305,
                        "count": 0
                      },
                      {
                        "bin_start": 7.5997805483047305,
                        "bin_end": 8.630760326643198,
                        "count": 0
                      },
                      {
                        "bin_start": 8.630760326643198,
                        "bin_end": 9.661740104981664,
                        "count": 3
                      }
                    ]
                  }
                },
                {
                  "name": "SibSp encoding",
                  "dtype": "int64",
                  "stats": {
                    "unique_count": 2,
                    "nan_count": 0,
                    "min": "0",
                    "max": "1",
                    "histogram": [
                      {
                        "bin_start": 0,
                        "bin_end": 0.1,
                        "count": 46
                      },
                      {
                        "bin_start": 0.1,
                        "bin_end": 0.2,
                        "count": 0
                      },
                      {
                        "bin_start": 0.2,
                        "bin_end": 0.30000000000000004,
                        "count": 0
                      },
                      {
                        "bin_start": 0.30000000000000004,
                        "bin_end": 0.4,
                        "count": 0
                      },
                      {
                        "bin_start": 0.4,
                        "bin_end": 0.5,
                        "count": 0
                      },
                      {
                        "bin_start": 0.5,
                        "bin_end": 0.6000000000000001,
                        "count": 0
                      },
                      {
                        "bin_start": 0.6000000000000001,
                        "bin_end": 0.7000000000000001,
                        "count": 0
                      },
                      {
                        "bin_start": 0.7000000000000001,
                        "bin_end": 0.8,
                        "count": 0
                      },
                      {
                        "bin_start": 0.8,
                        "bin_end": 0.9,
                        "count": 0
                      },
                      {
                        "bin_start": 0.9,
                        "bin_end": 1,
                        "count": 845
                      }
                    ]
                  }
                },
                {
                  "name": "Embarked_C",
                  "dtype": "uint8",
                  "stats": {
                    "unique_count": 2,
                    "nan_count": 0,
                    "min": "0",
                    "max": "1",
                    "histogram": [
                      {
                        "bin_start": 0,
                        "bin_end": 0.1,
                        "count": 723
                      },
                      {
                        "bin_start": 0.1,
                        "bin_end": 0.2,
                        "count": 0
                      },
                      {
                        "bin_start": 0.2,
                        "bin_end": 0.30000000000000004,
                        "count": 0
                      },
                      {
                        "bin_start": 0.30000000000000004,
                        "bin_end": 0.4,
                        "count": 0
                      },
                      {
                        "bin_start": 0.4,
                        "bin_end": 0.5,
                        "count": 0
                      },
                      {
                        "bin_start": 0.5,
                        "bin_end": 0.6000000000000001,
                        "count": 0
                      },
                      {
                        "bin_start": 0.6000000000000001,
                        "bin_end": 0.7000000000000001,
                        "count": 0
                      },
                      {
                        "bin_start": 0.7000000000000001,
                        "bin_end": 0.8,
                        "count": 0
                      },
                      {
                        "bin_start": 0.8,
                        "bin_end": 0.9,
                        "count": 0
                      },
                      {
                        "bin_start": 0.9,
                        "bin_end": 1,
                        "count": 168
                      }
                    ]
                  }
                },
                {
                  "name": "Embarked_Q",
                  "dtype": "uint8",
                  "stats": {
                    "unique_count": 2,
                    "nan_count": 0,
                    "min": "0",
                    "max": "1",
                    "histogram": [
                      {
                        "bin_start": 0,
                        "bin_end": 0.1,
                        "count": 814
                      },
                      {
                        "bin_start": 0.1,
                        "bin_end": 0.2,
                        "count": 0
                      },
                      {
                        "bin_start": 0.2,
                        "bin_end": 0.30000000000000004,
                        "count": 0
                      },
                      {
                        "bin_start": 0.30000000000000004,
                        "bin_end": 0.4,
                        "count": 0
                      },
                      {
                        "bin_start": 0.4,
                        "bin_end": 0.5,
                        "count": 0
                      },
                      {
                        "bin_start": 0.5,
                        "bin_end": 0.6000000000000001,
                        "count": 0
                      },
                      {
                        "bin_start": 0.6000000000000001,
                        "bin_end": 0.7000000000000001,
                        "count": 0
                      },
                      {
                        "bin_start": 0.7000000000000001,
                        "bin_end": 0.8,
                        "count": 0
                      },
                      {
                        "bin_start": 0.8,
                        "bin_end": 0.9,
                        "count": 0
                      },
                      {
                        "bin_start": 0.9,
                        "bin_end": 1,
                        "count": 77
                      }
                    ]
                  }
                },
                {
                  "name": "Embarked_S",
                  "dtype": "uint8",
                  "stats": {
                    "unique_count": 2,
                    "nan_count": 0,
                    "min": "0",
                    "max": "1",
                    "histogram": [
                      {
                        "bin_start": 0,
                        "bin_end": 0.1,
                        "count": 245
                      },
                      {
                        "bin_start": 0.1,
                        "bin_end": 0.2,
                        "count": 0
                      },
                      {
                        "bin_start": 0.2,
                        "bin_end": 0.30000000000000004,
                        "count": 0
                      },
                      {
                        "bin_start": 0.30000000000000004,
                        "bin_end": 0.4,
                        "count": 0
                      },
                      {
                        "bin_start": 0.4,
                        "bin_end": 0.5,
                        "count": 0
                      },
                      {
                        "bin_start": 0.5,
                        "bin_end": 0.6000000000000001,
                        "count": 0
                      },
                      {
                        "bin_start": 0.6000000000000001,
                        "bin_end": 0.7000000000000001,
                        "count": 0
                      },
                      {
                        "bin_start": 0.7000000000000001,
                        "bin_end": 0.8,
                        "count": 0
                      },
                      {
                        "bin_start": 0.8,
                        "bin_end": 0.9,
                        "count": 0
                      },
                      {
                        "bin_start": 0.9,
                        "bin_end": 1,
                        "count": 646
                      }
                    ]
                  }
                },
                {
                  "name": "Pclass_1",
                  "dtype": "uint8",
                  "stats": {
                    "unique_count": 2,
                    "nan_count": 0,
                    "min": "0",
                    "max": "1",
                    "histogram": [
                      {
                        "bin_start": 0,
                        "bin_end": 0.1,
                        "count": 675
                      },
                      {
                        "bin_start": 0.1,
                        "bin_end": 0.2,
                        "count": 0
                      },
                      {
                        "bin_start": 0.2,
                        "bin_end": 0.30000000000000004,
                        "count": 0
                      },
                      {
                        "bin_start": 0.30000000000000004,
                        "bin_end": 0.4,
                        "count": 0
                      },
                      {
                        "bin_start": 0.4,
                        "bin_end": 0.5,
                        "count": 0
                      },
                      {
                        "bin_start": 0.5,
                        "bin_end": 0.6000000000000001,
                        "count": 0
                      },
                      {
                        "bin_start": 0.6000000000000001,
                        "bin_end": 0.7000000000000001,
                        "count": 0
                      },
                      {
                        "bin_start": 0.7000000000000001,
                        "bin_end": 0.8,
                        "count": 0
                      },
                      {
                        "bin_start": 0.8,
                        "bin_end": 0.9,
                        "count": 0
                      },
                      {
                        "bin_start": 0.9,
                        "bin_end": 1,
                        "count": 216
                      }
                    ]
                  }
                },
                {
                  "name": "Pclass_2",
                  "dtype": "uint8",
                  "stats": {
                    "unique_count": 2,
                    "nan_count": 0,
                    "min": "0",
                    "max": "1",
                    "histogram": [
                      {
                        "bin_start": 0,
                        "bin_end": 0.1,
                        "count": 707
                      },
                      {
                        "bin_start": 0.1,
                        "bin_end": 0.2,
                        "count": 0
                      },
                      {
                        "bin_start": 0.2,
                        "bin_end": 0.30000000000000004,
                        "count": 0
                      },
                      {
                        "bin_start": 0.30000000000000004,
                        "bin_end": 0.4,
                        "count": 0
                      },
                      {
                        "bin_start": 0.4,
                        "bin_end": 0.5,
                        "count": 0
                      },
                      {
                        "bin_start": 0.5,
                        "bin_end": 0.6000000000000001,
                        "count": 0
                      },
                      {
                        "bin_start": 0.6000000000000001,
                        "bin_end": 0.7000000000000001,
                        "count": 0
                      },
                      {
                        "bin_start": 0.7000000000000001,
                        "bin_end": 0.8,
                        "count": 0
                      },
                      {
                        "bin_start": 0.8,
                        "bin_end": 0.9,
                        "count": 0
                      },
                      {
                        "bin_start": 0.9,
                        "bin_end": 1,
                        "count": 184
                      }
                    ]
                  }
                },
                {
                  "name": "Pclass_3",
                  "dtype": "uint8",
                  "stats": {
                    "unique_count": 2,
                    "nan_count": 0,
                    "min": "0",
                    "max": "1",
                    "histogram": [
                      {
                        "bin_start": 0,
                        "bin_end": 0.1,
                        "count": 400
                      },
                      {
                        "bin_start": 0.1,
                        "bin_end": 0.2,
                        "count": 0
                      },
                      {
                        "bin_start": 0.2,
                        "bin_end": 0.30000000000000004,
                        "count": 0
                      },
                      {
                        "bin_start": 0.30000000000000004,
                        "bin_end": 0.4,
                        "count": 0
                      },
                      {
                        "bin_start": 0.4,
                        "bin_end": 0.5,
                        "count": 0
                      },
                      {
                        "bin_start": 0.5,
                        "bin_end": 0.6000000000000001,
                        "count": 0
                      },
                      {
                        "bin_start": 0.6000000000000001,
                        "bin_end": 0.7000000000000001,
                        "count": 0
                      },
                      {
                        "bin_start": 0.7000000000000001,
                        "bin_end": 0.8,
                        "count": 0
                      },
                      {
                        "bin_start": 0.8,
                        "bin_end": 0.9,
                        "count": 0
                      },
                      {
                        "bin_start": 0.9,
                        "bin_end": 1,
                        "count": 491
                      }
                    ]
                  }
                },
                {
                  "name": "_deepnote_index_column",
                  "dtype": "int64"
                }
              ],
              "rows_top": [
                {
                  "Sex": 0,
                  "SibSp": 1,
                  "Parch": 0,
                  "Cabin": 0,
                  "Age_mean_norm": -0.5510568548947828,
                  "Fare_mean_norm": -0.5021631365156053,
                  "SibSp encoding": 1,
                  "Embarked_C": 0,
                  "Embarked_Q": 0,
                  "Embarked_S": 1,
                  "Pclass_1": 0,
                  "Pclass_2": 0,
                  "Pclass_3": 1,
                  "_deepnote_index_column": 0
                },
                {
                  "Sex": 1,
                  "SibSp": 1,
                  "Parch": 0,
                  "Cabin": 1,
                  "Age_mean_norm": 0.653662383313827,
                  "Fare_mean_norm": 0.7864036178345383,
                  "SibSp encoding": 1,
                  "Embarked_C": 1,
                  "Embarked_Q": 0,
                  "Embarked_S": 0,
                  "Pclass_1": 1,
                  "Pclass_2": 0,
                  "Pclass_3": 0,
                  "_deepnote_index_column": 1
                },
                {
                  "Sex": 1,
                  "SibSp": 0,
                  "Parch": 0,
                  "Cabin": 0,
                  "Age_mean_norm": -0.2498770453426304,
                  "Fare_mean_norm": -0.48857985158126105,
                  "SibSp encoding": 1,
                  "Embarked_C": 0,
                  "Embarked_Q": 0,
                  "Embarked_S": 1,
                  "Pclass_1": 0,
                  "Pclass_2": 0,
                  "Pclass_3": 1,
                  "_deepnote_index_column": 2
                },
                {
                  "Sex": 1,
                  "SibSp": 1,
                  "Parch": 0,
                  "Cabin": 1,
                  "Age_mean_norm": 0.4277775261497126,
                  "Fare_mean_norm": 0.4204940697654092,
                  "SibSp encoding": 1,
                  "Embarked_C": 0,
                  "Embarked_Q": 0,
                  "Embarked_S": 1,
                  "Pclass_1": 1,
                  "Pclass_2": 0,
                  "Pclass_3": 0,
                  "_deepnote_index_column": 3
                },
                {
                  "Sex": 0,
                  "SibSp": 0,
                  "Parch": 0,
                  "Cabin": 0,
                  "Age_mean_norm": 0.4277775261497126,
                  "Fare_mean_norm": -0.48606442844527137,
                  "SibSp encoding": 1,
                  "Embarked_C": 0,
                  "Embarked_Q": 0,
                  "Embarked_S": 1,
                  "Pclass_1": 0,
                  "Pclass_2": 0,
                  "Pclass_3": 1,
                  "_deepnote_index_column": 4
                },
                {
                  "Sex": 0,
                  "SibSp": 0,
                  "Parch": 0,
                  "Cabin": 0,
                  "Age_mean_norm": -0.21165816081428307,
                  "Fare_mean_norm": -0.4778480503138746,
                  "SibSp encoding": 1,
                  "Embarked_C": 0,
                  "Embarked_Q": 1,
                  "Embarked_S": 0,
                  "Pclass_1": 0,
                  "Pclass_2": 0,
                  "Pclass_3": 1,
                  "_deepnote_index_column": 5
                },
                {
                  "Sex": 0,
                  "SibSp": 0,
                  "Parch": 0,
                  "Cabin": 1,
                  "Age_mean_norm": 1.8583816215224367,
                  "Fare_mean_norm": 0.3955913807191113,
                  "SibSp encoding": 1,
                  "Embarked_C": 0,
                  "Embarked_Q": 0,
                  "Embarked_S": 1,
                  "Pclass_1": 1,
                  "Pclass_2": 0,
                  "Pclass_3": 0,
                  "_deepnote_index_column": 6
                },
                {
                  "Sex": 0,
                  "SibSp": 3,
                  "Parch": 1,
                  "Cabin": 0,
                  "Age_mean_norm": -2.056955902655545,
                  "Fare_mean_norm": -0.22395733767514675,
                  "SibSp encoding": 0,
                  "Embarked_C": 0,
                  "Embarked_Q": 0,
                  "Embarked_S": 1,
                  "Pclass_1": 0,
                  "Pclass_2": 0,
                  "Pclass_3": 1,
                  "_deepnote_index_column": 7
                },
                {
                  "Sex": 1,
                  "SibSp": 0,
                  "Parch": 2,
                  "Cabin": 0,
                  "Age_mean_norm": -0.17458209295459226,
                  "Fare_mean_norm": -0.42401799520369554,
                  "SibSp encoding": 1,
                  "Embarked_C": 0,
                  "Embarked_Q": 0,
                  "Embarked_S": 1,
                  "Pclass_1": 0,
                  "Pclass_2": 0,
                  "Pclass_3": 1,
                  "_deepnote_index_column": 8
                },
                {
                  "Sex": 1,
                  "SibSp": 1,
                  "Parch": 0,
                  "Cabin": 0,
                  "Age_mean_norm": -1.1534164739990878,
                  "Fare_mean_norm": -0.04293139010125909,
                  "SibSp encoding": 1,
                  "Embarked_C": 1,
                  "Embarked_Q": 0,
                  "Embarked_S": 0,
                  "Pclass_1": 0,
                  "Pclass_2": 1,
                  "Pclass_3": 0,
                  "_deepnote_index_column": 9
                },
                {
                  "Sex": 1,
                  "SibSp": 1,
                  "Parch": 1,
                  "Cabin": 1,
                  "Age_mean_norm": -1.9063659978794687,
                  "Fare_mean_norm": -0.3119971474347855,
                  "SibSp encoding": 1,
                  "Embarked_C": 0,
                  "Embarked_Q": 0,
                  "Embarked_S": 1,
                  "Pclass_1": 0,
                  "Pclass_2": 0,
                  "Pclass_3": 1,
                  "_deepnote_index_column": 10
                },
                {
                  "Sex": 1,
                  "SibSp": 0,
                  "Parch": 0,
                  "Cabin": 1,
                  "Age_mean_norm": 2.159561431074589,
                  "Fare_mean_norm": -0.11378180431879875,
                  "SibSp encoding": 1,
                  "Embarked_C": 0,
                  "Embarked_Q": 0,
                  "Embarked_S": 1,
                  "Pclass_1": 1,
                  "Pclass_2": 0,
                  "Pclass_3": 0,
                  "_deepnote_index_column": 11
                },
                {
                  "Sex": 0,
                  "SibSp": 0,
                  "Parch": 0,
                  "Cabin": 0,
                  "Age_mean_norm": -0.701646759670859,
                  "Fare_mean_norm": -0.48606442844527137,
                  "SibSp encoding": 1,
                  "Embarked_C": 0,
                  "Embarked_Q": 0,
                  "Embarked_S": 1,
                  "Pclass_1": 0,
                  "Pclass_2": 0,
                  "Pclass_3": 1,
                  "_deepnote_index_column": 12
                },
                {
                  "Sex": 0,
                  "SibSp": 1,
                  "Parch": 5,
                  "Cabin": 0,
                  "Age_mean_norm": 0.728957335701865,
                  "Fare_mean_norm": -0.01869880977838891,
                  "SibSp encoding": 1,
                  "Embarked_C": 0,
                  "Embarked_Q": 0,
                  "Embarked_S": 1,
                  "Pclass_1": 0,
                  "Pclass_2": 0,
                  "Pclass_3": 1,
                  "_deepnote_index_column": 13
                },
                {
                  "Sex": 1,
                  "SibSp": 0,
                  "Parch": 0,
                  "Cabin": 0,
                  "Age_mean_norm": -1.1534164739990878,
                  "Fare_mean_norm": -0.4900045872454856,
                  "SibSp encoding": 1,
                  "Embarked_C": 0,
                  "Embarked_Q": 0,
                  "Embarked_S": 1,
                  "Pclass_1": 0,
                  "Pclass_2": 0,
                  "Pclass_3": 1,
                  "_deepnote_index_column": 14
                },
                {
                  "Sex": 1,
                  "SibSp": 0,
                  "Parch": 0,
                  "Cabin": 0,
                  "Age_mean_norm": 1.9336765739104749,
                  "Fare_mean_norm": -0.32608351699632776,
                  "SibSp encoding": 1,
                  "Embarked_C": 0,
                  "Embarked_Q": 0,
                  "Embarked_S": 1,
                  "Pclass_1": 0,
                  "Pclass_2": 1,
                  "Pclass_3": 0,
                  "_deepnote_index_column": 15
                },
                {
                  "Sex": 0,
                  "SibSp": 4,
                  "Parch": 1,
                  "Cabin": 0,
                  "Age_mean_norm": -2.056955902655545,
                  "Fare_mean_norm": -0.061964087717411374,
                  "SibSp encoding": 0,
                  "Embarked_C": 0,
                  "Embarked_Q": 1,
                  "Embarked_S": 0,
                  "Pclass_1": 0,
                  "Pclass_2": 0,
                  "Pclass_3": 1,
                  "_deepnote_index_column": 16
                },
                {
                  "Sex": 0,
                  "SibSp": 0,
                  "Parch": 0,
                  "Cabin": 0,
                  "Age_mean_norm": 0.10707426783189414,
                  "Fare_mean_norm": -0.38645367226008004,
                  "SibSp encoding": 1,
                  "Embarked_C": 0,
                  "Embarked_Q": 0,
                  "Embarked_S": 1,
                  "Pclass_1": 0,
                  "Pclass_2": 1,
                  "Pclass_3": 0,
                  "_deepnote_index_column": 17
                },
                {
                  "Sex": 1,
                  "SibSp": 1,
                  "Parch": 0,
                  "Cabin": 0,
                  "Age_mean_norm": 0.12659771659756017,
                  "Fare_mean_norm": -0.28583674682049287,
                  "SibSp encoding": 1,
                  "Embarked_C": 0,
                  "Embarked_Q": 0,
                  "Embarked_S": 1,
                  "Pclass_1": 0,
                  "Pclass_2": 0,
                  "Pclass_3": 1,
                  "_deepnote_index_column": 18
                },
                {
                  "Sex": 1,
                  "SibSp": 0,
                  "Parch": 0,
                  "Cabin": 0,
                  "Age_mean_norm": -0.5698805929917924,
                  "Fare_mean_norm": -0.5026662211428032,
                  "SibSp encoding": 1,
                  "Embarked_C": 1,
                  "Embarked_Q": 0,
                  "Embarked_S": 0,
                  "Pclass_1": 0,
                  "Pclass_2": 0,
                  "Pclass_3": 1,
                  "_deepnote_index_column": 19
                },
                {
                  "Sex": 0,
                  "SibSp": 0,
                  "Parch": 0,
                  "Cabin": 0,
                  "Age_mean_norm": 0.4277775261497126,
                  "Fare_mean_norm": -0.12484966611715337,
                  "SibSp encoding": 1,
                  "Embarked_C": 0,
                  "Embarked_Q": 0,
                  "Embarked_S": 1,
                  "Pclass_1": 0,
                  "Pclass_2": 1,
                  "Pclass_3": 0,
                  "_deepnote_index_column": 20
                },
                {
                  "Sex": 0,
                  "SibSp": 0,
                  "Parch": 0,
                  "Cabin": 1,
                  "Age_mean_norm": 0.3524825737616745,
                  "Fare_mean_norm": -0.38645367226008004,
                  "SibSp encoding": 1,
                  "Embarked_C": 0,
                  "Embarked_Q": 0,
                  "Embarked_S": 1,
                  "Pclass_1": 0,
                  "Pclass_2": 1,
                  "Pclass_3": 0,
                  "_deepnote_index_column": 21
                },
                {
                  "Sex": 1,
                  "SibSp": 0,
                  "Parch": 0,
                  "Cabin": 0,
                  "Age_mean_norm": -1.0781215216110496,
                  "Fare_mean_norm": -0.48648299485510005,
                  "SibSp encoding": 1,
                  "Embarked_C": 0,
                  "Embarked_Q": 1,
                  "Embarked_S": 0,
                  "Pclass_1": 0,
                  "Pclass_2": 0,
                  "Pclass_3": 1,
                  "_deepnote_index_column": 22
                },
                {
                  "Sex": 0,
                  "SibSp": 0,
                  "Parch": 0,
                  "Cabin": 1,
                  "Age_mean_norm": -0.09928714056655416,
                  "Fare_mean_norm": 0.06632249221806229,
                  "SibSp encoding": 1,
                  "Embarked_C": 0,
                  "Embarked_Q": 0,
                  "Embarked_S": 1,
                  "Pclass_1": 1,
                  "Pclass_2": 0,
                  "Pclass_3": 0,
                  "_deepnote_index_column": 23
                },
                {
                  "Sex": 1,
                  "SibSp": 3,
                  "Parch": 1,
                  "Cabin": 0,
                  "Age_mean_norm": -1.6051861883273164,
                  "Fare_mean_norm": -0.22395733767514675,
                  "SibSp encoding": 0,
                  "Embarked_C": 0,
                  "Embarked_Q": 0,
                  "Embarked_S": 1,
                  "Pclass_1": 0,
                  "Pclass_2": 0,
                  "Pclass_3": 1,
                  "_deepnote_index_column": 24
                },
                {
                  "Sex": 1,
                  "SibSp": 1,
                  "Parch": 5,
                  "Cabin": 0,
                  "Age_mean_norm": 0.653662383313827,
                  "Fare_mean_norm": -0.016434928955998185,
                  "SibSp encoding": 1,
                  "Embarked_C": 0,
                  "Embarked_Q": 0,
                  "Embarked_S": 1,
                  "Pclass_1": 0,
                  "Pclass_2": 0,
                  "Pclass_3": 1,
                  "_deepnote_index_column": 25
                },
                {
                  "Sex": 0,
                  "SibSp": 0,
                  "Parch": 0,
                  "Cabin": 0,
                  "Age_mean_norm": -0.21165816081428307,
                  "Fare_mean_norm": -0.5026662211428032,
                  "SibSp encoding": 1,
                  "Embarked_C": 1,
                  "Embarked_Q": 0,
                  "Embarked_S": 0,
                  "Pclass_1": 0,
                  "Pclass_2": 0,
                  "Pclass_3": 1,
                  "_deepnote_index_column": 26
                },
                {
                  "Sex": 0,
                  "SibSp": 3,
                  "Parch": 2,
                  "Cabin": 1,
                  "Age_mean_norm": -0.7769417120588972,
                  "Fare_mean_norm": 4.644392599719279,
                  "SibSp encoding": 0,
                  "Embarked_C": 0,
                  "Embarked_Q": 0,
                  "Embarked_S": 1,
                  "Pclass_1": 1,
                  "Pclass_2": 0,
                  "Pclass_3": 0,
                  "_deepnote_index_column": 27
                },
                {
                  "Sex": 1,
                  "SibSp": 0,
                  "Parch": 0,
                  "Cabin": 0,
                  "Age_mean_norm": -0.5698805929917924,
                  "Fare_mean_norm": -0.4895015026182876,
                  "SibSp encoding": 1,
                  "Embarked_C": 0,
                  "Embarked_Q": 1,
                  "Embarked_S": 0,
                  "Pclass_1": 0,
                  "Pclass_2": 0,
                  "Pclass_3": 1,
                  "_deepnote_index_column": 28
                },
                {
                  "Sex": 0,
                  "SibSp": 0,
                  "Parch": 0,
                  "Cabin": 0,
                  "Age_mean_norm": -0.21165816081428307,
                  "Fare_mean_norm": -0.4891674544258282,
                  "SibSp encoding": 1,
                  "Embarked_C": 0,
                  "Embarked_Q": 0,
                  "Embarked_S": 1,
                  "Pclass_1": 0,
                  "Pclass_2": 0,
                  "Pclass_3": 1,
                  "_deepnote_index_column": 29
                },
                {
                  "Sex": 0,
                  "SibSp": 0,
                  "Parch": 0,
                  "Cabin": 0,
                  "Age_mean_norm": 0.8042522880899031,
                  "Fare_mean_norm": -0.09022134505786503,
                  "SibSp encoding": 1,
                  "Embarked_C": 1,
                  "Embarked_Q": 0,
                  "Embarked_S": 0,
                  "Pclass_1": 1,
                  "Pclass_2": 0,
                  "Pclass_3": 0,
                  "_deepnote_index_column": 30
                },
                {
                  "Sex": 1,
                  "SibSp": 1,
                  "Parch": 0,
                  "Cabin": 1,
                  "Age_mean_norm": 0.39854536816376823,
                  "Fare_mean_norm": 2.300436803386727,
                  "SibSp encoding": 1,
                  "Embarked_C": 1,
                  "Embarked_Q": 0,
                  "Embarked_S": 0,
                  "Pclass_1": 1,
                  "Pclass_2": 0,
                  "Pclass_3": 0,
                  "_deepnote_index_column": 31
                },
                {
                  "Sex": 1,
                  "SibSp": 0,
                  "Parch": 0,
                  "Cabin": 0,
                  "Age_mean_norm": -0.5698805929917924,
                  "Fare_mean_norm": -0.49210144397164657,
                  "SibSp encoding": 1,
                  "Embarked_C": 0,
                  "Embarked_Q": 1,
                  "Embarked_S": 0,
                  "Pclass_1": 0,
                  "Pclass_2": 0,
                  "Pclass_3": 1,
                  "_deepnote_index_column": 32
                },
                {
                  "Sex": 0,
                  "SibSp": 0,
                  "Parch": 0,
                  "Cabin": 0,
                  "Age_mean_norm": 2.7619210501788936,
                  "Fare_mean_norm": -0.43676213497987365,
                  "SibSp encoding": 1,
                  "Embarked_C": 0,
                  "Embarked_Q": 0,
                  "Embarked_S": 1,
                  "Pclass_1": 0,
                  "Pclass_2": 1,
                  "Pclass_3": 0,
                  "_deepnote_index_column": 33
                },
                {
                  "Sex": 0,
                  "SibSp": 1,
                  "Parch": 0,
                  "Cabin": 0,
                  "Age_mean_norm": -0.09928714056655416,
                  "Fare_mean_norm": 1.0054969729792393,
                  "SibSp encoding": 1,
                  "Embarked_C": 1,
                  "Embarked_Q": 0,
                  "Embarked_S": 0,
                  "Pclass_1": 1,
                  "Pclass_2": 0,
                  "Pclass_3": 0,
                  "_deepnote_index_column": 34
                },
                {
                  "Sex": 0,
                  "SibSp": 1,
                  "Parch": 0,
                  "Cabin": 0,
                  "Age_mean_norm": 0.9548421928659794,
                  "Fare_mean_norm": 0.39835834616870003,
                  "SibSp encoding": 1,
                  "Embarked_C": 0,
                  "Embarked_Q": 0,
                  "Embarked_S": 1,
                  "Pclass_1": 1,
                  "Pclass_2": 0,
                  "Pclass_3": 0,
                  "_deepnote_index_column": 35
                },
                {
                  "Sex": 0,
                  "SibSp": 0,
                  "Parch": 0,
                  "Cabin": 0,
                  "Age_mean_norm": -0.21165816081428307,
                  "Fare_mean_norm": -0.502581702925434,
                  "SibSp encoding": 1,
                  "Embarked_C": 1,
                  "Embarked_Q": 0,
                  "Embarked_S": 0,
                  "Pclass_1": 0,
                  "Pclass_2": 0,
                  "Pclass_3": 1,
                  "_deepnote_index_column": 36
                },
                {
                  "Sex": 0,
                  "SibSp": 0,
                  "Parch": 0,
                  "Cabin": 0,
                  "Age_mean_norm": -0.6263518072828209,
                  "Fare_mean_norm": -0.48606442844527137,
                  "SibSp encoding": 1,
                  "Embarked_C": 0,
                  "Embarked_Q": 0,
                  "Embarked_S": 1,
                  "Pclass_1": 0,
                  "Pclass_2": 0,
                  "Pclass_3": 1,
                  "_deepnote_index_column": 37
                }
              ],
              "rows_bottom": [
                {
                  "Sex": 1,
                  "SibSp": 0,
                  "Parch": 1,
                  "Cabin": 1,
                  "Age_mean_norm": -1.0028265692230114,
                  "Fare_mean_norm": 0.14480369406094026,
                  "SibSp encoding": 1,
                  "Embarked_C": 0,
                  "Embarked_Q": 0,
                  "Embarked_S": 1,
                  "Pclass_1": 1,
                  "Pclass_2": 0,
                  "Pclass_3": 0,
                  "_deepnote_index_column": 853
                },
                {
                  "Sex": 1,
                  "SibSp": 1,
                  "Parch": 0,
                  "Cabin": 0,
                  "Age_mean_norm": 1.1054320976420555,
                  "Fare_mean_norm": -0.12484966611715337,
                  "SibSp encoding": 1,
                  "Embarked_C": 0,
                  "Embarked_Q": 0,
                  "Embarked_S": 1,
                  "Pclass_1": 0,
                  "Pclass_2": 1,
                  "Pclass_3": 0,
                  "_deepnote_index_column": 854
                },
                {
                  "Sex": 1,
                  "SibSp": 0,
                  "Parch": 1,
                  "Cabin": 0,
                  "Age_mean_norm": -0.8522366644469352,
                  "Fare_mean_norm": -0.45990402783097867,
                  "SibSp encoding": 1,
                  "Embarked_C": 0,
                  "Embarked_Q": 0,
                  "Embarked_S": 1,
                  "Pclass_1": 0,
                  "Pclass_2": 0,
                  "Pclass_3": 1,
                  "_deepnote_index_column": 855
                },
                {
                  "Sex": 1,
                  "SibSp": 1,
                  "Parch": 1,
                  "Cabin": 0,
                  "Age_mean_norm": 1.1807270500300937,
                  "Fare_mean_norm": 2.669618413871151,
                  "SibSp encoding": 1,
                  "Embarked_C": 0,
                  "Embarked_Q": 0,
                  "Embarked_S": 1,
                  "Pclass_1": 1,
                  "Pclass_2": 0,
                  "Pclass_3": 0,
                  "_deepnote_index_column": 856
                },
                {
                  "Sex": 0,
                  "SibSp": 0,
                  "Parch": 0,
                  "Cabin": 1,
                  "Age_mean_norm": 1.6324967643583224,
                  "Fare_mean_norm": -0.11378180431879875,
                  "SibSp encoding": 1,
                  "Embarked_C": 0,
                  "Embarked_Q": 0,
                  "Embarked_S": 1,
                  "Pclass_1": 1,
                  "Pclass_2": 0,
                  "Pclass_3": 0,
                  "_deepnote_index_column": 857
                },
                {
                  "Sex": 1,
                  "SibSp": 0,
                  "Parch": 3,
                  "Cabin": 0,
                  "Age_mean_norm": -0.4004669501187066,
                  "Fare_mean_norm": -0.26051549136436636,
                  "SibSp encoding": 1,
                  "Embarked_C": 1,
                  "Embarked_Q": 0,
                  "Embarked_S": 0,
                  "Pclass_1": 0,
                  "Pclass_2": 0,
                  "Pclass_3": 1,
                  "_deepnote_index_column": 858
                },
                {
                  "Sex": 0,
                  "SibSp": 0,
                  "Parch": 0,
                  "Cabin": 0,
                  "Age_mean_norm": -0.21165816081428307,
                  "Fare_mean_norm": -0.502581702925434,
                  "SibSp encoding": 1,
                  "Embarked_C": 1,
                  "Embarked_Q": 0,
                  "Embarked_S": 0,
                  "Pclass_1": 0,
                  "Pclass_2": 0,
                  "Pclass_3": 1,
                  "_deepnote_index_column": 859
                },
                {
                  "Sex": 0,
                  "SibSp": 2,
                  "Parch": 0,
                  "Cabin": 0,
                  "Age_mean_norm": 0.8795472404779413,
                  "Fare_mean_norm": -0.36415092456714115,
                  "SibSp encoding": 1,
                  "Embarked_C": 0,
                  "Embarked_Q": 0,
                  "Embarked_S": 1,
                  "Pclass_1": 0,
                  "Pclass_2": 0,
                  "Pclass_3": 1,
                  "_deepnote_index_column": 860
                },
                {
                  "Sex": 0,
                  "SibSp": 1,
                  "Parch": 0,
                  "Cabin": 0,
                  "Age_mean_norm": -0.6263518072828209,
                  "Fare_mean_norm": -0.4166387498919562,
                  "SibSp encoding": 1,
                  "Embarked_C": 0,
                  "Embarked_Q": 0,
                  "Embarked_S": 1,
                  "Pclass_1": 0,
                  "Pclass_2": 1,
                  "Pclass_3": 0,
                  "_deepnote_index_column": 861
                },
                {
                  "Sex": 1,
                  "SibSp": 0,
                  "Parch": 0,
                  "Cabin": 1,
                  "Age_mean_norm": 1.406611907194208,
                  "Fare_mean_norm": -0.1262744017813779,
                  "SibSp encoding": 1,
                  "Embarked_C": 0,
                  "Embarked_Q": 0,
                  "Embarked_S": 1,
                  "Pclass_1": 1,
                  "Pclass_2": 0,
                  "Pclass_3": 0,
                  "_deepnote_index_column": 862
                },
                {
                  "Sex": 1,
                  "SibSp": 8,
                  "Parch": 2,
                  "Cabin": 0,
                  "Age_mean_norm": -0.5698805929917924,
                  "Fare_mean_norm": 0.751523754461651,
                  "SibSp encoding": 0,
                  "Embarked_C": 0,
                  "Embarked_Q": 0,
                  "Embarked_S": 1,
                  "Pclass_1": 0,
                  "Pclass_2": 0,
                  "Pclass_3": 1,
                  "_deepnote_index_column": 863
                },
                {
                  "Sex": 0,
                  "SibSp": 0,
                  "Parch": 0,
                  "Cabin": 0,
                  "Age_mean_norm": -0.4004669501187066,
                  "Fare_mean_norm": -0.38645367226008004,
                  "SibSp encoding": 1,
                  "Embarked_C": 0,
                  "Embarked_Q": 0,
                  "Embarked_S": 1,
                  "Pclass_1": 0,
                  "Pclass_2": 1,
                  "Pclass_3": 0,
                  "_deepnote_index_column": 864
                },
                {
                  "Sex": 1,
                  "SibSp": 0,
                  "Parch": 0,
                  "Cabin": 0,
                  "Age_mean_norm": 0.9548421928659794,
                  "Fare_mean_norm": -0.38645367226008004,
                  "SibSp encoding": 1,
                  "Embarked_C": 0,
                  "Embarked_Q": 0,
                  "Embarked_S": 1,
                  "Pclass_1": 0,
                  "Pclass_2": 1,
                  "Pclass_3": 0,
                  "_deepnote_index_column": 865
                },
                {
                  "Sex": 1,
                  "SibSp": 1,
                  "Parch": 0,
                  "Cabin": 0,
                  "Age_mean_norm": -0.17458209295459226,
                  "Fare_mean_norm": -0.3691817708391205,
                  "SibSp encoding": 1,
                  "Embarked_C": 1,
                  "Embarked_Q": 0,
                  "Embarked_S": 0,
                  "Pclass_1": 0,
                  "Pclass_2": 1,
                  "Pclass_3": 0,
                  "_deepnote_index_column": 866
                },
                {
                  "Sex": 0,
                  "SibSp": 0,
                  "Parch": 0,
                  "Cabin": 1,
                  "Age_mean_norm": 0.12659771659756017,
                  "Fare_mean_norm": 0.36808875031945465,
                  "SibSp encoding": 1,
                  "Embarked_C": 0,
                  "Embarked_Q": 0,
                  "Embarked_S": 1,
                  "Pclass_1": 1,
                  "Pclass_2": 0,
                  "Pclass_3": 0,
                  "_deepnote_index_column": 867
                },
                {
                  "Sex": 0,
                  "SibSp": 0,
                  "Parch": 0,
                  "Cabin": 0,
                  "Age_mean_norm": -0.21165816081428307,
                  "Fare_mean_norm": -0.4568855200677911,
                  "SibSp encoding": 1,
                  "Embarked_C": 0,
                  "Embarked_Q": 0,
                  "Embarked_S": 1,
                  "Pclass_1": 0,
                  "Pclass_2": 0,
                  "Pclass_3": 1,
                  "_deepnote_index_column": 868
                },
                {
                  "Sex": 0,
                  "SibSp": 1,
                  "Parch": 1,
                  "Cabin": 0,
                  "Age_mean_norm": -1.9063659978794687,
                  "Fare_mean_norm": -0.42401799520369554,
                  "SibSp encoding": 1,
                  "Embarked_C": 0,
                  "Embarked_Q": 0,
                  "Embarked_S": 1,
                  "Pclass_1": 0,
                  "Pclass_2": 0,
                  "Pclass_3": 1,
                  "_deepnote_index_column": 869
                },
                {
                  "Sex": 0,
                  "SibSp": 0,
                  "Parch": 0,
                  "Cabin": 0,
                  "Age_mean_norm": -0.2498770453426304,
                  "Fare_mean_norm": -0.4891674544258282,
                  "SibSp encoding": 1,
                  "Embarked_C": 0,
                  "Embarked_Q": 0,
                  "Embarked_S": 1,
                  "Pclass_1": 0,
                  "Pclass_2": 0,
                  "Pclass_3": 1,
                  "_deepnote_index_column": 870
                },
                {
                  "Sex": 1,
                  "SibSp": 1,
                  "Parch": 1,
                  "Cabin": 1,
                  "Age_mean_norm": 1.3313169548061698,
                  "Fare_mean_norm": 0.40951072618442386,
                  "SibSp encoding": 1,
                  "Embarked_C": 0,
                  "Embarked_Q": 0,
                  "Embarked_S": 1,
                  "Pclass_1": 1,
                  "Pclass_2": 0,
                  "Pclass_3": 0,
                  "_deepnote_index_column": 871
                },
                {
                  "Sex": 0,
                  "SibSp": 0,
                  "Parch": 0,
                  "Cabin": 1,
                  "Age_mean_norm": 0.2771876213736364,
                  "Fare_mean_norm": -0.5474407529634195,
                  "SibSp encoding": 1,
                  "Embarked_C": 0,
                  "Embarked_Q": 0,
                  "Embarked_S": 1,
                  "Pclass_1": 1,
                  "Pclass_2": 0,
                  "Pclass_3": 0,
                  "_deepnote_index_column": 872
                },
                {
                  "Sex": 0,
                  "SibSp": 0,
                  "Parch": 0,
                  "Cabin": 0,
                  "Age_mean_norm": 1.3313169548061698,
                  "Fare_mean_norm": -0.4669472126117498,
                  "SibSp encoding": 1,
                  "Embarked_C": 0,
                  "Embarked_Q": 0,
                  "Embarked_S": 1,
                  "Pclass_1": 0,
                  "Pclass_2": 0,
                  "Pclass_3": 1,
                  "_deepnote_index_column": 873
                },
                {
                  "Sex": 1,
                  "SibSp": 1,
                  "Parch": 0,
                  "Cabin": 0,
                  "Age_mean_norm": -0.09928714056655416,
                  "Fare_mean_norm": -0.16509643629298823,
                  "SibSp encoding": 1,
                  "Embarked_C": 1,
                  "Embarked_Q": 0,
                  "Embarked_S": 0,
                  "Pclass_1": 0,
                  "Pclass_2": 1,
                  "Pclass_3": 0,
                  "_deepnote_index_column": 874
                },
                {
                  "Sex": 1,
                  "SibSp": 0,
                  "Parch": 0,
                  "Cabin": 0,
                  "Age_mean_norm": -1.0781215216110496,
                  "Fare_mean_norm": -0.5026662211428032,
                  "SibSp encoding": 1,
                  "Embarked_C": 1,
                  "Embarked_Q": 0,
                  "Embarked_S": 0,
                  "Pclass_1": 0,
                  "Pclass_2": 0,
                  "Pclass_3": 1,
                  "_deepnote_index_column": 875
                },
                {
                  "Sex": 0,
                  "SibSp": 0,
                  "Parch": 0,
                  "Cabin": 0,
                  "Age_mean_norm": -0.701646759670859,
                  "Fare_mean_norm": -0.4499268535043892,
                  "SibSp encoding": 1,
                  "Embarked_C": 0,
                  "Embarked_Q": 0,
                  "Embarked_S": 1,
                  "Pclass_1": 0,
                  "Pclass_2": 0,
                  "Pclass_3": 1,
                  "_deepnote_index_column": 876
                },
                {
                  "Sex": 0,
                  "SibSp": 0,
                  "Parch": 0,
                  "Cabin": 0,
                  "Age_mean_norm": -0.7769417120588972,
                  "Fare_mean_norm": -0.4891674544258282,
                  "SibSp encoding": 1,
                  "Embarked_C": 0,
                  "Embarked_Q": 0,
                  "Embarked_S": 1,
                  "Pclass_1": 0,
                  "Pclass_2": 0,
                  "Pclass_3": 1,
                  "_deepnote_index_column": 877
                },
                {
                  "Sex": 0,
                  "SibSp": 0,
                  "Parch": 0,
                  "Cabin": 0,
                  "Age_mean_norm": -0.21165816081428307,
                  "Fare_mean_norm": -0.4891674544258282,
                  "SibSp encoding": 1,
                  "Embarked_C": 0,
                  "Embarked_Q": 0,
                  "Embarked_S": 1,
                  "Pclass_1": 0,
                  "Pclass_2": 0,
                  "Pclass_3": 1,
                  "_deepnote_index_column": 878
                },
                {
                  "Sex": 1,
                  "SibSp": 0,
                  "Parch": 1,
                  "Cabin": 1,
                  "Age_mean_norm": 2.008971526298513,
                  "Fare_mean_norm": 1.0253688157535579,
                  "SibSp encoding": 1,
                  "Embarked_C": 1,
                  "Embarked_Q": 0,
                  "Embarked_S": 0,
                  "Pclass_1": 1,
                  "Pclass_2": 0,
                  "Pclass_3": 0,
                  "_deepnote_index_column": 879
                },
                {
                  "Sex": 1,
                  "SibSp": 0,
                  "Parch": 1,
                  "Cabin": 0,
                  "Age_mean_norm": -0.32517199773066846,
                  "Fare_mean_norm": -0.12484966611715337,
                  "SibSp encoding": 1,
                  "Embarked_C": 0,
                  "Embarked_Q": 0,
                  "Embarked_S": 1,
                  "Pclass_1": 0,
                  "Pclass_2": 1,
                  "Pclass_3": 0,
                  "_deepnote_index_column": 880
                },
                {
                  "Sex": 0,
                  "SibSp": 0,
                  "Parch": 0,
                  "Cabin": 0,
                  "Age_mean_norm": 0.2771876213736364,
                  "Fare_mean_norm": -0.4891674544258282,
                  "SibSp encoding": 1,
                  "Embarked_C": 0,
                  "Embarked_Q": 0,
                  "Embarked_S": 1,
                  "Pclass_1": 0,
                  "Pclass_2": 0,
                  "Pclass_3": 1,
                  "_deepnote_index_column": 881
                },
                {
                  "Sex": 1,
                  "SibSp": 0,
                  "Parch": 0,
                  "Cabin": 0,
                  "Age_mean_norm": -0.5510568548947828,
                  "Fare_mean_norm": -0.4364260744489054,
                  "SibSp encoding": 1,
                  "Embarked_C": 0,
                  "Embarked_Q": 0,
                  "Embarked_S": 1,
                  "Pclass_1": 0,
                  "Pclass_2": 0,
                  "Pclass_3": 1,
                  "_deepnote_index_column": 882
                },
                {
                  "Sex": 0,
                  "SibSp": 0,
                  "Parch": 0,
                  "Cabin": 0,
                  "Age_mean_norm": -0.09928714056655416,
                  "Fare_mean_norm": -0.43676213497987365,
                  "SibSp encoding": 1,
                  "Embarked_C": 0,
                  "Embarked_Q": 0,
                  "Embarked_S": 1,
                  "Pclass_1": 0,
                  "Pclass_2": 1,
                  "Pclass_3": 0,
                  "_deepnote_index_column": 883
                },
                {
                  "Sex": 0,
                  "SibSp": 0,
                  "Parch": 0,
                  "Cabin": 0,
                  "Age_mean_norm": -0.32517199773066846,
                  "Fare_mean_norm": -0.5061878135331888,
                  "SibSp encoding": 1,
                  "Embarked_C": 0,
                  "Embarked_Q": 0,
                  "Embarked_S": 1,
                  "Pclass_1": 0,
                  "Pclass_2": 0,
                  "Pclass_3": 1,
                  "_deepnote_index_column": 884
                },
                {
                  "Sex": 1,
                  "SibSp": 0,
                  "Parch": 5,
                  "Cabin": 0,
                  "Age_mean_norm": 0.728957335701865,
                  "Fare_mean_norm": -0.061964087717411374,
                  "SibSp encoding": 1,
                  "Embarked_C": 0,
                  "Embarked_Q": 1,
                  "Embarked_S": 0,
                  "Pclass_1": 0,
                  "Pclass_2": 0,
                  "Pclass_3": 1,
                  "_deepnote_index_column": 885
                },
                {
                  "Sex": 0,
                  "SibSp": 0,
                  "Parch": 0,
                  "Cabin": 0,
                  "Age_mean_norm": -0.17458209295459226,
                  "Fare_mean_norm": -0.38645367226008004,
                  "SibSp encoding": 1,
                  "Embarked_C": 0,
                  "Embarked_Q": 0,
                  "Embarked_S": 1,
                  "Pclass_1": 0,
                  "Pclass_2": 1,
                  "Pclass_3": 0,
                  "_deepnote_index_column": 886
                },
                {
                  "Sex": 1,
                  "SibSp": 0,
                  "Parch": 0,
                  "Cabin": 1,
                  "Age_mean_norm": -0.7769417120588972,
                  "Fare_mean_norm": -0.04435612576548362,
                  "SibSp encoding": 1,
                  "Embarked_C": 0,
                  "Embarked_Q": 0,
                  "Embarked_S": 1,
                  "Pclass_1": 1,
                  "Pclass_2": 0,
                  "Pclass_3": 0,
                  "_deepnote_index_column": 887
                },
                {
                  "Sex": 1,
                  "SibSp": 1,
                  "Parch": 2,
                  "Cabin": 0,
                  "Age_mean_norm": -0.5698805929917924,
                  "Fare_mean_norm": -0.17616429809134285,
                  "SibSp encoding": 1,
                  "Embarked_C": 0,
                  "Embarked_Q": 0,
                  "Embarked_S": 1,
                  "Pclass_1": 0,
                  "Pclass_2": 0,
                  "Pclass_3": 1,
                  "_deepnote_index_column": 888
                },
                {
                  "Sex": 0,
                  "SibSp": 0,
                  "Parch": 0,
                  "Cabin": 1,
                  "Age_mean_norm": -0.2498770453426304,
                  "Fare_mean_norm": -0.04435612576548362,
                  "SibSp encoding": 1,
                  "Embarked_C": 1,
                  "Embarked_Q": 0,
                  "Embarked_S": 0,
                  "Pclass_1": 1,
                  "Pclass_2": 0,
                  "Pclass_3": 0,
                  "_deepnote_index_column": 889
                },
                {
                  "Sex": 0,
                  "SibSp": 0,
                  "Parch": 0,
                  "Cabin": 0,
                  "Age_mean_norm": 0.20189266898559827,
                  "Fare_mean_norm": -0.49210144397164657,
                  "SibSp encoding": 1,
                  "Embarked_C": 0,
                  "Embarked_Q": 1,
                  "Embarked_S": 0,
                  "Pclass_1": 0,
                  "Pclass_2": 0,
                  "Pclass_3": 1,
                  "_deepnote_index_column": 890
                }
              ]
            },
            "text/plain": "    Sex  SibSp  Parch Cabin  Age_mean_norm  Fare_mean_norm  SibSp encoding  \\\n0     0      1      0     0      -0.551057       -0.502163               1   \n1     1      1      0     1       0.653662        0.786404               1   \n2     1      0      0     0      -0.249877       -0.488580               1   \n3     1      1      0     1       0.427778        0.420494               1   \n4     0      0      0     0       0.427778       -0.486064               1   \n..   ..    ...    ...   ...            ...             ...             ...   \n886   0      0      0     0      -0.174582       -0.386454               1   \n887   1      0      0     1      -0.776942       -0.044356               1   \n888   1      1      2     0      -0.569881       -0.176164               1   \n889   0      0      0     1      -0.249877       -0.044356               1   \n890   0      0      0     0       0.201893       -0.492101               1   \n\n     Embarked_C  Embarked_Q  Embarked_S  Pclass_1  Pclass_2  Pclass_3  \n0             0           0           1         0         0         1  \n1             1           0           0         1         0         0  \n2             0           0           1         0         0         1  \n3             0           0           1         1         0         0  \n4             0           0           1         0         0         1  \n..          ...         ...         ...       ...       ...       ...  \n886           0           0           1         0         1         0  \n887           0           0           1         1         0         0  \n888           0           0           1         0         0         1  \n889           1           0           0         1         0         0  \n890           0           1           0         0         0         1  \n\n[891 rows x 13 columns]",
            "text/html": "<div>\n<style scoped>\n    .dataframe tbody tr th:only-of-type {\n        vertical-align: middle;\n    }\n\n    .dataframe tbody tr th {\n        vertical-align: top;\n    }\n\n    .dataframe thead th {\n        text-align: right;\n    }\n</style>\n<table border=\"1\" class=\"dataframe\">\n  <thead>\n    <tr style=\"text-align: right;\">\n      <th></th>\n      <th>Sex</th>\n      <th>SibSp</th>\n      <th>Parch</th>\n      <th>Cabin</th>\n      <th>Age_mean_norm</th>\n      <th>Fare_mean_norm</th>\n      <th>SibSp encoding</th>\n      <th>Embarked_C</th>\n      <th>Embarked_Q</th>\n      <th>Embarked_S</th>\n      <th>Pclass_1</th>\n      <th>Pclass_2</th>\n      <th>Pclass_3</th>\n    </tr>\n  </thead>\n  <tbody>\n    <tr>\n      <th>0</th>\n      <td>0</td>\n      <td>1</td>\n      <td>0</td>\n      <td>0</td>\n      <td>-0.551057</td>\n      <td>-0.502163</td>\n      <td>1</td>\n      <td>0</td>\n      <td>0</td>\n      <td>1</td>\n      <td>0</td>\n      <td>0</td>\n      <td>1</td>\n    </tr>\n    <tr>\n      <th>1</th>\n      <td>1</td>\n      <td>1</td>\n      <td>0</td>\n      <td>1</td>\n      <td>0.653662</td>\n      <td>0.786404</td>\n      <td>1</td>\n      <td>1</td>\n      <td>0</td>\n      <td>0</td>\n      <td>1</td>\n      <td>0</td>\n      <td>0</td>\n    </tr>\n    <tr>\n      <th>2</th>\n      <td>1</td>\n      <td>0</td>\n      <td>0</td>\n      <td>0</td>\n      <td>-0.249877</td>\n      <td>-0.488580</td>\n      <td>1</td>\n      <td>0</td>\n      <td>0</td>\n      <td>1</td>\n      <td>0</td>\n      <td>0</td>\n      <td>1</td>\n    </tr>\n    <tr>\n      <th>3</th>\n      <td>1</td>\n      <td>1</td>\n      <td>0</td>\n      <td>1</td>\n      <td>0.427778</td>\n      <td>0.420494</td>\n      <td>1</td>\n      <td>0</td>\n      <td>0</td>\n      <td>1</td>\n      <td>1</td>\n      <td>0</td>\n      <td>0</td>\n    </tr>\n    <tr>\n      <th>4</th>\n      <td>0</td>\n      <td>0</td>\n      <td>0</td>\n      <td>0</td>\n      <td>0.427778</td>\n      <td>-0.486064</td>\n      <td>1</td>\n      <td>0</td>\n      <td>0</td>\n      <td>1</td>\n      <td>0</td>\n      <td>0</td>\n      <td>1</td>\n    </tr>\n    <tr>\n      <th>...</th>\n      <td>...</td>\n      <td>...</td>\n      <td>...</td>\n      <td>...</td>\n      <td>...</td>\n      <td>...</td>\n      <td>...</td>\n      <td>...</td>\n      <td>...</td>\n      <td>...</td>\n      <td>...</td>\n      <td>...</td>\n      <td>...</td>\n    </tr>\n    <tr>\n      <th>886</th>\n      <td>0</td>\n      <td>0</td>\n      <td>0</td>\n      <td>0</td>\n      <td>-0.174582</td>\n      <td>-0.386454</td>\n      <td>1</td>\n      <td>0</td>\n      <td>0</td>\n      <td>1</td>\n      <td>0</td>\n      <td>1</td>\n      <td>0</td>\n    </tr>\n    <tr>\n      <th>887</th>\n      <td>1</td>\n      <td>0</td>\n      <td>0</td>\n      <td>1</td>\n      <td>-0.776942</td>\n      <td>-0.044356</td>\n      <td>1</td>\n      <td>0</td>\n      <td>0</td>\n      <td>1</td>\n      <td>1</td>\n      <td>0</td>\n      <td>0</td>\n    </tr>\n    <tr>\n      <th>888</th>\n      <td>1</td>\n      <td>1</td>\n      <td>2</td>\n      <td>0</td>\n      <td>-0.569881</td>\n      <td>-0.176164</td>\n      <td>1</td>\n      <td>0</td>\n      <td>0</td>\n      <td>1</td>\n      <td>0</td>\n      <td>0</td>\n      <td>1</td>\n    </tr>\n    <tr>\n      <th>889</th>\n      <td>0</td>\n      <td>0</td>\n      <td>0</td>\n      <td>1</td>\n      <td>-0.249877</td>\n      <td>-0.044356</td>\n      <td>1</td>\n      <td>1</td>\n      <td>0</td>\n      <td>0</td>\n      <td>1</td>\n      <td>0</td>\n      <td>0</td>\n    </tr>\n    <tr>\n      <th>890</th>\n      <td>0</td>\n      <td>0</td>\n      <td>0</td>\n      <td>0</td>\n      <td>0.201893</td>\n      <td>-0.492101</td>\n      <td>1</td>\n      <td>0</td>\n      <td>1</td>\n      <td>0</td>\n      <td>0</td>\n      <td>0</td>\n      <td>1</td>\n    </tr>\n  </tbody>\n</table>\n<p>891 rows × 13 columns</p>\n</div>"
          },
          "metadata": {}
        }
      ],
      "execution_count": 21
    },
    {
      "cell_type": "code",
      "source": "print(train_X.shape)\nprint(train_X.shape)",
      "metadata": {
        "tags": [],
        "cell_id": "00040-fa9f714e-4940-4958-add6-a26f6fd5cf36",
        "deepnote_to_be_reexecuted": false,
        "source_hash": "ab410a36",
        "execution_start": 1619782387396,
        "execution_millis": 24,
        "deepnote_cell_type": "code"
      },
      "outputs": [
        {
          "name": "stdout",
          "text": "(891, 13)\n(891, 13)\n",
          "output_type": "stream"
        }
      ],
      "execution_count": 22
    },
    {
      "cell_type": "markdown",
      "source": "Creating parameters",
      "metadata": {
        "tags": [],
        "cell_id": "00025-b4151ab8-e6ee-455a-9a02-c96c7185dbc1",
        "deepnote_cell_type": "markdown"
      }
    },
    {
      "cell_type": "code",
      "source": "model_params = {\n    'svm': {\n        'model': svm.SVC(gamma='auto'),\n        'params' : {\n            'C': [1,10,20,30,40],\n            'kernel': ['rbf','linear']\n        }  \n    },\n    'random_forest': {\n        'model': RandomForestClassifier(),\n        'params' : {\n            'n_estimators': [1,5,10,20,30]\n        }\n    },\n    'logistic_regression' : {\n        'model': LogisticRegression(solver='liblinear',multi_class='auto'),\n        'params': {\n            'C': [1,5,10,30,40]\n        }\n    }\n}",
      "metadata": {
        "tags": [],
        "cell_id": "00020-d7214daa-225b-49f8-a37e-d7b206f90c1b",
        "deepnote_to_be_reexecuted": false,
        "source_hash": "2eb832f2",
        "execution_start": 1619782387433,
        "execution_millis": 14,
        "deepnote_cell_type": "code"
      },
      "outputs": [],
      "execution_count": 23
    },
    {
      "cell_type": "markdown",
      "source": "Running classification models for finding best result!",
      "metadata": {
        "tags": [],
        "cell_id": "00027-b4e5ef6a-fd11-4040-acf8-fdaa440a57b0",
        "deepnote_cell_type": "markdown"
      }
    },
    {
      "cell_type": "code",
      "source": "scores = []\n\nfor model_name, mp in model_params.items():\n    clf =  GridSearchCV(mp['model'], mp['params'], cv=5, return_train_score=False)\n    clf.fit(train_X, train_y)\n    scores.append({\n        'model': model_name,\n        'best_score': clf.best_score_,\n        'best_params': clf.best_params_\n    })\n    \ndf_scores = pd.DataFrame(scores,columns=['model','best_score','best_params'])\ndf_scores",
      "metadata": {
        "tags": [],
        "cell_id": "00026-b47d12c4-c9df-44d7-b39a-adf04724e825",
        "deepnote_to_be_reexecuted": false,
        "source_hash": "51361ae3",
        "execution_start": 1619782387462,
        "execution_millis": 17962,
        "deepnote_cell_type": "code"
      },
      "outputs": [
        {
          "output_type": "execute_result",
          "execution_count": 24,
          "data": {
            "application/vnd.deepnote.dataframe.v2+json": {
              "row_count": 3,
              "column_count": 3,
              "columns": [
                {
                  "name": "model",
                  "dtype": "object",
                  "stats": {
                    "unique_count": 3,
                    "nan_count": 0,
                    "categories": [
                      {
                        "name": "svm",
                        "count": 1
                      },
                      {
                        "name": "random_forest",
                        "count": 1
                      },
                      {
                        "name": "logistic_regression",
                        "count": 1
                      }
                    ]
                  }
                },
                {
                  "name": "best_score",
                  "dtype": "float64",
                  "stats": {
                    "unique_count": 3,
                    "nan_count": 0,
                    "min": "0.8103132257862031",
                    "max": "0.8260372857949909",
                    "histogram": [
                      {
                        "bin_start": 0.8103132257862031,
                        "bin_end": 0.811885631787082,
                        "count": 1
                      },
                      {
                        "bin_start": 0.811885631787082,
                        "bin_end": 0.8134580377879607,
                        "count": 1
                      },
                      {
                        "bin_start": 0.8134580377879607,
                        "bin_end": 0.8150304437888395,
                        "count": 0
                      },
                      {
                        "bin_start": 0.8150304437888395,
                        "bin_end": 0.8166028497897182,
                        "count": 0
                      },
                      {
                        "bin_start": 0.8166028497897182,
                        "bin_end": 0.818175255790597,
                        "count": 0
                      },
                      {
                        "bin_start": 0.818175255790597,
                        "bin_end": 0.8197476617914758,
                        "count": 0
                      },
                      {
                        "bin_start": 0.8197476617914758,
                        "bin_end": 0.8213200677923546,
                        "count": 0
                      },
                      {
                        "bin_start": 0.8213200677923546,
                        "bin_end": 0.8228924737932334,
                        "count": 0
                      },
                      {
                        "bin_start": 0.8228924737932334,
                        "bin_end": 0.8244648797941121,
                        "count": 0
                      },
                      {
                        "bin_start": 0.8244648797941121,
                        "bin_end": 0.8260372857949909,
                        "count": 1
                      }
                    ]
                  }
                },
                {
                  "name": "best_params",
                  "dtype": "object",
                  "stats": {
                    "unique_count": 3,
                    "nan_count": 0,
                    "categories": [
                      {
                        "name": "{'C': 10, 'kernel': 'rbf'}",
                        "count": 1
                      },
                      {
                        "name": "{'n_estimators': 5}",
                        "count": 1
                      },
                      {
                        "name": "{'C': 1}",
                        "count": 1
                      }
                    ]
                  }
                },
                {
                  "name": "_deepnote_index_column",
                  "dtype": "int64"
                }
              ],
              "rows_top": [
                {
                  "model": "svm",
                  "best_score": 0.8260372857949909,
                  "best_params": "{'C': 10, 'kernel': 'rbf'}",
                  "_deepnote_index_column": 0
                },
                {
                  "model": "random_forest",
                  "best_score": 0.8125918021467579,
                  "best_params": "{'n_estimators': 5}",
                  "_deepnote_index_column": 1
                },
                {
                  "model": "logistic_regression",
                  "best_score": 0.8103132257862031,
                  "best_params": "{'C': 1}",
                  "_deepnote_index_column": 2
                }
              ],
              "rows_bottom": null
            },
            "text/plain": "                 model  best_score                 best_params\n0                  svm    0.826037  {'C': 10, 'kernel': 'rbf'}\n1        random_forest    0.812592         {'n_estimators': 5}\n2  logistic_regression    0.810313                    {'C': 1}",
            "text/html": "<div>\n<style scoped>\n    .dataframe tbody tr th:only-of-type {\n        vertical-align: middle;\n    }\n\n    .dataframe tbody tr th {\n        vertical-align: top;\n    }\n\n    .dataframe thead th {\n        text-align: right;\n    }\n</style>\n<table border=\"1\" class=\"dataframe\">\n  <thead>\n    <tr style=\"text-align: right;\">\n      <th></th>\n      <th>model</th>\n      <th>best_score</th>\n      <th>best_params</th>\n    </tr>\n  </thead>\n  <tbody>\n    <tr>\n      <th>0</th>\n      <td>svm</td>\n      <td>0.826037</td>\n      <td>{'C': 10, 'kernel': 'rbf'}</td>\n    </tr>\n    <tr>\n      <th>1</th>\n      <td>random_forest</td>\n      <td>0.812592</td>\n      <td>{'n_estimators': 5}</td>\n    </tr>\n    <tr>\n      <th>2</th>\n      <td>logistic_regression</td>\n      <td>0.810313</td>\n      <td>{'C': 1}</td>\n    </tr>\n  </tbody>\n</table>\n</div>"
          },
          "metadata": {}
        }
      ],
      "execution_count": 24
    },
    {
      "cell_type": "code",
      "source": "clf=GridSearchCV(svm.SVC(gamma='auto'), {\n            'C': [1,10,20,30,40],\n            'kernel': ['rbf','linear']\n        }  , cv=5, return_train_score=False)",
      "metadata": {
        "tags": [],
        "cell_id": "00043-5c34a9a7-3ddd-4a74-91b3-839b65fe828d",
        "deepnote_to_be_reexecuted": false,
        "source_hash": "3e40d32c",
        "execution_start": 1619782405443,
        "execution_millis": 18,
        "deepnote_cell_type": "code"
      },
      "outputs": [],
      "execution_count": 25
    },
    {
      "cell_type": "code",
      "source": "clf.fit(train_X,train_y)",
      "metadata": {
        "tags": [],
        "cell_id": "00039-658caff7-2eec-4a83-a588-d664ad0a5233",
        "deepnote_to_be_reexecuted": false,
        "source_hash": "dfa5b64",
        "execution_start": 1619782405469,
        "execution_millis": 13800,
        "deepnote_cell_type": "code"
      },
      "outputs": [
        {
          "output_type": "execute_result",
          "execution_count": 26,
          "data": {
            "text/plain": "GridSearchCV(cv=5, estimator=SVC(gamma='auto'),\n             param_grid={'C': [1, 10, 20, 30, 40], 'kernel': ['rbf', 'linear']})"
          },
          "metadata": {}
        }
      ],
      "execution_count": 26
    },
    {
      "cell_type": "code",
      "source": "result= clf.predict(test_X)\n\n\n\n",
      "metadata": {
        "tags": [],
        "cell_id": "00040-4d59eb2a-3fc9-452a-9d5c-3ca6528fe724",
        "deepnote_to_be_reexecuted": false,
        "source_hash": "c6e0578d",
        "execution_start": 1619782569716,
        "execution_millis": 140,
        "deepnote_cell_type": "code"
      },
      "outputs": [],
      "execution_count": 29
    },
    {
      "cell_type": "code",
      "source": "test_df['Survived'] = result\ntest_df",
      "metadata": {
        "tags": [],
        "cell_id": "00050-e18154f4-9177-4327-9930-f6f415e660db",
        "deepnote_to_be_reexecuted": false,
        "source_hash": "118e59be",
        "execution_start": 1619782956867,
        "execution_millis": 313,
        "deepnote_cell_type": "code"
      },
      "outputs": [
        {
          "output_type": "execute_result",
          "execution_count": 31,
          "data": {
            "application/vnd.deepnote.dataframe.v2+json": {
              "row_count": 418,
              "column_count": 18,
              "columns": [
                {
                  "name": "PassengerId",
                  "dtype": "int64",
                  "stats": {
                    "unique_count": 418,
                    "nan_count": 0,
                    "min": "892",
                    "max": "1309",
                    "histogram": [
                      {
                        "bin_start": 892,
                        "bin_end": 933.7,
                        "count": 42
                      },
                      {
                        "bin_start": 933.7,
                        "bin_end": 975.4,
                        "count": 42
                      },
                      {
                        "bin_start": 975.4,
                        "bin_end": 1017.1,
                        "count": 42
                      },
                      {
                        "bin_start": 1017.1,
                        "bin_end": 1058.8,
                        "count": 41
                      },
                      {
                        "bin_start": 1058.8,
                        "bin_end": 1100.5,
                        "count": 42
                      },
                      {
                        "bin_start": 1100.5,
                        "bin_end": 1142.2,
                        "count": 42
                      },
                      {
                        "bin_start": 1142.2,
                        "bin_end": 1183.9,
                        "count": 41
                      },
                      {
                        "bin_start": 1183.9,
                        "bin_end": 1225.6,
                        "count": 42
                      },
                      {
                        "bin_start": 1225.6,
                        "bin_end": 1267.3,
                        "count": 42
                      },
                      {
                        "bin_start": 1267.3,
                        "bin_end": 1309,
                        "count": 42
                      }
                    ]
                  }
                },
                {
                  "name": "Name",
                  "dtype": "object",
                  "stats": {
                    "unique_count": 418,
                    "nan_count": 0,
                    "categories": [
                      {
                        "name": "Kelly, Mr. James",
                        "count": 1
                      },
                      {
                        "name": "Wilkes, Mrs. James (Ellen Needs)",
                        "count": 1
                      },
                      {
                        "name": "416 others",
                        "count": 416
                      }
                    ]
                  }
                },
                {
                  "name": "Sex",
                  "dtype": "object",
                  "stats": {
                    "unique_count": 2,
                    "nan_count": 0,
                    "categories": [
                      {
                        "name": "0",
                        "count": 266
                      },
                      {
                        "name": "1",
                        "count": 152
                      }
                    ]
                  }
                },
                {
                  "name": "Age",
                  "dtype": "float64",
                  "stats": {
                    "unique_count": 85,
                    "nan_count": 0,
                    "min": "0.17",
                    "max": "76.0",
                    "histogram": [
                      {
                        "bin_start": 0.17,
                        "bin_end": 7.753,
                        "count": 16
                      },
                      {
                        "bin_start": 7.753,
                        "bin_end": 15.336,
                        "count": 16
                      },
                      {
                        "bin_start": 15.336,
                        "bin_end": 22.919000000000004,
                        "count": 71
                      },
                      {
                        "bin_start": 22.919000000000004,
                        "bin_end": 30.502000000000002,
                        "count": 170
                      },
                      {
                        "bin_start": 30.502000000000002,
                        "bin_end": 38.085,
                        "count": 47
                      },
                      {
                        "bin_start": 38.085,
                        "bin_end": 45.668000000000006,
                        "count": 46
                      },
                      {
                        "bin_start": 45.668000000000006,
                        "bin_end": 53.251000000000005,
                        "count": 25
                      },
                      {
                        "bin_start": 53.251000000000005,
                        "bin_end": 60.834,
                        "count": 17
                      },
                      {
                        "bin_start": 60.834,
                        "bin_end": 68.417,
                        "count": 9
                      },
                      {
                        "bin_start": 68.417,
                        "bin_end": 76,
                        "count": 1
                      }
                    ]
                  }
                },
                {
                  "name": "SibSp",
                  "dtype": "int64",
                  "stats": {
                    "unique_count": 7,
                    "nan_count": 0,
                    "min": "0",
                    "max": "8",
                    "histogram": [
                      {
                        "bin_start": 0,
                        "bin_end": 0.8,
                        "count": 283
                      },
                      {
                        "bin_start": 0.8,
                        "bin_end": 1.6,
                        "count": 110
                      },
                      {
                        "bin_start": 1.6,
                        "bin_end": 2.4000000000000004,
                        "count": 14
                      },
                      {
                        "bin_start": 2.4000000000000004,
                        "bin_end": 3.2,
                        "count": 4
                      },
                      {
                        "bin_start": 3.2,
                        "bin_end": 4,
                        "count": 0
                      },
                      {
                        "bin_start": 4,
                        "bin_end": 4.800000000000001,
                        "count": 4
                      },
                      {
                        "bin_start": 4.800000000000001,
                        "bin_end": 5.6000000000000005,
                        "count": 1
                      },
                      {
                        "bin_start": 5.6000000000000005,
                        "bin_end": 6.4,
                        "count": 0
                      },
                      {
                        "bin_start": 6.4,
                        "bin_end": 7.2,
                        "count": 0
                      },
                      {
                        "bin_start": 7.2,
                        "bin_end": 8,
                        "count": 2
                      }
                    ]
                  }
                },
                {
                  "name": "Parch",
                  "dtype": "int64",
                  "stats": {
                    "unique_count": 8,
                    "nan_count": 0,
                    "min": "0",
                    "max": "9",
                    "histogram": [
                      {
                        "bin_start": 0,
                        "bin_end": 0.9,
                        "count": 324
                      },
                      {
                        "bin_start": 0.9,
                        "bin_end": 1.8,
                        "count": 52
                      },
                      {
                        "bin_start": 1.8,
                        "bin_end": 2.7,
                        "count": 33
                      },
                      {
                        "bin_start": 2.7,
                        "bin_end": 3.6,
                        "count": 3
                      },
                      {
                        "bin_start": 3.6,
                        "bin_end": 4.5,
                        "count": 2
                      },
                      {
                        "bin_start": 4.5,
                        "bin_end": 5.4,
                        "count": 1
                      },
                      {
                        "bin_start": 5.4,
                        "bin_end": 6.3,
                        "count": 1
                      },
                      {
                        "bin_start": 6.3,
                        "bin_end": 7.2,
                        "count": 0
                      },
                      {
                        "bin_start": 7.2,
                        "bin_end": 8.1,
                        "count": 0
                      },
                      {
                        "bin_start": 8.1,
                        "bin_end": 9,
                        "count": 2
                      }
                    ]
                  }
                },
                {
                  "name": "Fare",
                  "dtype": "float64",
                  "stats": {
                    "unique_count": 170,
                    "nan_count": 0,
                    "min": "0.0",
                    "max": "512.3292",
                    "histogram": [
                      {
                        "bin_start": 0,
                        "bin_end": 51.23292,
                        "count": 339
                      },
                      {
                        "bin_start": 51.23292,
                        "bin_end": 102.46584,
                        "count": 48
                      },
                      {
                        "bin_start": 102.46584,
                        "bin_end": 153.69876,
                        "count": 11
                      },
                      {
                        "bin_start": 153.69876,
                        "bin_end": 204.93168,
                        "count": 2
                      },
                      {
                        "bin_start": 204.93168,
                        "bin_end": 256.1646,
                        "count": 10
                      },
                      {
                        "bin_start": 256.1646,
                        "bin_end": 307.39752,
                        "count": 7
                      },
                      {
                        "bin_start": 307.39752,
                        "bin_end": 358.63044,
                        "count": 0
                      },
                      {
                        "bin_start": 358.63044,
                        "bin_end": 409.86336,
                        "count": 0
                      },
                      {
                        "bin_start": 409.86336,
                        "bin_end": 461.09628,
                        "count": 0
                      },
                      {
                        "bin_start": 461.09628,
                        "bin_end": 512.3292,
                        "count": 1
                      }
                    ]
                  }
                },
                {
                  "name": "Cabin",
                  "dtype": "object",
                  "stats": {
                    "unique_count": 2,
                    "nan_count": 0,
                    "categories": [
                      {
                        "name": "0",
                        "count": 327
                      },
                      {
                        "name": "1",
                        "count": 91
                      }
                    ]
                  }
                },
                {
                  "name": "Age_mean_norm",
                  "dtype": "float64",
                  "stats": {
                    "unique_count": 85,
                    "nan_count": 0,
                    "min": "-2.2566476859145417",
                    "max": "3.593062323085579",
                    "histogram": [
                      {
                        "bin_start": -2.2566476859145417,
                        "bin_end": -1.6716766850145297,
                        "count": 16
                      },
                      {
                        "bin_start": -1.6716766850145297,
                        "bin_end": -1.0867056841145175,
                        "count": 16
                      },
                      {
                        "bin_start": -1.0867056841145175,
                        "bin_end": -0.5017346832145053,
                        "count": 71
                      },
                      {
                        "bin_start": -0.5017346832145053,
                        "bin_end": 0.08323631768550666,
                        "count": 170
                      },
                      {
                        "bin_start": 0.08323631768550666,
                        "bin_end": 0.6682073185855186,
                        "count": 47
                      },
                      {
                        "bin_start": 0.6682073185855186,
                        "bin_end": 1.253178319485531,
                        "count": 46
                      },
                      {
                        "bin_start": 1.253178319485531,
                        "bin_end": 1.838149320385543,
                        "count": 25
                      },
                      {
                        "bin_start": 1.838149320385543,
                        "bin_end": 2.423120321285555,
                        "count": 17
                      },
                      {
                        "bin_start": 2.423120321285555,
                        "bin_end": 3.008091322185567,
                        "count": 9
                      },
                      {
                        "bin_start": 3.008091322185567,
                        "bin_end": 3.593062323085579,
                        "count": 1
                      }
                    ]
                  }
                },
                {
                  "name": "Fare_mean_norm",
                  "dtype": "float64",
                  "stats": {
                    "unique_count": 170,
                    "nan_count": 0,
                    "min": "-0.6380169981152265",
                    "max": "8.536850626642334",
                    "histogram": [
                      {
                        "bin_start": -0.6380169981152265,
                        "bin_end": 0.2794697643605295,
                        "count": 339
                      },
                      {
                        "bin_start": 0.2794697643605295,
                        "bin_end": 1.1969565268362854,
                        "count": 48
                      },
                      {
                        "bin_start": 1.1969565268362854,
                        "bin_end": 2.1144432893120415,
                        "count": 11
                      },
                      {
                        "bin_start": 2.1144432893120415,
                        "bin_end": 3.0319300517877976,
                        "count": 2
                      },
                      {
                        "bin_start": 3.0319300517877976,
                        "bin_end": 3.9494168142635537,
                        "count": 10
                      },
                      {
                        "bin_start": 3.9494168142635537,
                        "bin_end": 4.866903576739309,
                        "count": 7
                      },
                      {
                        "bin_start": 4.866903576739309,
                        "bin_end": 5.784390339215066,
                        "count": 0
                      },
                      {
                        "bin_start": 5.784390339215066,
                        "bin_end": 6.701877101690822,
                        "count": 0
                      },
                      {
                        "bin_start": 6.701877101690822,
                        "bin_end": 7.619363864166578,
                        "count": 0
                      },
                      {
                        "bin_start": 7.619363864166578,
                        "bin_end": 8.536850626642334,
                        "count": 1
                      }
                    ]
                  }
                },
                {
                  "name": "SibSp encoding",
                  "dtype": "int64",
                  "stats": {
                    "unique_count": 2,
                    "nan_count": 0,
                    "min": "0",
                    "max": "1",
                    "histogram": [
                      {
                        "bin_start": 0,
                        "bin_end": 0.1,
                        "count": 11
                      },
                      {
                        "bin_start": 0.1,
                        "bin_end": 0.2,
                        "count": 0
                      },
                      {
                        "bin_start": 0.2,
                        "bin_end": 0.30000000000000004,
                        "count": 0
                      },
                      {
                        "bin_start": 0.30000000000000004,
                        "bin_end": 0.4,
                        "count": 0
                      },
                      {
                        "bin_start": 0.4,
                        "bin_end": 0.5,
                        "count": 0
                      },
                      {
                        "bin_start": 0.5,
                        "bin_end": 0.6000000000000001,
                        "count": 0
                      },
                      {
                        "bin_start": 0.6000000000000001,
                        "bin_end": 0.7000000000000001,
                        "count": 0
                      },
                      {
                        "bin_start": 0.7000000000000001,
                        "bin_end": 0.8,
                        "count": 0
                      },
                      {
                        "bin_start": 0.8,
                        "bin_end": 0.9,
                        "count": 0
                      },
                      {
                        "bin_start": 0.9,
                        "bin_end": 1,
                        "count": 407
                      }
                    ]
                  }
                },
                {
                  "name": "Embarked_C",
                  "dtype": "uint8",
                  "stats": {
                    "unique_count": 2,
                    "nan_count": 0,
                    "min": "0",
                    "max": "1",
                    "histogram": [
                      {
                        "bin_start": 0,
                        "bin_end": 0.1,
                        "count": 316
                      },
                      {
                        "bin_start": 0.1,
                        "bin_end": 0.2,
                        "count": 0
                      },
                      {
                        "bin_start": 0.2,
                        "bin_end": 0.30000000000000004,
                        "count": 0
                      },
                      {
                        "bin_start": 0.30000000000000004,
                        "bin_end": 0.4,
                        "count": 0
                      },
                      {
                        "bin_start": 0.4,
                        "bin_end": 0.5,
                        "count": 0
                      },
                      {
                        "bin_start": 0.5,
                        "bin_end": 0.6000000000000001,
                        "count": 0
                      },
                      {
                        "bin_start": 0.6000000000000001,
                        "bin_end": 0.7000000000000001,
                        "count": 0
                      },
                      {
                        "bin_start": 0.7000000000000001,
                        "bin_end": 0.8,
                        "count": 0
                      },
                      {
                        "bin_start": 0.8,
                        "bin_end": 0.9,
                        "count": 0
                      },
                      {
                        "bin_start": 0.9,
                        "bin_end": 1,
                        "count": 102
                      }
                    ]
                  }
                },
                {
                  "name": "Embarked_Q",
                  "dtype": "uint8",
                  "stats": {
                    "unique_count": 2,
                    "nan_count": 0,
                    "min": "0",
                    "max": "1",
                    "histogram": [
                      {
                        "bin_start": 0,
                        "bin_end": 0.1,
                        "count": 372
                      },
                      {
                        "bin_start": 0.1,
                        "bin_end": 0.2,
                        "count": 0
                      },
                      {
                        "bin_start": 0.2,
                        "bin_end": 0.30000000000000004,
                        "count": 0
                      },
                      {
                        "bin_start": 0.30000000000000004,
                        "bin_end": 0.4,
                        "count": 0
                      },
                      {
                        "bin_start": 0.4,
                        "bin_end": 0.5,
                        "count": 0
                      },
                      {
                        "bin_start": 0.5,
                        "bin_end": 0.6000000000000001,
                        "count": 0
                      },
                      {
                        "bin_start": 0.6000000000000001,
                        "bin_end": 0.7000000000000001,
                        "count": 0
                      },
                      {
                        "bin_start": 0.7000000000000001,
                        "bin_end": 0.8,
                        "count": 0
                      },
                      {
                        "bin_start": 0.8,
                        "bin_end": 0.9,
                        "count": 0
                      },
                      {
                        "bin_start": 0.9,
                        "bin_end": 1,
                        "count": 46
                      }
                    ]
                  }
                },
                {
                  "name": "Embarked_S",
                  "dtype": "uint8",
                  "stats": {
                    "unique_count": 2,
                    "nan_count": 0,
                    "min": "0",
                    "max": "1",
                    "histogram": [
                      {
                        "bin_start": 0,
                        "bin_end": 0.1,
                        "count": 148
                      },
                      {
                        "bin_start": 0.1,
                        "bin_end": 0.2,
                        "count": 0
                      },
                      {
                        "bin_start": 0.2,
                        "bin_end": 0.30000000000000004,
                        "count": 0
                      },
                      {
                        "bin_start": 0.30000000000000004,
                        "bin_end": 0.4,
                        "count": 0
                      },
                      {
                        "bin_start": 0.4,
                        "bin_end": 0.5,
                        "count": 0
                      },
                      {
                        "bin_start": 0.5,
                        "bin_end": 0.6000000000000001,
                        "count": 0
                      },
                      {
                        "bin_start": 0.6000000000000001,
                        "bin_end": 0.7000000000000001,
                        "count": 0
                      },
                      {
                        "bin_start": 0.7000000000000001,
                        "bin_end": 0.8,
                        "count": 0
                      },
                      {
                        "bin_start": 0.8,
                        "bin_end": 0.9,
                        "count": 0
                      },
                      {
                        "bin_start": 0.9,
                        "bin_end": 1,
                        "count": 270
                      }
                    ]
                  }
                },
                {
                  "name": "Pclass_1",
                  "dtype": "uint8",
                  "stats": {
                    "unique_count": 2,
                    "nan_count": 0,
                    "min": "0",
                    "max": "1",
                    "histogram": [
                      {
                        "bin_start": 0,
                        "bin_end": 0.1,
                        "count": 311
                      },
                      {
                        "bin_start": 0.1,
                        "bin_end": 0.2,
                        "count": 0
                      },
                      {
                        "bin_start": 0.2,
                        "bin_end": 0.30000000000000004,
                        "count": 0
                      },
                      {
                        "bin_start": 0.30000000000000004,
                        "bin_end": 0.4,
                        "count": 0
                      },
                      {
                        "bin_start": 0.4,
                        "bin_end": 0.5,
                        "count": 0
                      },
                      {
                        "bin_start": 0.5,
                        "bin_end": 0.6000000000000001,
                        "count": 0
                      },
                      {
                        "bin_start": 0.6000000000000001,
                        "bin_end": 0.7000000000000001,
                        "count": 0
                      },
                      {
                        "bin_start": 0.7000000000000001,
                        "bin_end": 0.8,
                        "count": 0
                      },
                      {
                        "bin_start": 0.8,
                        "bin_end": 0.9,
                        "count": 0
                      },
                      {
                        "bin_start": 0.9,
                        "bin_end": 1,
                        "count": 107
                      }
                    ]
                  }
                },
                {
                  "name": "Pclass_2",
                  "dtype": "uint8",
                  "stats": {
                    "unique_count": 2,
                    "nan_count": 0,
                    "min": "0",
                    "max": "1",
                    "histogram": [
                      {
                        "bin_start": 0,
                        "bin_end": 0.1,
                        "count": 325
                      },
                      {
                        "bin_start": 0.1,
                        "bin_end": 0.2,
                        "count": 0
                      },
                      {
                        "bin_start": 0.2,
                        "bin_end": 0.30000000000000004,
                        "count": 0
                      },
                      {
                        "bin_start": 0.30000000000000004,
                        "bin_end": 0.4,
                        "count": 0
                      },
                      {
                        "bin_start": 0.4,
                        "bin_end": 0.5,
                        "count": 0
                      },
                      {
                        "bin_start": 0.5,
                        "bin_end": 0.6000000000000001,
                        "count": 0
                      },
                      {
                        "bin_start": 0.6000000000000001,
                        "bin_end": 0.7000000000000001,
                        "count": 0
                      },
                      {
                        "bin_start": 0.7000000000000001,
                        "bin_end": 0.8,
                        "count": 0
                      },
                      {
                        "bin_start": 0.8,
                        "bin_end": 0.9,
                        "count": 0
                      },
                      {
                        "bin_start": 0.9,
                        "bin_end": 1,
                        "count": 93
                      }
                    ]
                  }
                },
                {
                  "name": "Pclass_3",
                  "dtype": "uint8",
                  "stats": {
                    "unique_count": 2,
                    "nan_count": 0,
                    "min": "0",
                    "max": "1",
                    "histogram": [
                      {
                        "bin_start": 0,
                        "bin_end": 0.1,
                        "count": 200
                      },
                      {
                        "bin_start": 0.1,
                        "bin_end": 0.2,
                        "count": 0
                      },
                      {
                        "bin_start": 0.2,
                        "bin_end": 0.30000000000000004,
                        "count": 0
                      },
                      {
                        "bin_start": 0.30000000000000004,
                        "bin_end": 0.4,
                        "count": 0
                      },
                      {
                        "bin_start": 0.4,
                        "bin_end": 0.5,
                        "count": 0
                      },
                      {
                        "bin_start": 0.5,
                        "bin_end": 0.6000000000000001,
                        "count": 0
                      },
                      {
                        "bin_start": 0.6000000000000001,
                        "bin_end": 0.7000000000000001,
                        "count": 0
                      },
                      {
                        "bin_start": 0.7000000000000001,
                        "bin_end": 0.8,
                        "count": 0
                      },
                      {
                        "bin_start": 0.8,
                        "bin_end": 0.9,
                        "count": 0
                      },
                      {
                        "bin_start": 0.9,
                        "bin_end": 1,
                        "count": 218
                      }
                    ]
                  }
                },
                {
                  "name": "Survived",
                  "dtype": "int64",
                  "stats": {
                    "unique_count": 2,
                    "nan_count": 0,
                    "min": "0",
                    "max": "1",
                    "histogram": [
                      {
                        "bin_start": 0,
                        "bin_end": 0.1,
                        "count": 282
                      },
                      {
                        "bin_start": 0.1,
                        "bin_end": 0.2,
                        "count": 0
                      },
                      {
                        "bin_start": 0.2,
                        "bin_end": 0.30000000000000004,
                        "count": 0
                      },
                      {
                        "bin_start": 0.30000000000000004,
                        "bin_end": 0.4,
                        "count": 0
                      },
                      {
                        "bin_start": 0.4,
                        "bin_end": 0.5,
                        "count": 0
                      },
                      {
                        "bin_start": 0.5,
                        "bin_end": 0.6000000000000001,
                        "count": 0
                      },
                      {
                        "bin_start": 0.6000000000000001,
                        "bin_end": 0.7000000000000001,
                        "count": 0
                      },
                      {
                        "bin_start": 0.7000000000000001,
                        "bin_end": 0.8,
                        "count": 0
                      },
                      {
                        "bin_start": 0.8,
                        "bin_end": 0.9,
                        "count": 0
                      },
                      {
                        "bin_start": 0.9,
                        "bin_end": 1,
                        "count": 136
                      }
                    ]
                  }
                },
                {
                  "name": "_deepnote_index_column",
                  "dtype": "int64"
                }
              ],
              "rows_top": [
                {
                  "PassengerId": 892,
                  "Name": "Kelly, Mr. James",
                  "Sex": 0,
                  "Age": 34.5,
                  "SibSp": 0,
                  "Parch": 0,
                  "Fare": 7.8292,
                  "Cabin": 0,
                  "Age_mean_norm": 0.3916517286835613,
                  "Fare_mean_norm": -0.4978105183601161,
                  "SibSp encoding": 1,
                  "Embarked_C": 0,
                  "Embarked_Q": 1,
                  "Embarked_S": 0,
                  "Pclass_1": 0,
                  "Pclass_2": 0,
                  "Pclass_3": 1,
                  "Survived": 0,
                  "_deepnote_index_column": 0
                },
                {
                  "PassengerId": 893,
                  "Name": "Wilkes, Mrs. James (Ellen Needs)",
                  "Sex": 1,
                  "Age": 47,
                  "SibSp": 1,
                  "Parch": 0,
                  "Fare": 7,
                  "Cabin": 0,
                  "Age_mean_norm": 1.3559320282022413,
                  "Fare_mean_norm": -0.5126599554690081,
                  "SibSp encoding": 1,
                  "Embarked_C": 0,
                  "Embarked_Q": 0,
                  "Embarked_S": 1,
                  "Pclass_1": 0,
                  "Pclass_2": 0,
                  "Pclass_3": 1,
                  "Survived": 0,
                  "_deepnote_index_column": 1
                },
                {
                  "PassengerId": 894,
                  "Name": "Myles, Mr. Thomas Francis",
                  "Sex": 0,
                  "Age": 62,
                  "SibSp": 0,
                  "Parch": 0,
                  "Fare": 9.6875,
                  "Cabin": 0,
                  "Age_mean_norm": 2.5130683876246573,
                  "Fare_mean_norm": -0.46453180516733505,
                  "SibSp encoding": 1,
                  "Embarked_C": 0,
                  "Embarked_Q": 1,
                  "Embarked_S": 0,
                  "Pclass_1": 0,
                  "Pclass_2": 1,
                  "Pclass_3": 0,
                  "Survived": 0,
                  "_deepnote_index_column": 2
                },
                {
                  "PassengerId": 895,
                  "Name": "Wirz, Mr. Albert",
                  "Sex": 0,
                  "Age": 27,
                  "SibSp": 0,
                  "Parch": 0,
                  "Fare": 8.6625,
                  "Cabin": 0,
                  "Age_mean_norm": -0.1869164510276468,
                  "Fare_mean_norm": -0.4828876578405313,
                  "SibSp encoding": 1,
                  "Embarked_C": 0,
                  "Embarked_Q": 0,
                  "Embarked_S": 1,
                  "Pclass_1": 0,
                  "Pclass_2": 0,
                  "Pclass_3": 1,
                  "Survived": 0,
                  "_deepnote_index_column": 3
                },
                {
                  "PassengerId": 896,
                  "Name": "Hirvonen, Mrs. Alexander (Helga E Lindqvist)",
                  "Sex": 1,
                  "Age": 22,
                  "SibSp": 1,
                  "Parch": 1,
                  "Fare": 12.2875,
                  "Cabin": 0,
                  "Age_mean_norm": -0.5726285708351189,
                  "Fare_mean_norm": -0.4179706178987396,
                  "SibSp encoding": 1,
                  "Embarked_C": 0,
                  "Embarked_Q": 0,
                  "Embarked_S": 1,
                  "Pclass_1": 0,
                  "Pclass_2": 0,
                  "Pclass_3": 1,
                  "Survived": 0,
                  "_deepnote_index_column": 4
                },
                {
                  "PassengerId": 897,
                  "Name": "Svensson, Mr. Johan Cervin",
                  "Sex": 0,
                  "Age": 14,
                  "SibSp": 0,
                  "Parch": 0,
                  "Fare": 9.225,
                  "Cabin": 0,
                  "Age_mean_norm": -1.1897679625270743,
                  "Fare_mean_norm": -0.4728143240564602,
                  "SibSp encoding": 1,
                  "Embarked_C": 0,
                  "Embarked_Q": 0,
                  "Embarked_S": 1,
                  "Pclass_1": 0,
                  "Pclass_2": 0,
                  "Pclass_3": 1,
                  "Survived": 0,
                  "_deepnote_index_column": 5
                },
                {
                  "PassengerId": 898,
                  "Name": "Connolly, Miss. Kate",
                  "Sex": 1,
                  "Age": 30,
                  "SibSp": 0,
                  "Parch": 0,
                  "Fare": 7.6292,
                  "Cabin": 0,
                  "Age_mean_norm": 0.04451082085683642,
                  "Fare_mean_norm": -0.5013921481500081,
                  "SibSp encoding": 1,
                  "Embarked_C": 0,
                  "Embarked_Q": 1,
                  "Embarked_S": 0,
                  "Pclass_1": 0,
                  "Pclass_2": 0,
                  "Pclass_3": 1,
                  "Survived": 1,
                  "_deepnote_index_column": 6
                },
                {
                  "PassengerId": 899,
                  "Name": "Caldwell, Mr. Albert Francis",
                  "Sex": 0,
                  "Age": 26,
                  "SibSp": 1,
                  "Parch": 1,
                  "Fare": 29,
                  "Cabin": 0,
                  "Age_mean_norm": -0.2640588749891412,
                  "Fare_mean_norm": -0.11868067858089343,
                  "SibSp encoding": 1,
                  "Embarked_C": 0,
                  "Embarked_Q": 0,
                  "Embarked_S": 1,
                  "Pclass_1": 0,
                  "Pclass_2": 1,
                  "Pclass_3": 0,
                  "Survived": 0,
                  "_deepnote_index_column": 7
                },
                {
                  "PassengerId": 900,
                  "Name": "Abrahim, Mrs. Joseph (Sophie Halaut Easu)",
                  "Sex": 1,
                  "Age": 18,
                  "SibSp": 0,
                  "Parch": 0,
                  "Fare": 7.2292,
                  "Cabin": 0,
                  "Age_mean_norm": -0.8811982666810966,
                  "Fare_mean_norm": -0.508555407729792,
                  "SibSp encoding": 1,
                  "Embarked_C": 1,
                  "Embarked_Q": 0,
                  "Embarked_S": 0,
                  "Pclass_1": 0,
                  "Pclass_2": 0,
                  "Pclass_3": 1,
                  "Survived": 1,
                  "_deepnote_index_column": 8
                },
                {
                  "PassengerId": 901,
                  "Name": "Davies, Mr. John Samuel",
                  "Sex": 0,
                  "Age": 21,
                  "SibSp": 2,
                  "Parch": 0,
                  "Fare": 24.15,
                  "Cabin": 0,
                  "Age_mean_norm": -0.6497709947966133,
                  "Fare_mean_norm": -0.2055352009857733,
                  "SibSp encoding": 1,
                  "Embarked_C": 0,
                  "Embarked_Q": 0,
                  "Embarked_S": 1,
                  "Pclass_1": 0,
                  "Pclass_2": 0,
                  "Pclass_3": 1,
                  "Survived": 0,
                  "_deepnote_index_column": 9
                },
                {
                  "PassengerId": 902,
                  "Name": "Ilieff, Mr. Ylio",
                  "Sex": 0,
                  "Age": 24.525104166666665,
                  "SibSp": 0,
                  "Parch": 0,
                  "Fare": 7.8958,
                  "Cabin": 0,
                  "Age_mean_norm": -0.37783591466318295,
                  "Fare_mean_norm": -0.49661783564008205,
                  "SibSp encoding": 1,
                  "Embarked_C": 0,
                  "Embarked_Q": 0,
                  "Embarked_S": 1,
                  "Pclass_1": 0,
                  "Pclass_2": 0,
                  "Pclass_3": 1,
                  "Survived": 0,
                  "_deepnote_index_column": 10
                },
                {
                  "PassengerId": 903,
                  "Name": "Jones, Mr. Charles Cresson",
                  "Sex": 0,
                  "Age": 46,
                  "SibSp": 0,
                  "Parch": 0,
                  "Fare": 26,
                  "Cabin": 0,
                  "Age_mean_norm": 1.278789604240747,
                  "Fare_mean_norm": -0.1724051254292727,
                  "SibSp encoding": 1,
                  "Embarked_C": 0,
                  "Embarked_Q": 0,
                  "Embarked_S": 1,
                  "Pclass_1": 1,
                  "Pclass_2": 0,
                  "Pclass_3": 0,
                  "Survived": 0,
                  "_deepnote_index_column": 11
                },
                {
                  "PassengerId": 904,
                  "Name": "Snyder, Mrs. John Pillsbury (Nelle Stevenson)",
                  "Sex": 1,
                  "Age": 23,
                  "SibSp": 1,
                  "Parch": 0,
                  "Fare": 82.2667,
                  "Cabin": 1,
                  "Age_mean_norm": -0.49548614687362447,
                  "Fare_mean_norm": 0.8352273190652948,
                  "SibSp encoding": 1,
                  "Embarked_C": 0,
                  "Embarked_Q": 0,
                  "Embarked_S": 1,
                  "Pclass_1": 1,
                  "Pclass_2": 0,
                  "Pclass_3": 0,
                  "Survived": 1,
                  "_deepnote_index_column": 12
                },
                {
                  "PassengerId": 905,
                  "Name": "Howard, Mr. Benjamin",
                  "Sex": 0,
                  "Age": 63,
                  "SibSp": 1,
                  "Parch": 0,
                  "Fare": 26,
                  "Cabin": 0,
                  "Age_mean_norm": 2.590210811586152,
                  "Fare_mean_norm": -0.1724051254292727,
                  "SibSp encoding": 1,
                  "Embarked_C": 0,
                  "Embarked_Q": 0,
                  "Embarked_S": 1,
                  "Pclass_1": 0,
                  "Pclass_2": 1,
                  "Pclass_3": 0,
                  "Survived": 0,
                  "_deepnote_index_column": 13
                },
                {
                  "PassengerId": 906,
                  "Name": "Chaffee, Mrs. Herbert Fuller (Carrie Constance Toogood)",
                  "Sex": 1,
                  "Age": 47,
                  "SibSp": 1,
                  "Parch": 0,
                  "Fare": 61.175,
                  "Cabin": 1,
                  "Age_mean_norm": 1.3559320282022413,
                  "Fare_mean_norm": 0.4575140138679743,
                  "SibSp encoding": 1,
                  "Embarked_C": 0,
                  "Embarked_Q": 0,
                  "Embarked_S": 1,
                  "Pclass_1": 1,
                  "Pclass_2": 0,
                  "Pclass_3": 0,
                  "Survived": 1,
                  "_deepnote_index_column": 14
                },
                {
                  "PassengerId": 907,
                  "Name": "del Carlo, Mrs. Sebastiano (Argenia Genovesi)",
                  "Sex": 1,
                  "Age": 24,
                  "SibSp": 1,
                  "Parch": 0,
                  "Fare": 27.7208,
                  "Cabin": 0,
                  "Age_mean_norm": -0.41834372291213007,
                  "Fare_mean_norm": -0.14158878271704234,
                  "SibSp encoding": 1,
                  "Embarked_C": 1,
                  "Embarked_Q": 0,
                  "Embarked_S": 0,
                  "Pclass_1": 0,
                  "Pclass_2": 1,
                  "Pclass_3": 0,
                  "Survived": 1,
                  "_deepnote_index_column": 15
                },
                {
                  "PassengerId": 908,
                  "Name": "Keane, Mr. Daniel",
                  "Sex": 0,
                  "Age": 35,
                  "SibSp": 0,
                  "Parch": 0,
                  "Fare": 12.35,
                  "Cabin": 0,
                  "Age_mean_norm": 0.4302229406643085,
                  "Fare_mean_norm": -0.4168513585893984,
                  "SibSp encoding": 1,
                  "Embarked_C": 0,
                  "Embarked_Q": 1,
                  "Embarked_S": 0,
                  "Pclass_1": 0,
                  "Pclass_2": 1,
                  "Pclass_3": 0,
                  "Survived": 0,
                  "_deepnote_index_column": 16
                },
                {
                  "PassengerId": 909,
                  "Name": "Assaf, Mr. Gerios",
                  "Sex": 0,
                  "Age": 21,
                  "SibSp": 0,
                  "Parch": 0,
                  "Fare": 7.225,
                  "Cabin": 0,
                  "Age_mean_norm": -0.6497709947966133,
                  "Fare_mean_norm": -0.5086306219553797,
                  "SibSp encoding": 1,
                  "Embarked_C": 1,
                  "Embarked_Q": 0,
                  "Embarked_S": 0,
                  "Pclass_1": 0,
                  "Pclass_2": 0,
                  "Pclass_3": 1,
                  "Survived": 0,
                  "_deepnote_index_column": 17
                },
                {
                  "PassengerId": 910,
                  "Name": "Ilmakangas, Miss. Ida Livija",
                  "Sex": 1,
                  "Age": 27,
                  "SibSp": 1,
                  "Parch": 0,
                  "Fare": 7.925,
                  "Cabin": 0,
                  "Age_mean_norm": -0.1869164510276468,
                  "Fare_mean_norm": -0.49609491769075786,
                  "SibSp encoding": 1,
                  "Embarked_C": 0,
                  "Embarked_Q": 0,
                  "Embarked_S": 1,
                  "Pclass_1": 0,
                  "Pclass_2": 0,
                  "Pclass_3": 1,
                  "Survived": 0,
                  "_deepnote_index_column": 18
                },
                {
                  "PassengerId": 911,
                  "Name": "Assaf Khalil, Mrs. Mariana (Miriam\")\"",
                  "Sex": 1,
                  "Age": 45,
                  "SibSp": 0,
                  "Parch": 0,
                  "Fare": 7.225,
                  "Cabin": 0,
                  "Age_mean_norm": 1.2016471802792525,
                  "Fare_mean_norm": -0.5086306219553797,
                  "SibSp encoding": 1,
                  "Embarked_C": 1,
                  "Embarked_Q": 0,
                  "Embarked_S": 0,
                  "Pclass_1": 0,
                  "Pclass_2": 0,
                  "Pclass_3": 1,
                  "Survived": 0,
                  "_deepnote_index_column": 19
                },
                {
                  "PassengerId": 912,
                  "Name": "Rothschild, Mr. Martin",
                  "Sex": 0,
                  "Age": 55,
                  "SibSp": 1,
                  "Parch": 0,
                  "Fare": 59.4,
                  "Cabin": 0,
                  "Age_mean_norm": 1.9730714198941968,
                  "Fare_mean_norm": 0.42572704948268325,
                  "SibSp encoding": 1,
                  "Embarked_C": 1,
                  "Embarked_Q": 0,
                  "Embarked_S": 0,
                  "Pclass_1": 1,
                  "Pclass_2": 0,
                  "Pclass_3": 0,
                  "Survived": 0,
                  "_deepnote_index_column": 20
                },
                {
                  "PassengerId": 913,
                  "Name": "Olsen, Master. Artur Karl",
                  "Sex": 0,
                  "Age": 9,
                  "SibSp": 0,
                  "Parch": 1,
                  "Fare": 3.1708,
                  "Cabin": 0,
                  "Age_mean_norm": -1.5754800823345463,
                  "Fare_mean_norm": -0.5812338394262795,
                  "SibSp encoding": 1,
                  "Embarked_C": 0,
                  "Embarked_Q": 0,
                  "Embarked_S": 1,
                  "Pclass_1": 0,
                  "Pclass_2": 0,
                  "Pclass_3": 1,
                  "Survived": 1,
                  "_deepnote_index_column": 21
                },
                {
                  "PassengerId": 914,
                  "Name": "Flegenheim, Mrs. Alfred (Antoinette)",
                  "Sex": 1,
                  "Age": 41.333333333333336,
                  "SibSp": 0,
                  "Parch": 0,
                  "Fare": 31.6833,
                  "Cabin": 0,
                  "Age_mean_norm": 0.9187916257537733,
                  "Fare_mean_norm": -0.07062774250480806,
                  "SibSp encoding": 1,
                  "Embarked_C": 0,
                  "Embarked_Q": 0,
                  "Embarked_S": 1,
                  "Pclass_1": 1,
                  "Pclass_2": 0,
                  "Pclass_3": 0,
                  "Survived": 1,
                  "_deepnote_index_column": 22
                },
                {
                  "PassengerId": 915,
                  "Name": "Williams, Mr. Richard Norris II",
                  "Sex": 0,
                  "Age": 21,
                  "SibSp": 0,
                  "Parch": 1,
                  "Fare": 61.3792,
                  "Cabin": 0,
                  "Age_mean_norm": -0.6497709947966133,
                  "Fare_mean_norm": 0.46117085788345397,
                  "SibSp encoding": 1,
                  "Embarked_C": 1,
                  "Embarked_Q": 0,
                  "Embarked_S": 0,
                  "Pclass_1": 1,
                  "Pclass_2": 0,
                  "Pclass_3": 0,
                  "Survived": 1,
                  "_deepnote_index_column": 23
                },
                {
                  "PassengerId": 916,
                  "Name": "Ryerson, Mrs. Arthur Larned (Emily Maria Borie)",
                  "Sex": 1,
                  "Age": 48,
                  "SibSp": 1,
                  "Parch": 3,
                  "Fare": 262.375,
                  "Cabin": 1,
                  "Age_mean_norm": 1.4330744521637357,
                  "Fare_mean_norm": 4.060633582499278,
                  "SibSp encoding": 1,
                  "Embarked_C": 1,
                  "Embarked_Q": 0,
                  "Embarked_S": 0,
                  "Pclass_1": 1,
                  "Pclass_2": 0,
                  "Pclass_3": 0,
                  "Survived": 1,
                  "_deepnote_index_column": 24
                },
                {
                  "PassengerId": 917,
                  "Name": "Robins, Mr. Alexander A",
                  "Sex": 0,
                  "Age": 50,
                  "SibSp": 1,
                  "Parch": 0,
                  "Fare": 14.5,
                  "Cabin": 0,
                  "Age_mean_norm": 1.5873593000867248,
                  "Fare_mean_norm": -0.37834883834805993,
                  "SibSp encoding": 1,
                  "Embarked_C": 0,
                  "Embarked_Q": 0,
                  "Embarked_S": 1,
                  "Pclass_1": 0,
                  "Pclass_2": 0,
                  "Pclass_3": 1,
                  "Survived": 0,
                  "_deepnote_index_column": 25
                },
                {
                  "PassengerId": 918,
                  "Name": "Ostby, Miss. Helene Ragnhild",
                  "Sex": 1,
                  "Age": 22,
                  "SibSp": 0,
                  "Parch": 1,
                  "Fare": 61.9792,
                  "Cabin": 1,
                  "Age_mean_norm": -0.5726285708351189,
                  "Fare_mean_norm": 0.47191574725312985,
                  "SibSp encoding": 1,
                  "Embarked_C": 1,
                  "Embarked_Q": 0,
                  "Embarked_S": 0,
                  "Pclass_1": 1,
                  "Pclass_2": 0,
                  "Pclass_3": 0,
                  "Survived": 1,
                  "_deepnote_index_column": 26
                }
              ],
              "rows_bottom": [
                {
                  "PassengerId": 1282,
                  "Name": "Payne, Mr. Vivian Ponsonby",
                  "Sex": 0,
                  "Age": 23,
                  "SibSp": 0,
                  "Parch": 0,
                  "Fare": 93.5,
                  "Cabin": 1,
                  "Age_mean_norm": -0.49548614687362447,
                  "Fare_mean_norm": 1.036394928659261,
                  "SibSp encoding": 1,
                  "Embarked_C": 0,
                  "Embarked_Q": 0,
                  "Embarked_S": 1,
                  "Pclass_1": 1,
                  "Pclass_2": 0,
                  "Pclass_3": 0,
                  "Survived": 0,
                  "_deepnote_index_column": 390
                },
                {
                  "PassengerId": 1283,
                  "Name": "Lines, Mrs. Ernest H (Elizabeth Lindsey James)",
                  "Sex": 1,
                  "Age": 51,
                  "SibSp": 0,
                  "Parch": 1,
                  "Fare": 39.4,
                  "Cabin": 1,
                  "Age_mean_norm": 1.6645017240482192,
                  "Fare_mean_norm": 0.06756407049348805,
                  "SibSp encoding": 1,
                  "Embarked_C": 0,
                  "Embarked_Q": 0,
                  "Embarked_S": 1,
                  "Pclass_1": 1,
                  "Pclass_2": 0,
                  "Pclass_3": 0,
                  "Survived": 1,
                  "_deepnote_index_column": 391
                },
                {
                  "PassengerId": 1284,
                  "Name": "Abbott, Master. Eugene Joseph",
                  "Sex": 0,
                  "Age": 13,
                  "SibSp": 0,
                  "Parch": 2,
                  "Fare": 20.25,
                  "Cabin": 0,
                  "Age_mean_norm": -1.2669103864885687,
                  "Fare_mean_norm": -0.27537698188866633,
                  "SibSp encoding": 1,
                  "Embarked_C": 0,
                  "Embarked_Q": 0,
                  "Embarked_S": 1,
                  "Pclass_1": 0,
                  "Pclass_2": 0,
                  "Pclass_3": 1,
                  "Survived": 1,
                  "_deepnote_index_column": 392
                },
                {
                  "PassengerId": 1285,
                  "Name": "Gilbert, Mr. William",
                  "Sex": 0,
                  "Age": 47,
                  "SibSp": 0,
                  "Parch": 0,
                  "Fare": 10.5,
                  "Cabin": 0,
                  "Age_mean_norm": 1.3559320282022413,
                  "Fare_mean_norm": -0.449981434145899,
                  "SibSp encoding": 1,
                  "Embarked_C": 0,
                  "Embarked_Q": 0,
                  "Embarked_S": 1,
                  "Pclass_1": 0,
                  "Pclass_2": 1,
                  "Pclass_3": 0,
                  "Survived": 0,
                  "_deepnote_index_column": 393
                },
                {
                  "PassengerId": 1286,
                  "Name": "Kink-Heilmann, Mr. Anton",
                  "Sex": 0,
                  "Age": 29,
                  "SibSp": 3,
                  "Parch": 1,
                  "Fare": 22.025,
                  "Cabin": 0,
                  "Age_mean_norm": -0.03263160310465799,
                  "Fare_mean_norm": -0.24359001750337528,
                  "SibSp encoding": 0,
                  "Embarked_C": 0,
                  "Embarked_Q": 0,
                  "Embarked_S": 1,
                  "Pclass_1": 0,
                  "Pclass_2": 0,
                  "Pclass_3": 1,
                  "Survived": 0,
                  "_deepnote_index_column": 394
                },
                {
                  "PassengerId": 1287,
                  "Name": "Smith, Mrs. Lucien Philip (Mary Eloise Hughes)",
                  "Sex": 1,
                  "Age": 18,
                  "SibSp": 1,
                  "Parch": 0,
                  "Fare": 60,
                  "Cabin": 1,
                  "Age_mean_norm": -0.8811982666810966,
                  "Fare_mean_norm": 0.43647193885235913,
                  "SibSp encoding": 1,
                  "Embarked_C": 0,
                  "Embarked_Q": 0,
                  "Embarked_S": 1,
                  "Pclass_1": 1,
                  "Pclass_2": 0,
                  "Pclass_3": 0,
                  "Survived": 1,
                  "_deepnote_index_column": 395
                },
                {
                  "PassengerId": 1288,
                  "Name": "Colbert, Mr. Patrick",
                  "Sex": 0,
                  "Age": 24,
                  "SibSp": 0,
                  "Parch": 0,
                  "Fare": 7.25,
                  "Cabin": 0,
                  "Age_mean_norm": -0.41834372291213007,
                  "Fare_mean_norm": -0.5081829182316432,
                  "SibSp encoding": 1,
                  "Embarked_C": 0,
                  "Embarked_Q": 1,
                  "Embarked_S": 0,
                  "Pclass_1": 0,
                  "Pclass_2": 0,
                  "Pclass_3": 1,
                  "Survived": 0,
                  "_deepnote_index_column": 396
                },
                {
                  "PassengerId": 1289,
                  "Name": "Frolicher-Stehli, Mrs. Maxmillian (Margaretha Emerentia Stehli)",
                  "Sex": 1,
                  "Age": 48,
                  "SibSp": 1,
                  "Parch": 1,
                  "Fare": 79.2,
                  "Cabin": 1,
                  "Age_mean_norm": 1.4330744521637357,
                  "Fare_mean_norm": 0.7803083986819865,
                  "SibSp encoding": 1,
                  "Embarked_C": 1,
                  "Embarked_Q": 0,
                  "Embarked_S": 0,
                  "Pclass_1": 1,
                  "Pclass_2": 0,
                  "Pclass_3": 0,
                  "Survived": 1,
                  "_deepnote_index_column": 397
                },
                {
                  "PassengerId": 1290,
                  "Name": "Larsson-Rondberg, Mr. Edvard A",
                  "Sex": 0,
                  "Age": 22,
                  "SibSp": 0,
                  "Parch": 0,
                  "Fare": 7.775,
                  "Cabin": 0,
                  "Age_mean_norm": -0.5726285708351189,
                  "Fare_mean_norm": -0.49878114003317686,
                  "SibSp encoding": 1,
                  "Embarked_C": 0,
                  "Embarked_Q": 0,
                  "Embarked_S": 1,
                  "Pclass_1": 0,
                  "Pclass_2": 0,
                  "Pclass_3": 1,
                  "Survived": 0,
                  "_deepnote_index_column": 398
                },
                {
                  "PassengerId": 1291,
                  "Name": "Conlon, Mr. Thomas Henry",
                  "Sex": 0,
                  "Age": 31,
                  "SibSp": 0,
                  "Parch": 0,
                  "Fare": 7.7333,
                  "Cabin": 0,
                  "Age_mean_norm": 0.12165324481833083,
                  "Fare_mean_norm": -0.4995279098443693,
                  "SibSp encoding": 1,
                  "Embarked_C": 0,
                  "Embarked_Q": 1,
                  "Embarked_S": 0,
                  "Pclass_1": 0,
                  "Pclass_2": 0,
                  "Pclass_3": 1,
                  "Survived": 0,
                  "_deepnote_index_column": 399
                },
                {
                  "PassengerId": 1292,
                  "Name": "Bonnell, Miss. Caroline",
                  "Sex": 1,
                  "Age": 30,
                  "SibSp": 0,
                  "Parch": 0,
                  "Fare": 164.8667,
                  "Cabin": 1,
                  "Age_mean_norm": 0.04451082085683642,
                  "Fare_mean_norm": 2.314440422290671,
                  "SibSp encoding": 1,
                  "Embarked_C": 0,
                  "Embarked_Q": 0,
                  "Embarked_S": 1,
                  "Pclass_1": 1,
                  "Pclass_2": 0,
                  "Pclass_3": 0,
                  "Survived": 1,
                  "_deepnote_index_column": 400
                },
                {
                  "PassengerId": 1293,
                  "Name": "Gale, Mr. Harry",
                  "Sex": 0,
                  "Age": 38,
                  "SibSp": 1,
                  "Parch": 0,
                  "Fare": 21,
                  "Cabin": 0,
                  "Age_mean_norm": 0.6616502125487917,
                  "Fare_mean_norm": -0.2619458701765715,
                  "SibSp encoding": 1,
                  "Embarked_C": 0,
                  "Embarked_Q": 0,
                  "Embarked_S": 1,
                  "Pclass_1": 0,
                  "Pclass_2": 1,
                  "Pclass_3": 0,
                  "Survived": 0,
                  "_deepnote_index_column": 401
                },
                {
                  "PassengerId": 1294,
                  "Name": "Gibson, Miss. Dorothy Winifred",
                  "Sex": 1,
                  "Age": 22,
                  "SibSp": 0,
                  "Parch": 1,
                  "Fare": 59.4,
                  "Cabin": 0,
                  "Age_mean_norm": -0.5726285708351189,
                  "Fare_mean_norm": 0.42572704948268325,
                  "SibSp encoding": 1,
                  "Embarked_C": 1,
                  "Embarked_Q": 0,
                  "Embarked_S": 0,
                  "Pclass_1": 1,
                  "Pclass_2": 0,
                  "Pclass_3": 0,
                  "Survived": 1,
                  "_deepnote_index_column": 402
                },
                {
                  "PassengerId": 1295,
                  "Name": "Carrau, Mr. Jose Pedro",
                  "Sex": 0,
                  "Age": 17,
                  "SibSp": 0,
                  "Parch": 0,
                  "Fare": 47.1,
                  "Cabin": 0,
                  "Age_mean_norm": -0.958340690642591,
                  "Fare_mean_norm": 0.20545681740432825,
                  "SibSp encoding": 1,
                  "Embarked_C": 0,
                  "Embarked_Q": 0,
                  "Embarked_S": 1,
                  "Pclass_1": 1,
                  "Pclass_2": 0,
                  "Pclass_3": 0,
                  "Survived": 0,
                  "_deepnote_index_column": 403
                },
                {
                  "PassengerId": 1296,
                  "Name": "Frauenthal, Mr. Isaac Gerald",
                  "Sex": 0,
                  "Age": 43,
                  "SibSp": 1,
                  "Parch": 0,
                  "Fare": 27.7208,
                  "Cabin": 1,
                  "Age_mean_norm": 1.0473623323562637,
                  "Fare_mean_norm": -0.14158878271704234,
                  "SibSp encoding": 1,
                  "Embarked_C": 1,
                  "Embarked_Q": 0,
                  "Embarked_S": 0,
                  "Pclass_1": 1,
                  "Pclass_2": 0,
                  "Pclass_3": 0,
                  "Survived": 0,
                  "_deepnote_index_column": 404
                },
                {
                  "PassengerId": 1297,
                  "Name": "Nourney, Mr. Alfred (Baron von Drachstedt\")\"",
                  "Sex": 0,
                  "Age": 20,
                  "SibSp": 0,
                  "Parch": 0,
                  "Fare": 13.8625,
                  "Cabin": 1,
                  "Age_mean_norm": -0.7269134187581077,
                  "Fare_mean_norm": -0.38976528330334054,
                  "SibSp encoding": 1,
                  "Embarked_C": 1,
                  "Embarked_Q": 0,
                  "Embarked_S": 0,
                  "Pclass_1": 0,
                  "Pclass_2": 1,
                  "Pclass_3": 0,
                  "Survived": 0,
                  "_deepnote_index_column": 405
                },
                {
                  "PassengerId": 1298,
                  "Name": "Ware, Mr. William Jeffery",
                  "Sex": 0,
                  "Age": 23,
                  "SibSp": 1,
                  "Parch": 0,
                  "Fare": 10.5,
                  "Cabin": 0,
                  "Age_mean_norm": -0.49548614687362447,
                  "Fare_mean_norm": -0.449981434145899,
                  "SibSp encoding": 1,
                  "Embarked_C": 0,
                  "Embarked_Q": 0,
                  "Embarked_S": 1,
                  "Pclass_1": 0,
                  "Pclass_2": 1,
                  "Pclass_3": 0,
                  "Survived": 0,
                  "_deepnote_index_column": 406
                },
                {
                  "PassengerId": 1299,
                  "Name": "Widener, Mr. George Dunton",
                  "Sex": 0,
                  "Age": 50,
                  "SibSp": 1,
                  "Parch": 1,
                  "Fare": 211.5,
                  "Cabin": 1,
                  "Age_mean_norm": 1.5873593000867248,
                  "Fare_mean_norm": 3.149556504695513,
                  "SibSp encoding": 1,
                  "Embarked_C": 1,
                  "Embarked_Q": 0,
                  "Embarked_S": 0,
                  "Pclass_1": 1,
                  "Pclass_2": 0,
                  "Pclass_3": 0,
                  "Survived": 0,
                  "_deepnote_index_column": 407
                },
                {
                  "PassengerId": 1300,
                  "Name": "Riordan, Miss. Johanna Hannah\"\"",
                  "Sex": 1,
                  "Age": 23.073400000000003,
                  "SibSp": 0,
                  "Parch": 0,
                  "Fare": 7.7208,
                  "Cabin": 0,
                  "Age_mean_norm": -0.48982389295485057,
                  "Fare_mean_norm": -0.49975176170623753,
                  "SibSp encoding": 1,
                  "Embarked_C": 0,
                  "Embarked_Q": 1,
                  "Embarked_S": 0,
                  "Pclass_1": 0,
                  "Pclass_2": 0,
                  "Pclass_3": 1,
                  "Survived": 1,
                  "_deepnote_index_column": 408
                },
                {
                  "PassengerId": 1301,
                  "Name": "Peacock, Miss. Treasteall",
                  "Sex": 1,
                  "Age": 3,
                  "SibSp": 1,
                  "Parch": 1,
                  "Fare": 13.775,
                  "Cabin": 0,
                  "Age_mean_norm": -2.038334626103513,
                  "Fare_mean_norm": -0.3913322463364183,
                  "SibSp encoding": 1,
                  "Embarked_C": 0,
                  "Embarked_Q": 0,
                  "Embarked_S": 1,
                  "Pclass_1": 0,
                  "Pclass_2": 0,
                  "Pclass_3": 1,
                  "Survived": 1,
                  "_deepnote_index_column": 409
                },
                {
                  "PassengerId": 1302,
                  "Name": "Naughton, Miss. Hannah",
                  "Sex": 1,
                  "Age": 23.073400000000003,
                  "SibSp": 0,
                  "Parch": 0,
                  "Fare": 7.75,
                  "Cabin": 0,
                  "Age_mean_norm": -0.48982389295485057,
                  "Fare_mean_norm": -0.49922884375691334,
                  "SibSp encoding": 1,
                  "Embarked_C": 0,
                  "Embarked_Q": 1,
                  "Embarked_S": 0,
                  "Pclass_1": 0,
                  "Pclass_2": 0,
                  "Pclass_3": 1,
                  "Survived": 1,
                  "_deepnote_index_column": 410
                },
                {
                  "PassengerId": 1303,
                  "Name": "Minahan, Mrs. William Edward (Lillian E Thorpe)",
                  "Sex": 1,
                  "Age": 37,
                  "SibSp": 1,
                  "Parch": 0,
                  "Fare": 90,
                  "Cabin": 1,
                  "Age_mean_norm": 0.5845077885872973,
                  "Fare_mean_norm": 0.973716407336152,
                  "SibSp encoding": 1,
                  "Embarked_C": 0,
                  "Embarked_Q": 1,
                  "Embarked_S": 0,
                  "Pclass_1": 1,
                  "Pclass_2": 0,
                  "Pclass_3": 0,
                  "Survived": 1,
                  "_deepnote_index_column": 411
                },
                {
                  "PassengerId": 1304,
                  "Name": "Henriksson, Miss. Jenny Lovisa",
                  "Sex": 1,
                  "Age": 28,
                  "SibSp": 0,
                  "Parch": 0,
                  "Fare": 7.775,
                  "Cabin": 0,
                  "Age_mean_norm": -0.10977402706615241,
                  "Fare_mean_norm": -0.49878114003317686,
                  "SibSp encoding": 1,
                  "Embarked_C": 0,
                  "Embarked_Q": 0,
                  "Embarked_S": 1,
                  "Pclass_1": 0,
                  "Pclass_2": 0,
                  "Pclass_3": 1,
                  "Survived": 0,
                  "_deepnote_index_column": 412
                },
                {
                  "PassengerId": 1305,
                  "Name": "Spector, Mr. Woolf",
                  "Sex": 0,
                  "Age": 24.525104166666665,
                  "SibSp": 0,
                  "Parch": 0,
                  "Fare": 8.05,
                  "Cabin": 0,
                  "Age_mean_norm": -0.37783591466318295,
                  "Fare_mean_norm": -0.4938563990720754,
                  "SibSp encoding": 1,
                  "Embarked_C": 0,
                  "Embarked_Q": 0,
                  "Embarked_S": 1,
                  "Pclass_1": 0,
                  "Pclass_2": 0,
                  "Pclass_3": 1,
                  "Survived": 0,
                  "_deepnote_index_column": 413
                },
                {
                  "PassengerId": 1306,
                  "Name": "Oliva y Ocana, Dona. Fermina",
                  "Sex": 1,
                  "Age": 39,
                  "SibSp": 0,
                  "Parch": 0,
                  "Fare": 108.9,
                  "Cabin": 1,
                  "Age_mean_norm": 0.7387926365102861,
                  "Fare_mean_norm": 1.3121804224809415,
                  "SibSp encoding": 1,
                  "Embarked_C": 1,
                  "Embarked_Q": 0,
                  "Embarked_S": 0,
                  "Pclass_1": 1,
                  "Pclass_2": 0,
                  "Pclass_3": 0,
                  "Survived": 1,
                  "_deepnote_index_column": 414
                },
                {
                  "PassengerId": 1307,
                  "Name": "Saether, Mr. Simon Sivertsen",
                  "Sex": 0,
                  "Age": 38.5,
                  "SibSp": 0,
                  "Parch": 0,
                  "Fare": 7.25,
                  "Cabin": 0,
                  "Age_mean_norm": 0.700221424529539,
                  "Fare_mean_norm": -0.5081829182316432,
                  "SibSp encoding": 1,
                  "Embarked_C": 0,
                  "Embarked_Q": 0,
                  "Embarked_S": 1,
                  "Pclass_1": 0,
                  "Pclass_2": 0,
                  "Pclass_3": 1,
                  "Survived": 0,
                  "_deepnote_index_column": 415
                },
                {
                  "PassengerId": 1308,
                  "Name": "Ware, Mr. Frederick",
                  "Sex": 0,
                  "Age": 24.525104166666665,
                  "SibSp": 0,
                  "Parch": 0,
                  "Fare": 8.05,
                  "Cabin": 0,
                  "Age_mean_norm": -0.37783591466318295,
                  "Fare_mean_norm": -0.4938563990720754,
                  "SibSp encoding": 1,
                  "Embarked_C": 0,
                  "Embarked_Q": 0,
                  "Embarked_S": 1,
                  "Pclass_1": 0,
                  "Pclass_2": 0,
                  "Pclass_3": 1,
                  "Survived": 0,
                  "_deepnote_index_column": 416
                },
                {
                  "PassengerId": 1309,
                  "Name": "Peter, Master. Michael J",
                  "Sex": 0,
                  "Age": 24.525104166666665,
                  "SibSp": 1,
                  "Parch": 1,
                  "Fare": 22.3583,
                  "Cabin": 0,
                  "Age_mean_norm": -0.37783591466318295,
                  "Fare_mean_norm": -0.23762123145852032,
                  "SibSp encoding": 1,
                  "Embarked_C": 1,
                  "Embarked_Q": 0,
                  "Embarked_S": 0,
                  "Pclass_1": 0,
                  "Pclass_2": 0,
                  "Pclass_3": 1,
                  "Survived": 0,
                  "_deepnote_index_column": 417
                }
              ]
            },
            "text/plain": "     PassengerId                                          Name Sex        Age  \\\n0            892                              Kelly, Mr. James   0  34.500000   \n1            893              Wilkes, Mrs. James (Ellen Needs)   1  47.000000   \n2            894                     Myles, Mr. Thomas Francis   0  62.000000   \n3            895                              Wirz, Mr. Albert   0  27.000000   \n4            896  Hirvonen, Mrs. Alexander (Helga E Lindqvist)   1  22.000000   \n..           ...                                           ...  ..        ...   \n413         1305                            Spector, Mr. Woolf   0  24.525104   \n414         1306                  Oliva y Ocana, Dona. Fermina   1  39.000000   \n415         1307                  Saether, Mr. Simon Sivertsen   0  38.500000   \n416         1308                           Ware, Mr. Frederick   0  24.525104   \n417         1309                      Peter, Master. Michael J   0  24.525104   \n\n     SibSp  Parch      Fare Cabin  Age_mean_norm  Fare_mean_norm  \\\n0        0      0    7.8292     0       0.391652       -0.497811   \n1        1      0    7.0000     0       1.355932       -0.512660   \n2        0      0    9.6875     0       2.513068       -0.464532   \n3        0      0    8.6625     0      -0.186916       -0.482888   \n4        1      1   12.2875     0      -0.572629       -0.417971   \n..     ...    ...       ...   ...            ...             ...   \n413      0      0    8.0500     0      -0.377836       -0.493856   \n414      0      0  108.9000     1       0.738793        1.312180   \n415      0      0    7.2500     0       0.700221       -0.508183   \n416      0      0    8.0500     0      -0.377836       -0.493856   \n417      1      1   22.3583     0      -0.377836       -0.237621   \n\n     SibSp encoding  Embarked_C  Embarked_Q  Embarked_S  Pclass_1  Pclass_2  \\\n0                 1           0           1           0         0         0   \n1                 1           0           0           1         0         0   \n2                 1           0           1           0         0         1   \n3                 1           0           0           1         0         0   \n4                 1           0           0           1         0         0   \n..              ...         ...         ...         ...       ...       ...   \n413               1           0           0           1         0         0   \n414               1           1           0           0         1         0   \n415               1           0           0           1         0         0   \n416               1           0           0           1         0         0   \n417               1           1           0           0         0         0   \n\n     Pclass_3  Survived  \n0           1         0  \n1           1         0  \n2           0         0  \n3           1         0  \n4           1         0  \n..        ...       ...  \n413         1         0  \n414         0         1  \n415         1         0  \n416         1         0  \n417         1         0  \n\n[418 rows x 18 columns]",
            "text/html": "<div>\n<style scoped>\n    .dataframe tbody tr th:only-of-type {\n        vertical-align: middle;\n    }\n\n    .dataframe tbody tr th {\n        vertical-align: top;\n    }\n\n    .dataframe thead th {\n        text-align: right;\n    }\n</style>\n<table border=\"1\" class=\"dataframe\">\n  <thead>\n    <tr style=\"text-align: right;\">\n      <th></th>\n      <th>PassengerId</th>\n      <th>Name</th>\n      <th>Sex</th>\n      <th>Age</th>\n      <th>SibSp</th>\n      <th>Parch</th>\n      <th>Fare</th>\n      <th>Cabin</th>\n      <th>Age_mean_norm</th>\n      <th>Fare_mean_norm</th>\n      <th>SibSp encoding</th>\n      <th>Embarked_C</th>\n      <th>Embarked_Q</th>\n      <th>Embarked_S</th>\n      <th>Pclass_1</th>\n      <th>Pclass_2</th>\n      <th>Pclass_3</th>\n      <th>Survived</th>\n    </tr>\n  </thead>\n  <tbody>\n    <tr>\n      <th>0</th>\n      <td>892</td>\n      <td>Kelly, Mr. James</td>\n      <td>0</td>\n      <td>34.500000</td>\n      <td>0</td>\n      <td>0</td>\n      <td>7.8292</td>\n      <td>0</td>\n      <td>0.391652</td>\n      <td>-0.497811</td>\n      <td>1</td>\n      <td>0</td>\n      <td>1</td>\n      <td>0</td>\n      <td>0</td>\n      <td>0</td>\n      <td>1</td>\n      <td>0</td>\n    </tr>\n    <tr>\n      <th>1</th>\n      <td>893</td>\n      <td>Wilkes, Mrs. James (Ellen Needs)</td>\n      <td>1</td>\n      <td>47.000000</td>\n      <td>1</td>\n      <td>0</td>\n      <td>7.0000</td>\n      <td>0</td>\n      <td>1.355932</td>\n      <td>-0.512660</td>\n      <td>1</td>\n      <td>0</td>\n      <td>0</td>\n      <td>1</td>\n      <td>0</td>\n      <td>0</td>\n      <td>1</td>\n      <td>0</td>\n    </tr>\n    <tr>\n      <th>2</th>\n      <td>894</td>\n      <td>Myles, Mr. Thomas Francis</td>\n      <td>0</td>\n      <td>62.000000</td>\n      <td>0</td>\n      <td>0</td>\n      <td>9.6875</td>\n      <td>0</td>\n      <td>2.513068</td>\n      <td>-0.464532</td>\n      <td>1</td>\n      <td>0</td>\n      <td>1</td>\n      <td>0</td>\n      <td>0</td>\n      <td>1</td>\n      <td>0</td>\n      <td>0</td>\n    </tr>\n    <tr>\n      <th>3</th>\n      <td>895</td>\n      <td>Wirz, Mr. Albert</td>\n      <td>0</td>\n      <td>27.000000</td>\n      <td>0</td>\n      <td>0</td>\n      <td>8.6625</td>\n      <td>0</td>\n      <td>-0.186916</td>\n      <td>-0.482888</td>\n      <td>1</td>\n      <td>0</td>\n      <td>0</td>\n      <td>1</td>\n      <td>0</td>\n      <td>0</td>\n      <td>1</td>\n      <td>0</td>\n    </tr>\n    <tr>\n      <th>4</th>\n      <td>896</td>\n      <td>Hirvonen, Mrs. Alexander (Helga E Lindqvist)</td>\n      <td>1</td>\n      <td>22.000000</td>\n      <td>1</td>\n      <td>1</td>\n      <td>12.2875</td>\n      <td>0</td>\n      <td>-0.572629</td>\n      <td>-0.417971</td>\n      <td>1</td>\n      <td>0</td>\n      <td>0</td>\n      <td>1</td>\n      <td>0</td>\n      <td>0</td>\n      <td>1</td>\n      <td>0</td>\n    </tr>\n    <tr>\n      <th>...</th>\n      <td>...</td>\n      <td>...</td>\n      <td>...</td>\n      <td>...</td>\n      <td>...</td>\n      <td>...</td>\n      <td>...</td>\n      <td>...</td>\n      <td>...</td>\n      <td>...</td>\n      <td>...</td>\n      <td>...</td>\n      <td>...</td>\n      <td>...</td>\n      <td>...</td>\n      <td>...</td>\n      <td>...</td>\n      <td>...</td>\n    </tr>\n    <tr>\n      <th>413</th>\n      <td>1305</td>\n      <td>Spector, Mr. Woolf</td>\n      <td>0</td>\n      <td>24.525104</td>\n      <td>0</td>\n      <td>0</td>\n      <td>8.0500</td>\n      <td>0</td>\n      <td>-0.377836</td>\n      <td>-0.493856</td>\n      <td>1</td>\n      <td>0</td>\n      <td>0</td>\n      <td>1</td>\n      <td>0</td>\n      <td>0</td>\n      <td>1</td>\n      <td>0</td>\n    </tr>\n    <tr>\n      <th>414</th>\n      <td>1306</td>\n      <td>Oliva y Ocana, Dona. Fermina</td>\n      <td>1</td>\n      <td>39.000000</td>\n      <td>0</td>\n      <td>0</td>\n      <td>108.9000</td>\n      <td>1</td>\n      <td>0.738793</td>\n      <td>1.312180</td>\n      <td>1</td>\n      <td>1</td>\n      <td>0</td>\n      <td>0</td>\n      <td>1</td>\n      <td>0</td>\n      <td>0</td>\n      <td>1</td>\n    </tr>\n    <tr>\n      <th>415</th>\n      <td>1307</td>\n      <td>Saether, Mr. Simon Sivertsen</td>\n      <td>0</td>\n      <td>38.500000</td>\n      <td>0</td>\n      <td>0</td>\n      <td>7.2500</td>\n      <td>0</td>\n      <td>0.700221</td>\n      <td>-0.508183</td>\n      <td>1</td>\n      <td>0</td>\n      <td>0</td>\n      <td>1</td>\n      <td>0</td>\n      <td>0</td>\n      <td>1</td>\n      <td>0</td>\n    </tr>\n    <tr>\n      <th>416</th>\n      <td>1308</td>\n      <td>Ware, Mr. Frederick</td>\n      <td>0</td>\n      <td>24.525104</td>\n      <td>0</td>\n      <td>0</td>\n      <td>8.0500</td>\n      <td>0</td>\n      <td>-0.377836</td>\n      <td>-0.493856</td>\n      <td>1</td>\n      <td>0</td>\n      <td>0</td>\n      <td>1</td>\n      <td>0</td>\n      <td>0</td>\n      <td>1</td>\n      <td>0</td>\n    </tr>\n    <tr>\n      <th>417</th>\n      <td>1309</td>\n      <td>Peter, Master. Michael J</td>\n      <td>0</td>\n      <td>24.525104</td>\n      <td>1</td>\n      <td>1</td>\n      <td>22.3583</td>\n      <td>0</td>\n      <td>-0.377836</td>\n      <td>-0.237621</td>\n      <td>1</td>\n      <td>1</td>\n      <td>0</td>\n      <td>0</td>\n      <td>0</td>\n      <td>0</td>\n      <td>1</td>\n      <td>0</td>\n    </tr>\n  </tbody>\n</table>\n<p>418 rows × 18 columns</p>\n</div>"
          },
          "metadata": {}
        }
      ],
      "execution_count": 31
    },
    {
      "cell_type": "code",
      "source": "test_df[[\"Survived\",\"PassengerId\"]].to_csv(\"./result.csv\", index=False)",
      "metadata": {
        "tags": [],
        "cell_id": "00050-329a7b38-0c90-487e-9331-1e44323fdd68",
        "deepnote_to_be_reexecuted": false,
        "source_hash": "35e95e0f",
        "execution_start": 1619783136632,
        "execution_millis": 17,
        "deepnote_cell_type": "code"
      },
      "outputs": [],
      "execution_count": 35
    },
    {
      "cell_type": "code",
      "source": "",
      "metadata": {
        "tags": [],
        "cell_id": "00052-845344f8-781c-4132-bd96-9040686ee798",
        "deepnote_cell_type": "code"
      },
      "outputs": [],
      "execution_count": null
    },
    {
      "cell_type": "markdown",
      "source": "<a style='text-decoration:none;line-height:16px;display:flex;color:#5B5B62;padding:10px;justify-content:end;' href='https://deepnote.com?utm_source=created-in-deepnote-cell&projectId=91fc748d-6dfe-4653-b79b-4cbc51a66576' target=\"_blank\">\n<img alt='Created in deepnote.com' style='display:inline;max-height:16px;margin:0px;margin-right:7.5px;' src='data:image/svg+xml;base64,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' > </img>\nCreated in <span style='font-weight:600;margin-left:4px;'>Deepnote</span></a>",
      "metadata": {
        "tags": [],
        "created_in_deepnote_cell": true,
        "deepnote_cell_type": "markdown"
      }
    }
  ],
  "nbformat": 4,
  "nbformat_minor": 2,
  "metadata": {
    "orig_nbformat": 2,
    "deepnote": {
      "is_reactive": false
    },
    "deepnote_notebook_id": "623d497f-0943-4435-8206-d36ee4e84c9e",
    "deepnote_execution_queue": []
  }
}