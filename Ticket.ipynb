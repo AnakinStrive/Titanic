{
  "cells": [
    {
      "cell_type": "code",
      "metadata": {
        "tags": [],
        "cell_id": "00000-e70426f9-c7ec-4116-af69-f0c8ac71fa5b",
        "deepnote_to_be_reexecuted": false,
        "source_hash": "5e71a1f2",
        "execution_start": 1619775501605,
        "execution_millis": 2236,
        "deepnote_cell_type": "code"
      },
      "source": "import pandas as pd\nimport numpy as np\nimport matplotlib.pyplot as plt\nimport seaborn as sns\n%matplotlib inline\nfrom sklearn.datasets import load_breast_cancer\nfrom sklearn.model_selection import train_test_split\nfrom sklearn import svm\nfrom sklearn.metrics import f1_score\nfrom sklearn.metrics import jaccard_score\nfrom sklearn.model_selection import GridSearchCV\nfrom sklearn.metrics import confusion_matrix",
      "execution_count": 1,
      "outputs": []
    },
    {
      "cell_type": "code",
      "source": "train_df=pd.read_csv('/work/Titanic/train.csv')\ntest_df=pd.read_csv('/work/Titanic/test.csv')",
      "metadata": {
        "tags": [],
        "cell_id": "00001-1c6dd087-b53d-4098-93ef-129ede9719d1",
        "deepnote_to_be_reexecuted": false,
        "source_hash": "218b99ea",
        "execution_start": 1619775826337,
        "execution_millis": 0,
        "deepnote_cell_type": "code"
      },
      "outputs": [],
      "execution_count": 2
    },
    {
      "cell_type": "code",
      "source": "train_df.head()",
      "metadata": {
        "tags": [],
        "cell_id": "00002-86394a27-c2e1-4d5d-a1d0-0ead2cd0a0a5",
        "deepnote_to_be_reexecuted": false,
        "source_hash": "b1a8b3e0",
        "execution_start": 1619775840542,
        "execution_millis": 109,
        "deepnote_cell_type": "code"
      },
      "outputs": [
        {
          "output_type": "execute_result",
          "execution_count": 3,
          "data": {
            "application/vnd.deepnote.dataframe.v2+json": {
              "row_count": 5,
              "column_count": 12,
              "columns": [
                {
                  "name": "PassengerId",
                  "dtype": "int64",
                  "stats": {
                    "unique_count": 5,
                    "nan_count": 0,
                    "min": "1",
                    "max": "5",
                    "histogram": [
                      {
                        "bin_start": 1,
                        "bin_end": 1.4,
                        "count": 1
                      },
                      {
                        "bin_start": 1.4,
                        "bin_end": 1.8,
                        "count": 0
                      },
                      {
                        "bin_start": 1.8,
                        "bin_end": 2.2,
                        "count": 1
                      },
                      {
                        "bin_start": 2.2,
                        "bin_end": 2.6,
                        "count": 0
                      },
                      {
                        "bin_start": 2.6,
                        "bin_end": 3,
                        "count": 0
                      },
                      {
                        "bin_start": 3,
                        "bin_end": 3.4000000000000004,
                        "count": 1
                      },
                      {
                        "bin_start": 3.4000000000000004,
                        "bin_end": 3.8000000000000003,
                        "count": 0
                      },
                      {
                        "bin_start": 3.8000000000000003,
                        "bin_end": 4.2,
                        "count": 1
                      },
                      {
                        "bin_start": 4.2,
                        "bin_end": 4.6,
                        "count": 0
                      },
                      {
                        "bin_start": 4.6,
                        "bin_end": 5,
                        "count": 1
                      }
                    ]
                  }
                },
                {
                  "name": "Survived",
                  "dtype": "int64",
                  "stats": {
                    "unique_count": 2,
                    "nan_count": 0,
                    "min": "0",
                    "max": "1",
                    "histogram": [
                      {
                        "bin_start": 0,
                        "bin_end": 0.1,
                        "count": 2
                      },
                      {
                        "bin_start": 0.1,
                        "bin_end": 0.2,
                        "count": 0
                      },
                      {
                        "bin_start": 0.2,
                        "bin_end": 0.30000000000000004,
                        "count": 0
                      },
                      {
                        "bin_start": 0.30000000000000004,
                        "bin_end": 0.4,
                        "count": 0
                      },
                      {
                        "bin_start": 0.4,
                        "bin_end": 0.5,
                        "count": 0
                      },
                      {
                        "bin_start": 0.5,
                        "bin_end": 0.6000000000000001,
                        "count": 0
                      },
                      {
                        "bin_start": 0.6000000000000001,
                        "bin_end": 0.7000000000000001,
                        "count": 0
                      },
                      {
                        "bin_start": 0.7000000000000001,
                        "bin_end": 0.8,
                        "count": 0
                      },
                      {
                        "bin_start": 0.8,
                        "bin_end": 0.9,
                        "count": 0
                      },
                      {
                        "bin_start": 0.9,
                        "bin_end": 1,
                        "count": 3
                      }
                    ]
                  }
                },
                {
                  "name": "Pclass",
                  "dtype": "int64",
                  "stats": {
                    "unique_count": 2,
                    "nan_count": 0,
                    "min": "1",
                    "max": "3",
                    "histogram": [
                      {
                        "bin_start": 1,
                        "bin_end": 1.2,
                        "count": 2
                      },
                      {
                        "bin_start": 1.2,
                        "bin_end": 1.4,
                        "count": 0
                      },
                      {
                        "bin_start": 1.4,
                        "bin_end": 1.6,
                        "count": 0
                      },
                      {
                        "bin_start": 1.6,
                        "bin_end": 1.8,
                        "count": 0
                      },
                      {
                        "bin_start": 1.8,
                        "bin_end": 2,
                        "count": 0
                      },
                      {
                        "bin_start": 2,
                        "bin_end": 2.2,
                        "count": 0
                      },
                      {
                        "bin_start": 2.2,
                        "bin_end": 2.4000000000000004,
                        "count": 0
                      },
                      {
                        "bin_start": 2.4000000000000004,
                        "bin_end": 2.6,
                        "count": 0
                      },
                      {
                        "bin_start": 2.6,
                        "bin_end": 2.8,
                        "count": 0
                      },
                      {
                        "bin_start": 2.8,
                        "bin_end": 3,
                        "count": 3
                      }
                    ]
                  }
                },
                {
                  "name": "Name",
                  "dtype": "object",
                  "stats": {
                    "unique_count": 5,
                    "nan_count": 0,
                    "categories": [
                      {
                        "name": "Braund, Mr. Owen Harris",
                        "count": 1
                      },
                      {
                        "name": "Cumings, Mrs. John Bradley (Florence Briggs Thayer)",
                        "count": 1
                      },
                      {
                        "name": "3 others",
                        "count": 3
                      }
                    ]
                  }
                },
                {
                  "name": "Sex",
                  "dtype": "object",
                  "stats": {
                    "unique_count": 2,
                    "nan_count": 0,
                    "categories": [
                      {
                        "name": "female",
                        "count": 3
                      },
                      {
                        "name": "male",
                        "count": 2
                      }
                    ]
                  }
                },
                {
                  "name": "Age",
                  "dtype": "float64",
                  "stats": {
                    "unique_count": 4,
                    "nan_count": 0,
                    "min": "22.0",
                    "max": "38.0",
                    "histogram": [
                      {
                        "bin_start": 22,
                        "bin_end": 23.6,
                        "count": 1
                      },
                      {
                        "bin_start": 23.6,
                        "bin_end": 25.2,
                        "count": 0
                      },
                      {
                        "bin_start": 25.2,
                        "bin_end": 26.8,
                        "count": 1
                      },
                      {
                        "bin_start": 26.8,
                        "bin_end": 28.4,
                        "count": 0
                      },
                      {
                        "bin_start": 28.4,
                        "bin_end": 30,
                        "count": 0
                      },
                      {
                        "bin_start": 30,
                        "bin_end": 31.6,
                        "count": 0
                      },
                      {
                        "bin_start": 31.6,
                        "bin_end": 33.2,
                        "count": 0
                      },
                      {
                        "bin_start": 33.2,
                        "bin_end": 34.8,
                        "count": 0
                      },
                      {
                        "bin_start": 34.8,
                        "bin_end": 36.4,
                        "count": 2
                      },
                      {
                        "bin_start": 36.4,
                        "bin_end": 38,
                        "count": 1
                      }
                    ]
                  }
                },
                {
                  "name": "SibSp",
                  "dtype": "int64",
                  "stats": {
                    "unique_count": 2,
                    "nan_count": 0,
                    "min": "0",
                    "max": "1",
                    "histogram": [
                      {
                        "bin_start": 0,
                        "bin_end": 0.1,
                        "count": 2
                      },
                      {
                        "bin_start": 0.1,
                        "bin_end": 0.2,
                        "count": 0
                      },
                      {
                        "bin_start": 0.2,
                        "bin_end": 0.30000000000000004,
                        "count": 0
                      },
                      {
                        "bin_start": 0.30000000000000004,
                        "bin_end": 0.4,
                        "count": 0
                      },
                      {
                        "bin_start": 0.4,
                        "bin_end": 0.5,
                        "count": 0
                      },
                      {
                        "bin_start": 0.5,
                        "bin_end": 0.6000000000000001,
                        "count": 0
                      },
                      {
                        "bin_start": 0.6000000000000001,
                        "bin_end": 0.7000000000000001,
                        "count": 0
                      },
                      {
                        "bin_start": 0.7000000000000001,
                        "bin_end": 0.8,
                        "count": 0
                      },
                      {
                        "bin_start": 0.8,
                        "bin_end": 0.9,
                        "count": 0
                      },
                      {
                        "bin_start": 0.9,
                        "bin_end": 1,
                        "count": 3
                      }
                    ]
                  }
                },
                {
                  "name": "Parch",
                  "dtype": "int64",
                  "stats": {
                    "unique_count": 1,
                    "nan_count": 0,
                    "min": "0",
                    "max": "0",
                    "histogram": [
                      {
                        "bin_start": -0.5,
                        "bin_end": -0.4,
                        "count": 0
                      },
                      {
                        "bin_start": -0.4,
                        "bin_end": -0.3,
                        "count": 0
                      },
                      {
                        "bin_start": -0.3,
                        "bin_end": -0.19999999999999996,
                        "count": 0
                      },
                      {
                        "bin_start": -0.19999999999999996,
                        "bin_end": -0.09999999999999998,
                        "count": 0
                      },
                      {
                        "bin_start": -0.09999999999999998,
                        "bin_end": 0,
                        "count": 0
                      },
                      {
                        "bin_start": 0,
                        "bin_end": 0.10000000000000009,
                        "count": 5
                      },
                      {
                        "bin_start": 0.10000000000000009,
                        "bin_end": 0.20000000000000007,
                        "count": 0
                      },
                      {
                        "bin_start": 0.20000000000000007,
                        "bin_end": 0.30000000000000004,
                        "count": 0
                      },
                      {
                        "bin_start": 0.30000000000000004,
                        "bin_end": 0.4,
                        "count": 0
                      },
                      {
                        "bin_start": 0.4,
                        "bin_end": 0.5,
                        "count": 0
                      }
                    ]
                  }
                },
                {
                  "name": "Ticket",
                  "dtype": "object",
                  "stats": {
                    "unique_count": 5,
                    "nan_count": 0,
                    "categories": [
                      {
                        "name": "A/5 21171",
                        "count": 1
                      },
                      {
                        "name": "PC 17599",
                        "count": 1
                      },
                      {
                        "name": "3 others",
                        "count": 3
                      }
                    ]
                  }
                },
                {
                  "name": "Fare",
                  "dtype": "float64",
                  "stats": {
                    "unique_count": 5,
                    "nan_count": 0,
                    "min": "7.25",
                    "max": "71.2833",
                    "histogram": [
                      {
                        "bin_start": 7.25,
                        "bin_end": 13.65333,
                        "count": 3
                      },
                      {
                        "bin_start": 13.65333,
                        "bin_end": 20.05666,
                        "count": 0
                      },
                      {
                        "bin_start": 20.05666,
                        "bin_end": 26.459989999999998,
                        "count": 0
                      },
                      {
                        "bin_start": 26.459989999999998,
                        "bin_end": 32.86332,
                        "count": 0
                      },
                      {
                        "bin_start": 32.86332,
                        "bin_end": 39.26665,
                        "count": 0
                      },
                      {
                        "bin_start": 39.26665,
                        "bin_end": 45.669979999999995,
                        "count": 0
                      },
                      {
                        "bin_start": 45.669979999999995,
                        "bin_end": 52.07331,
                        "count": 0
                      },
                      {
                        "bin_start": 52.07331,
                        "bin_end": 58.476639999999996,
                        "count": 1
                      },
                      {
                        "bin_start": 58.476639999999996,
                        "bin_end": 64.87996999999999,
                        "count": 0
                      },
                      {
                        "bin_start": 64.87996999999999,
                        "bin_end": 71.2833,
                        "count": 1
                      }
                    ]
                  }
                },
                {
                  "name": "Cabin",
                  "dtype": "object",
                  "stats": {
                    "unique_count": 2,
                    "nan_count": 3,
                    "categories": [
                      {
                        "name": "C85",
                        "count": 1
                      },
                      {
                        "name": "C123",
                        "count": 1
                      },
                      {
                        "name": "Missing",
                        "count": 3
                      }
                    ]
                  }
                },
                {
                  "name": "Embarked",
                  "dtype": "object",
                  "stats": {
                    "unique_count": 2,
                    "nan_count": 0,
                    "categories": [
                      {
                        "name": "S",
                        "count": 4
                      },
                      {
                        "name": "C",
                        "count": 1
                      }
                    ]
                  }
                },
                {
                  "name": "_deepnote_index_column",
                  "dtype": "int64"
                }
              ],
              "rows_top": [
                {
                  "PassengerId": 1,
                  "Survived": 0,
                  "Pclass": 3,
                  "Name": "Braund, Mr. Owen Harris",
                  "Sex": "male",
                  "Age": 22,
                  "SibSp": 1,
                  "Parch": 0,
                  "Ticket": "A/5 21171",
                  "Fare": 7.25,
                  "Cabin": "nan",
                  "Embarked": "S",
                  "_deepnote_index_column": 0
                },
                {
                  "PassengerId": 2,
                  "Survived": 1,
                  "Pclass": 1,
                  "Name": "Cumings, Mrs. John Bradley (Florence Briggs Thayer)",
                  "Sex": "female",
                  "Age": 38,
                  "SibSp": 1,
                  "Parch": 0,
                  "Ticket": "PC 17599",
                  "Fare": 71.2833,
                  "Cabin": "C85",
                  "Embarked": "C",
                  "_deepnote_index_column": 1
                },
                {
                  "PassengerId": 3,
                  "Survived": 1,
                  "Pclass": 3,
                  "Name": "Heikkinen, Miss. Laina",
                  "Sex": "female",
                  "Age": 26,
                  "SibSp": 0,
                  "Parch": 0,
                  "Ticket": "STON/O2. 3101282",
                  "Fare": 7.925,
                  "Cabin": "nan",
                  "Embarked": "S",
                  "_deepnote_index_column": 2
                },
                {
                  "PassengerId": 4,
                  "Survived": 1,
                  "Pclass": 1,
                  "Name": "Futrelle, Mrs. Jacques Heath (Lily May Peel)",
                  "Sex": "female",
                  "Age": 35,
                  "SibSp": 1,
                  "Parch": 0,
                  "Ticket": "113803",
                  "Fare": 53.1,
                  "Cabin": "C123",
                  "Embarked": "S",
                  "_deepnote_index_column": 3
                },
                {
                  "PassengerId": 5,
                  "Survived": 0,
                  "Pclass": 3,
                  "Name": "Allen, Mr. William Henry",
                  "Sex": "male",
                  "Age": 35,
                  "SibSp": 0,
                  "Parch": 0,
                  "Ticket": "373450",
                  "Fare": 8.05,
                  "Cabin": "nan",
                  "Embarked": "S",
                  "_deepnote_index_column": 4
                }
              ],
              "rows_bottom": null
            },
            "text/plain": "   PassengerId  Survived  Pclass  \\\n0            1         0       3   \n1            2         1       1   \n2            3         1       3   \n3            4         1       1   \n4            5         0       3   \n\n                                                Name     Sex   Age  SibSp  \\\n0                            Braund, Mr. Owen Harris    male  22.0      1   \n1  Cumings, Mrs. John Bradley (Florence Briggs Th...  female  38.0      1   \n2                             Heikkinen, Miss. Laina  female  26.0      0   \n3       Futrelle, Mrs. Jacques Heath (Lily May Peel)  female  35.0      1   \n4                           Allen, Mr. William Henry    male  35.0      0   \n\n   Parch            Ticket     Fare Cabin Embarked  \n0      0         A/5 21171   7.2500   NaN        S  \n1      0          PC 17599  71.2833   C85        C  \n2      0  STON/O2. 3101282   7.9250   NaN        S  \n3      0            113803  53.1000  C123        S  \n4      0            373450   8.0500   NaN        S  ",
            "text/html": "<div>\n<style scoped>\n    .dataframe tbody tr th:only-of-type {\n        vertical-align: middle;\n    }\n\n    .dataframe tbody tr th {\n        vertical-align: top;\n    }\n\n    .dataframe thead th {\n        text-align: right;\n    }\n</style>\n<table border=\"1\" class=\"dataframe\">\n  <thead>\n    <tr style=\"text-align: right;\">\n      <th></th>\n      <th>PassengerId</th>\n      <th>Survived</th>\n      <th>Pclass</th>\n      <th>Name</th>\n      <th>Sex</th>\n      <th>Age</th>\n      <th>SibSp</th>\n      <th>Parch</th>\n      <th>Ticket</th>\n      <th>Fare</th>\n      <th>Cabin</th>\n      <th>Embarked</th>\n    </tr>\n  </thead>\n  <tbody>\n    <tr>\n      <th>0</th>\n      <td>1</td>\n      <td>0</td>\n      <td>3</td>\n      <td>Braund, Mr. Owen Harris</td>\n      <td>male</td>\n      <td>22.0</td>\n      <td>1</td>\n      <td>0</td>\n      <td>A/5 21171</td>\n      <td>7.2500</td>\n      <td>NaN</td>\n      <td>S</td>\n    </tr>\n    <tr>\n      <th>1</th>\n      <td>2</td>\n      <td>1</td>\n      <td>1</td>\n      <td>Cumings, Mrs. John Bradley (Florence Briggs Th...</td>\n      <td>female</td>\n      <td>38.0</td>\n      <td>1</td>\n      <td>0</td>\n      <td>PC 17599</td>\n      <td>71.2833</td>\n      <td>C85</td>\n      <td>C</td>\n    </tr>\n    <tr>\n      <th>2</th>\n      <td>3</td>\n      <td>1</td>\n      <td>3</td>\n      <td>Heikkinen, Miss. Laina</td>\n      <td>female</td>\n      <td>26.0</td>\n      <td>0</td>\n      <td>0</td>\n      <td>STON/O2. 3101282</td>\n      <td>7.9250</td>\n      <td>NaN</td>\n      <td>S</td>\n    </tr>\n    <tr>\n      <th>3</th>\n      <td>4</td>\n      <td>1</td>\n      <td>1</td>\n      <td>Futrelle, Mrs. Jacques Heath (Lily May Peel)</td>\n      <td>female</td>\n      <td>35.0</td>\n      <td>1</td>\n      <td>0</td>\n      <td>113803</td>\n      <td>53.1000</td>\n      <td>C123</td>\n      <td>S</td>\n    </tr>\n    <tr>\n      <th>4</th>\n      <td>5</td>\n      <td>0</td>\n      <td>3</td>\n      <td>Allen, Mr. William Henry</td>\n      <td>male</td>\n      <td>35.0</td>\n      <td>0</td>\n      <td>0</td>\n      <td>373450</td>\n      <td>8.0500</td>\n      <td>NaN</td>\n      <td>S</td>\n    </tr>\n  </tbody>\n</table>\n</div>"
          },
          "metadata": {}
        }
      ],
      "execution_count": 3
    },
    {
      "cell_type": "code",
      "source": "train_df.describe()",
      "metadata": {
        "tags": [],
        "cell_id": "00003-29bd86c8-1cca-41de-818f-75d9ec4ae2b7",
        "deepnote_to_be_reexecuted": false,
        "source_hash": "7fd5b85f",
        "execution_start": 1619775899420,
        "execution_millis": 135,
        "deepnote_cell_type": "code"
      },
      "outputs": [
        {
          "output_type": "execute_result",
          "execution_count": 4,
          "data": {
            "application/vnd.deepnote.dataframe.v2+json": {
              "row_count": 8,
              "column_count": 7,
              "columns": [
                {
                  "name": "PassengerId",
                  "dtype": "float64",
                  "stats": {
                    "unique_count": 6,
                    "nan_count": 0,
                    "min": "1.0",
                    "max": "891.0",
                    "histogram": [
                      {
                        "bin_start": 1,
                        "bin_end": 90,
                        "count": 1
                      },
                      {
                        "bin_start": 90,
                        "bin_end": 179,
                        "count": 0
                      },
                      {
                        "bin_start": 179,
                        "bin_end": 268,
                        "count": 2
                      },
                      {
                        "bin_start": 268,
                        "bin_end": 357,
                        "count": 0
                      },
                      {
                        "bin_start": 357,
                        "bin_end": 446,
                        "count": 0
                      },
                      {
                        "bin_start": 446,
                        "bin_end": 535,
                        "count": 2
                      },
                      {
                        "bin_start": 535,
                        "bin_end": 624,
                        "count": 0
                      },
                      {
                        "bin_start": 624,
                        "bin_end": 713,
                        "count": 1
                      },
                      {
                        "bin_start": 713,
                        "bin_end": 802,
                        "count": 0
                      },
                      {
                        "bin_start": 802,
                        "bin_end": 891,
                        "count": 2
                      }
                    ]
                  }
                },
                {
                  "name": "Survived",
                  "dtype": "float64",
                  "stats": {
                    "unique_count": 5,
                    "nan_count": 0,
                    "min": "0.0",
                    "max": "891.0",
                    "histogram": [
                      {
                        "bin_start": 0,
                        "bin_end": 89.1,
                        "count": 7
                      },
                      {
                        "bin_start": 89.1,
                        "bin_end": 178.2,
                        "count": 0
                      },
                      {
                        "bin_start": 178.2,
                        "bin_end": 267.29999999999995,
                        "count": 0
                      },
                      {
                        "bin_start": 267.29999999999995,
                        "bin_end": 356.4,
                        "count": 0
                      },
                      {
                        "bin_start": 356.4,
                        "bin_end": 445.5,
                        "count": 0
                      },
                      {
                        "bin_start": 445.5,
                        "bin_end": 534.5999999999999,
                        "count": 0
                      },
                      {
                        "bin_start": 534.5999999999999,
                        "bin_end": 623.6999999999999,
                        "count": 0
                      },
                      {
                        "bin_start": 623.6999999999999,
                        "bin_end": 712.8,
                        "count": 0
                      },
                      {
                        "bin_start": 712.8,
                        "bin_end": 801.9,
                        "count": 0
                      },
                      {
                        "bin_start": 801.9,
                        "bin_end": 891,
                        "count": 1
                      }
                    ]
                  }
                },
                {
                  "name": "Pclass",
                  "dtype": "float64",
                  "stats": {
                    "unique_count": 6,
                    "nan_count": 0,
                    "min": "0.836071240977049",
                    "max": "891.0",
                    "histogram": [
                      {
                        "bin_start": 0.836071240977049,
                        "bin_end": 89.85246411687935,
                        "count": 7
                      },
                      {
                        "bin_start": 89.85246411687935,
                        "bin_end": 178.86885699278164,
                        "count": 0
                      },
                      {
                        "bin_start": 178.86885699278164,
                        "bin_end": 267.88524986868396,
                        "count": 0
                      },
                      {
                        "bin_start": 267.88524986868396,
                        "bin_end": 356.90164274458624,
                        "count": 0
                      },
                      {
                        "bin_start": 356.90164274458624,
                        "bin_end": 445.9180356204885,
                        "count": 0
                      },
                      {
                        "bin_start": 445.9180356204885,
                        "bin_end": 534.9344284963909,
                        "count": 0
                      },
                      {
                        "bin_start": 534.9344284963909,
                        "bin_end": 623.9508213722931,
                        "count": 0
                      },
                      {
                        "bin_start": 623.9508213722931,
                        "bin_end": 712.9672142481954,
                        "count": 0
                      },
                      {
                        "bin_start": 712.9672142481954,
                        "bin_end": 801.9836071240977,
                        "count": 0
                      },
                      {
                        "bin_start": 801.9836071240977,
                        "bin_end": 891,
                        "count": 1
                      }
                    ]
                  }
                },
                {
                  "name": "Age",
                  "dtype": "float64",
                  "stats": {
                    "unique_count": 8,
                    "nan_count": 0,
                    "min": "0.42",
                    "max": "714.0",
                    "histogram": [
                      {
                        "bin_start": 0.42,
                        "bin_end": 71.778,
                        "count": 6
                      },
                      {
                        "bin_start": 71.778,
                        "bin_end": 143.136,
                        "count": 1
                      },
                      {
                        "bin_start": 143.136,
                        "bin_end": 214.494,
                        "count": 0
                      },
                      {
                        "bin_start": 214.494,
                        "bin_end": 285.85200000000003,
                        "count": 0
                      },
                      {
                        "bin_start": 285.85200000000003,
                        "bin_end": 357.21000000000004,
                        "count": 0
                      },
                      {
                        "bin_start": 357.21000000000004,
                        "bin_end": 428.56800000000004,
                        "count": 0
                      },
                      {
                        "bin_start": 428.56800000000004,
                        "bin_end": 499.92600000000004,
                        "count": 0
                      },
                      {
                        "bin_start": 499.92600000000004,
                        "bin_end": 571.284,
                        "count": 0
                      },
                      {
                        "bin_start": 571.284,
                        "bin_end": 642.6419999999999,
                        "count": 0
                      },
                      {
                        "bin_start": 642.6419999999999,
                        "bin_end": 714,
                        "count": 1
                      }
                    ]
                  }
                },
                {
                  "name": "SibSp",
                  "dtype": "float64",
                  "stats": {
                    "unique_count": 6,
                    "nan_count": 0,
                    "min": "0.0",
                    "max": "891.0",
                    "histogram": [
                      {
                        "bin_start": 0,
                        "bin_end": 89.1,
                        "count": 7
                      },
                      {
                        "bin_start": 89.1,
                        "bin_end": 178.2,
                        "count": 0
                      },
                      {
                        "bin_start": 178.2,
                        "bin_end": 267.29999999999995,
                        "count": 0
                      },
                      {
                        "bin_start": 267.29999999999995,
                        "bin_end": 356.4,
                        "count": 0
                      },
                      {
                        "bin_start": 356.4,
                        "bin_end": 445.5,
                        "count": 0
                      },
                      {
                        "bin_start": 445.5,
                        "bin_end": 534.5999999999999,
                        "count": 0
                      },
                      {
                        "bin_start": 534.5999999999999,
                        "bin_end": 623.6999999999999,
                        "count": 0
                      },
                      {
                        "bin_start": 623.6999999999999,
                        "bin_end": 712.8,
                        "count": 0
                      },
                      {
                        "bin_start": 712.8,
                        "bin_end": 801.9,
                        "count": 0
                      },
                      {
                        "bin_start": 801.9,
                        "bin_end": 891,
                        "count": 1
                      }
                    ]
                  }
                },
                {
                  "name": "Parch",
                  "dtype": "float64",
                  "stats": {
                    "unique_count": 5,
                    "nan_count": 0,
                    "min": "0.0",
                    "max": "891.0",
                    "histogram": [
                      {
                        "bin_start": 0,
                        "bin_end": 89.1,
                        "count": 7
                      },
                      {
                        "bin_start": 89.1,
                        "bin_end": 178.2,
                        "count": 0
                      },
                      {
                        "bin_start": 178.2,
                        "bin_end": 267.29999999999995,
                        "count": 0
                      },
                      {
                        "bin_start": 267.29999999999995,
                        "bin_end": 356.4,
                        "count": 0
                      },
                      {
                        "bin_start": 356.4,
                        "bin_end": 445.5,
                        "count": 0
                      },
                      {
                        "bin_start": 445.5,
                        "bin_end": 534.5999999999999,
                        "count": 0
                      },
                      {
                        "bin_start": 534.5999999999999,
                        "bin_end": 623.6999999999999,
                        "count": 0
                      },
                      {
                        "bin_start": 623.6999999999999,
                        "bin_end": 712.8,
                        "count": 0
                      },
                      {
                        "bin_start": 712.8,
                        "bin_end": 801.9,
                        "count": 0
                      },
                      {
                        "bin_start": 801.9,
                        "bin_end": 891,
                        "count": 1
                      }
                    ]
                  }
                },
                {
                  "name": "Fare",
                  "dtype": "float64",
                  "stats": {
                    "unique_count": 8,
                    "nan_count": 0,
                    "min": "0.0",
                    "max": "891.0",
                    "histogram": [
                      {
                        "bin_start": 0,
                        "bin_end": 89.1,
                        "count": 6
                      },
                      {
                        "bin_start": 89.1,
                        "bin_end": 178.2,
                        "count": 0
                      },
                      {
                        "bin_start": 178.2,
                        "bin_end": 267.29999999999995,
                        "count": 0
                      },
                      {
                        "bin_start": 267.29999999999995,
                        "bin_end": 356.4,
                        "count": 0
                      },
                      {
                        "bin_start": 356.4,
                        "bin_end": 445.5,
                        "count": 0
                      },
                      {
                        "bin_start": 445.5,
                        "bin_end": 534.5999999999999,
                        "count": 1
                      },
                      {
                        "bin_start": 534.5999999999999,
                        "bin_end": 623.6999999999999,
                        "count": 0
                      },
                      {
                        "bin_start": 623.6999999999999,
                        "bin_end": 712.8,
                        "count": 0
                      },
                      {
                        "bin_start": 712.8,
                        "bin_end": 801.9,
                        "count": 0
                      },
                      {
                        "bin_start": 801.9,
                        "bin_end": 891,
                        "count": 1
                      }
                    ]
                  }
                },
                {
                  "name": "_deepnote_index_column",
                  "dtype": "object"
                }
              ],
              "rows_top": [
                {
                  "PassengerId": 891,
                  "Survived": 891,
                  "Pclass": 891,
                  "Age": 714,
                  "SibSp": 891,
                  "Parch": 891,
                  "Fare": 891,
                  "_deepnote_index_column": "count"
                },
                {
                  "PassengerId": 446,
                  "Survived": 0.3838383838383838,
                  "Pclass": 2.308641975308642,
                  "Age": 29.69911764705882,
                  "SibSp": 0.5230078563411896,
                  "Parch": 0.38159371492704824,
                  "Fare": 32.204207968574636,
                  "_deepnote_index_column": "mean"
                },
                {
                  "PassengerId": 257.3538420152301,
                  "Survived": 0.4865924542648575,
                  "Pclass": 0.836071240977049,
                  "Age": 14.526497332334042,
                  "SibSp": 1.1027434322934317,
                  "Parch": 0.8060572211299483,
                  "Fare": 49.6934285971809,
                  "_deepnote_index_column": "std"
                },
                {
                  "PassengerId": 1,
                  "Survived": 0,
                  "Pclass": 1,
                  "Age": 0.42,
                  "SibSp": 0,
                  "Parch": 0,
                  "Fare": 0,
                  "_deepnote_index_column": "min"
                },
                {
                  "PassengerId": 223.5,
                  "Survived": 0,
                  "Pclass": 2,
                  "Age": 20.125,
                  "SibSp": 0,
                  "Parch": 0,
                  "Fare": 7.9104,
                  "_deepnote_index_column": "25%"
                },
                {
                  "PassengerId": 446,
                  "Survived": 0,
                  "Pclass": 3,
                  "Age": 28,
                  "SibSp": 0,
                  "Parch": 0,
                  "Fare": 14.4542,
                  "_deepnote_index_column": "50%"
                },
                {
                  "PassengerId": 668.5,
                  "Survived": 1,
                  "Pclass": 3,
                  "Age": 38,
                  "SibSp": 1,
                  "Parch": 0,
                  "Fare": 31,
                  "_deepnote_index_column": "75%"
                },
                {
                  "PassengerId": 891,
                  "Survived": 1,
                  "Pclass": 3,
                  "Age": 80,
                  "SibSp": 8,
                  "Parch": 6,
                  "Fare": 512.3292,
                  "_deepnote_index_column": "max"
                }
              ],
              "rows_bottom": null
            },
            "text/plain": "       PassengerId    Survived      Pclass         Age       SibSp  \\\ncount   891.000000  891.000000  891.000000  714.000000  891.000000   \nmean    446.000000    0.383838    2.308642   29.699118    0.523008   \nstd     257.353842    0.486592    0.836071   14.526497    1.102743   \nmin       1.000000    0.000000    1.000000    0.420000    0.000000   \n25%     223.500000    0.000000    2.000000   20.125000    0.000000   \n50%     446.000000    0.000000    3.000000   28.000000    0.000000   \n75%     668.500000    1.000000    3.000000   38.000000    1.000000   \nmax     891.000000    1.000000    3.000000   80.000000    8.000000   \n\n            Parch        Fare  \ncount  891.000000  891.000000  \nmean     0.381594   32.204208  \nstd      0.806057   49.693429  \nmin      0.000000    0.000000  \n25%      0.000000    7.910400  \n50%      0.000000   14.454200  \n75%      0.000000   31.000000  \nmax      6.000000  512.329200  ",
            "text/html": "<div>\n<style scoped>\n    .dataframe tbody tr th:only-of-type {\n        vertical-align: middle;\n    }\n\n    .dataframe tbody tr th {\n        vertical-align: top;\n    }\n\n    .dataframe thead th {\n        text-align: right;\n    }\n</style>\n<table border=\"1\" class=\"dataframe\">\n  <thead>\n    <tr style=\"text-align: right;\">\n      <th></th>\n      <th>PassengerId</th>\n      <th>Survived</th>\n      <th>Pclass</th>\n      <th>Age</th>\n      <th>SibSp</th>\n      <th>Parch</th>\n      <th>Fare</th>\n    </tr>\n  </thead>\n  <tbody>\n    <tr>\n      <th>count</th>\n      <td>891.000000</td>\n      <td>891.000000</td>\n      <td>891.000000</td>\n      <td>714.000000</td>\n      <td>891.000000</td>\n      <td>891.000000</td>\n      <td>891.000000</td>\n    </tr>\n    <tr>\n      <th>mean</th>\n      <td>446.000000</td>\n      <td>0.383838</td>\n      <td>2.308642</td>\n      <td>29.699118</td>\n      <td>0.523008</td>\n      <td>0.381594</td>\n      <td>32.204208</td>\n    </tr>\n    <tr>\n      <th>std</th>\n      <td>257.353842</td>\n      <td>0.486592</td>\n      <td>0.836071</td>\n      <td>14.526497</td>\n      <td>1.102743</td>\n      <td>0.806057</td>\n      <td>49.693429</td>\n    </tr>\n    <tr>\n      <th>min</th>\n      <td>1.000000</td>\n      <td>0.000000</td>\n      <td>1.000000</td>\n      <td>0.420000</td>\n      <td>0.000000</td>\n      <td>0.000000</td>\n      <td>0.000000</td>\n    </tr>\n    <tr>\n      <th>25%</th>\n      <td>223.500000</td>\n      <td>0.000000</td>\n      <td>2.000000</td>\n      <td>20.125000</td>\n      <td>0.000000</td>\n      <td>0.000000</td>\n      <td>7.910400</td>\n    </tr>\n    <tr>\n      <th>50%</th>\n      <td>446.000000</td>\n      <td>0.000000</td>\n      <td>3.000000</td>\n      <td>28.000000</td>\n      <td>0.000000</td>\n      <td>0.000000</td>\n      <td>14.454200</td>\n    </tr>\n    <tr>\n      <th>75%</th>\n      <td>668.500000</td>\n      <td>1.000000</td>\n      <td>3.000000</td>\n      <td>38.000000</td>\n      <td>1.000000</td>\n      <td>0.000000</td>\n      <td>31.000000</td>\n    </tr>\n    <tr>\n      <th>max</th>\n      <td>891.000000</td>\n      <td>1.000000</td>\n      <td>3.000000</td>\n      <td>80.000000</td>\n      <td>8.000000</td>\n      <td>6.000000</td>\n      <td>512.329200</td>\n    </tr>\n  </tbody>\n</table>\n</div>"
          },
          "metadata": {}
        }
      ],
      "execution_count": 4
    },
    {
      "cell_type": "markdown",
      "source": "<a style='text-decoration:none;line-height:16px;display:flex;color:#5B5B62;padding:10px;justify-content:end;' href='https://deepnote.com?utm_source=created-in-deepnote-cell&projectId=91fc748d-6dfe-4653-b79b-4cbc51a66576' target=\"_blank\">\n<img alt='Created in deepnote.com' style='display:inline;max-height:16px;margin:0px;margin-right:7.5px;' src='data:image/svg+xml;base64,PD94bWwgdmVyc2lvbj0iMS4wIiBlbmNvZGluZz0iVVRGLTgiPz4KPHN2ZyB3aWR0aD0iODBweCIgaGVpZ2h0PSI4MHB4IiB2aWV3Qm94PSIwIDAgODAgODAiIHZlcnNpb249IjEuMSIgeG1sbnM9Imh0dHA6Ly93d3cudzMub3JnLzIwMDAvc3ZnIiB4bWxuczp4bGluaz0iaHR0cDovL3d3dy53My5vcmcvMTk5OS94bGluayI+CiAgICA8IS0tIEdlbmVyYXRvcjogU2tldGNoIDU0LjEgKDc2NDkwKSAtIGh0dHBzOi8vc2tldGNoYXBwLmNvbSAtLT4KICAgIDx0aXRsZT5Hcm91cCAzPC90aXRsZT4KICAgIDxkZXNjPkNyZWF0ZWQgd2l0aCBTa2V0Y2guPC9kZXNjPgogICAgPGcgaWQ9IkxhbmRpbmciIHN0cm9rZT0ibm9uZSIgc3Ryb2tlLXdpZHRoPSIxIiBmaWxsPSJub25lIiBmaWxsLXJ1bGU9ImV2ZW5vZGQiPgogICAgICAgIDxnIGlkPSJBcnRib2FyZCIgdHJhbnNmb3JtPSJ0cmFuc2xhdGUoLTEyMzUuMDAwMDAwLCAtNzkuMDAwMDAwKSI+CiAgICAgICAgICAgIDxnIGlkPSJHcm91cC0zIiB0cmFuc2Zvcm09InRyYW5zbGF0ZSgxMjM1LjAwMDAwMCwgNzkuMDAwMDAwKSI+CiAgICAgICAgICAgICAgICA8cG9seWdvbiBpZD0iUGF0aC0yMCIgZmlsbD0iIzAyNjVCNCIgcG9pbnRzPSIyLjM3NjIzNzYyIDgwIDM4LjA0NzY2NjcgODAgNTcuODIxNzgyMiA3My44MDU3NTkyIDU3LjgyMTc4MjIgMzIuNzU5MjczOSAzOS4xNDAyMjc4IDMxLjY4MzE2ODMiPjwvcG9seWdvbj4KICAgICAgICAgICAgICAgIDxwYXRoIGQ9Ik0zNS4wMDc3MTgsODAgQzQyLjkwNjIwMDcsNzYuNDU0OTM1OCA0Ny41NjQ5MTY3LDcxLjU0MjI2NzEgNDguOTgzODY2LDY1LjI2MTk5MzkgQzUxLjExMjI4OTksNTUuODQxNTg0MiA0MS42NzcxNzk1LDQ5LjIxMjIyODQgMjUuNjIzOTg0Niw0OS4yMTIyMjg0IEMyNS40ODQ5Mjg5LDQ5LjEyNjg0NDggMjkuODI2MTI5Niw0My4yODM4MjQ4IDM4LjY0NzU4NjksMzEuNjgzMTY4MyBMNzIuODcxMjg3MSwzMi41NTQ0MjUgTDY1LjI4MDk3Myw2Ny42NzYzNDIxIEw1MS4xMTIyODk5LDc3LjM3NjE0NCBMMzUuMDA3NzE4LDgwIFoiIGlkPSJQYXRoLTIyIiBmaWxsPSIjMDAyODY4Ij48L3BhdGg+CiAgICAgICAgICAgICAgICA8cGF0aCBkPSJNMCwzNy43MzA0NDA1IEwyNy4xMTQ1MzcsMC4yNTcxMTE0MzYgQzYyLjM3MTUxMjMsLTEuOTkwNzE3MDEgODAsMTAuNTAwMzkyNyA4MCwzNy43MzA0NDA1IEM4MCw2NC45NjA0ODgyIDY0Ljc3NjUwMzgsNzkuMDUwMzQxNCAzNC4zMjk1MTEzLDgwIEM0Ny4wNTUzNDg5LDc3LjU2NzA4MDggNTMuNDE4MjY3Nyw3MC4zMTM2MTAzIDUzLjQxODI2NzcsNTguMjM5NTg4NSBDNTMuNDE4MjY3Nyw0MC4xMjg1NTU3IDM2LjMwMzk1NDQsMzcuNzMwNDQwNSAyNS4yMjc0MTcsMzcuNzMwNDQwNSBDMTcuODQzMDU4NiwzNy43MzA0NDA1IDkuNDMzOTE5NjYsMzcuNzMwNDQwNSAwLDM3LjczMDQ0MDUgWiIgaWQ9IlBhdGgtMTkiIGZpbGw9IiMzNzkzRUYiPjwvcGF0aD4KICAgICAgICAgICAgPC9nPgogICAgICAgIDwvZz4KICAgIDwvZz4KPC9zdmc+' > </img>\nCreated in <span style='font-weight:600;margin-left:4px;'>Deepnote</span></a>",
      "metadata": {
        "tags": [],
        "created_in_deepnote_cell": true,
        "deepnote_cell_type": "markdown"
      }
    }
  ],
  "nbformat": 4,
  "nbformat_minor": 2,
  "metadata": {
    "orig_nbformat": 2,
    "deepnote": {
      "is_reactive": false
    },
    "deepnote_notebook_id": "b50a2467-28fc-48f7-90cd-191d48b31239",
    "deepnote_execution_queue": []
  }
}